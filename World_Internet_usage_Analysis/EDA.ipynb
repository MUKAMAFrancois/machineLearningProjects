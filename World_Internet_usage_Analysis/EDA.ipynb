{
 "cells": [
  {
   "cell_type": "markdown",
   "metadata": {},
   "source": [
    "### 1. Importing necessary Libraries"
   ]
  },
  {
   "cell_type": "code",
   "execution_count": null,
   "metadata": {},
   "outputs": [],
   "source": [
    "import pandas as pd\n",
    "import numpy as np\n",
    "from matplotlib import pyplot as plt\n",
    "import plotly.express as px\n",
    "import plotly.graph_objects as go\n",
    "import warnings\n",
    "warnings.filterwarnings(\"ignore\")"
   ]
  },
  {
   "cell_type": "markdown",
   "metadata": {},
   "source": [
    "### 2. Load the data"
   ]
  },
  {
   "cell_type": "code",
   "execution_count": 2,
   "metadata": {},
   "outputs": [
    {
     "data": {
      "text/html": [
       "<div>\n",
       "<style scoped>\n",
       "    .dataframe tbody tr th:only-of-type {\n",
       "        vertical-align: middle;\n",
       "    }\n",
       "\n",
       "    .dataframe tbody tr th {\n",
       "        vertical-align: top;\n",
       "    }\n",
       "\n",
       "    .dataframe thead th {\n",
       "        text-align: right;\n",
       "    }\n",
       "</style>\n",
       "<table border=\"1\" class=\"dataframe\">\n",
       "  <thead>\n",
       "    <tr style=\"text-align: right;\">\n",
       "      <th></th>\n",
       "      <th>Region/Country/Area</th>\n",
       "      <th>Unnamed: 1</th>\n",
       "      <th>Year</th>\n",
       "      <th>Series</th>\n",
       "      <th>Value</th>\n",
       "      <th>Footnotes</th>\n",
       "      <th>Source</th>\n",
       "    </tr>\n",
       "  </thead>\n",
       "  <tbody>\n",
       "    <tr>\n",
       "      <th>0</th>\n",
       "      <td>1</td>\n",
       "      <td>Total, all countries or areas</td>\n",
       "      <td>2000</td>\n",
       "      <td>Percentage of individuals using the internet</td>\n",
       "      <td>5.3</td>\n",
       "      <td>NaN</td>\n",
       "      <td>International Telecommunication Union (ITU), G...</td>\n",
       "    </tr>\n",
       "    <tr>\n",
       "      <th>1</th>\n",
       "      <td>1</td>\n",
       "      <td>Total, all countries or areas</td>\n",
       "      <td>2005</td>\n",
       "      <td>Percentage of individuals using the internet</td>\n",
       "      <td>15.6</td>\n",
       "      <td>NaN</td>\n",
       "      <td>International Telecommunication Union (ITU), G...</td>\n",
       "    </tr>\n",
       "    <tr>\n",
       "      <th>2</th>\n",
       "      <td>1</td>\n",
       "      <td>Total, all countries or areas</td>\n",
       "      <td>2010</td>\n",
       "      <td>Percentage of individuals using the internet</td>\n",
       "      <td>28.5</td>\n",
       "      <td>NaN</td>\n",
       "      <td>International Telecommunication Union (ITU), G...</td>\n",
       "    </tr>\n",
       "    <tr>\n",
       "      <th>3</th>\n",
       "      <td>1</td>\n",
       "      <td>Total, all countries or areas</td>\n",
       "      <td>2015</td>\n",
       "      <td>Percentage of individuals using the internet</td>\n",
       "      <td>40.0</td>\n",
       "      <td>NaN</td>\n",
       "      <td>International Telecommunication Union (ITU), G...</td>\n",
       "    </tr>\n",
       "    <tr>\n",
       "      <th>4</th>\n",
       "      <td>1</td>\n",
       "      <td>Total, all countries or areas</td>\n",
       "      <td>2019</td>\n",
       "      <td>Percentage of individuals using the internet</td>\n",
       "      <td>53.7</td>\n",
       "      <td>NaN</td>\n",
       "      <td>International Telecommunication Union (ITU), G...</td>\n",
       "    </tr>\n",
       "  </tbody>\n",
       "</table>\n",
       "</div>"
      ],
      "text/plain": [
       "   Region/Country/Area                     Unnamed: 1  Year  \\\n",
       "0                    1  Total, all countries or areas  2000   \n",
       "1                    1  Total, all countries or areas  2005   \n",
       "2                    1  Total, all countries or areas  2010   \n",
       "3                    1  Total, all countries or areas  2015   \n",
       "4                    1  Total, all countries or areas  2019   \n",
       "\n",
       "                                         Series  Value Footnotes  \\\n",
       "0  Percentage of individuals using the internet    5.3       NaN   \n",
       "1  Percentage of individuals using the internet   15.6       NaN   \n",
       "2  Percentage of individuals using the internet   28.5       NaN   \n",
       "3  Percentage of individuals using the internet   40.0       NaN   \n",
       "4  Percentage of individuals using the internet   53.7       NaN   \n",
       "\n",
       "                                              Source  \n",
       "0  International Telecommunication Union (ITU), G...  \n",
       "1  International Telecommunication Union (ITU), G...  \n",
       "2  International Telecommunication Union (ITU), G...  \n",
       "3  International Telecommunication Union (ITU), G...  \n",
       "4  International Telecommunication Union (ITU), G...  "
      ]
     },
     "execution_count": 2,
     "metadata": {},
     "output_type": "execute_result"
    }
   ],
   "source": [
    "#If loading the dataset remotely\n",
    "url = \"https://data.un.org/_Docs/SYB/CSV/SYB66_314_202310_Internet%20Usage.csv\"\n",
    "internet_usage = pd.read_csv(url, skiprows=1, encoding='latin1')\n",
    "\n",
    "#If loading the dataset locally\n",
    "#internet_usage = pd.read_csv(\"internet_usage.csv\", skiprows=1, encoding='latin1')\n",
    "internet_usage.head()"
   ]
  },
  {
   "cell_type": "code",
   "execution_count": 3,
   "metadata": {},
   "outputs": [
    {
     "data": {
      "text/html": [
       "<div>\n",
       "<style scoped>\n",
       "    .dataframe tbody tr th:only-of-type {\n",
       "        vertical-align: middle;\n",
       "    }\n",
       "\n",
       "    .dataframe tbody tr th {\n",
       "        vertical-align: top;\n",
       "    }\n",
       "\n",
       "    .dataframe thead th {\n",
       "        text-align: right;\n",
       "    }\n",
       "</style>\n",
       "<table border=\"1\" class=\"dataframe\">\n",
       "  <thead>\n",
       "    <tr style=\"text-align: right;\">\n",
       "      <th></th>\n",
       "      <th>Region_Country_Area</th>\n",
       "      <th>Year</th>\n",
       "      <th>internet_usage(%)</th>\n",
       "    </tr>\n",
       "  </thead>\n",
       "  <tbody>\n",
       "    <tr>\n",
       "      <th>0</th>\n",
       "      <td>Total, all countries or areas</td>\n",
       "      <td>2000</td>\n",
       "      <td>5.3</td>\n",
       "    </tr>\n",
       "    <tr>\n",
       "      <th>1</th>\n",
       "      <td>Total, all countries or areas</td>\n",
       "      <td>2005</td>\n",
       "      <td>15.6</td>\n",
       "    </tr>\n",
       "    <tr>\n",
       "      <th>2</th>\n",
       "      <td>Total, all countries or areas</td>\n",
       "      <td>2010</td>\n",
       "      <td>28.5</td>\n",
       "    </tr>\n",
       "    <tr>\n",
       "      <th>3</th>\n",
       "      <td>Total, all countries or areas</td>\n",
       "      <td>2015</td>\n",
       "      <td>40.0</td>\n",
       "    </tr>\n",
       "    <tr>\n",
       "      <th>4</th>\n",
       "      <td>Total, all countries or areas</td>\n",
       "      <td>2019</td>\n",
       "      <td>53.7</td>\n",
       "    </tr>\n",
       "  </tbody>\n",
       "</table>\n",
       "</div>"
      ],
      "text/plain": [
       "             Region_Country_Area  Year  internet_usage(%)\n",
       "0  Total, all countries or areas  2000                5.3\n",
       "1  Total, all countries or areas  2005               15.6\n",
       "2  Total, all countries or areas  2010               28.5\n",
       "3  Total, all countries or areas  2015               40.0\n",
       "4  Total, all countries or areas  2019               53.7"
      ]
     },
     "execution_count": 3,
     "metadata": {},
     "output_type": "execute_result"
    }
   ],
   "source": [
    "internet_usage = internet_usage.drop([\"Series\", \"Footnotes\", \"Source\", \"Region/Country/Area\"], axis = 1)\n",
    "internet_usage.rename(columns = {\"Unnamed: 1\": \"Region_Country_Area\", \"Value\" : \"internet_usage(%)\"}, inplace = True)\n",
    "internet_usage.head()"
   ]
  },
  {
   "cell_type": "code",
   "execution_count": 4,
   "metadata": {},
   "outputs": [
    {
     "name": "stdout",
     "output_type": "stream",
     "text": [
      "Regional DataFrame's Shape:  (139, 3)\n",
      "\n",
      "=============================================================\n",
      "\n",
      "Countrywide DataFrame's Shape:  (1389, 3)\n"
     ]
    }
   ],
   "source": [
    "#Splitting the dataset into 3 parts: \tRegion, Country and Area\n",
    "\n",
    "collective_internet_usage = pd.DataFrame(internet_usage.iloc[:139])\n",
    "# display(collective_internet_usage.head(10))\n",
    "country_internet_usage = pd.DataFrame(internet_usage.iloc[139:])\n",
    "# ldc_internet_usage = pd.DataFrame(internet_usage.iloc[1521:])\n",
    "\n",
    "# Displaying  the shape of each dataframe\n",
    "print(\"Regional DataFrame's Shape: \",collective_internet_usage.shape)\n",
    "print(\"\\n=============================================================\\n\")\n",
    "\n",
    "print(\"Countrywide DataFrame's Shape: \",country_internet_usage.shape)\n",
    "# print(\"\\n=============================================================\\n\")\n",
    "\n",
    "# print(\"Area DataFrame's Shape: \",ldc_internet_usage.shape)\n",
    "\n"
   ]
  },
  {
   "cell_type": "code",
   "execution_count": 5,
   "metadata": {},
   "outputs": [],
   "source": [
    "# Checking if no row of one dataframe is in another\n",
    "def check_no_common_rows(df1,df2):\n",
    "    for element in df1['Region_Country_Area'].unique():\n",
    "        if element in df2['Region_Country_Area'].unique():\n",
    "            print(\"Common Element: \",element)\n",
    "        else:\n",
    "            return\n",
    "\n",
    "\n",
    "check_no_common_rows(collective_internet_usage,country_internet_usage)\n"
   ]
  },
  {
   "cell_type": "markdown",
   "metadata": {},
   "source": [
    "### 3. Answering the Questions"
   ]
  },
  {
   "cell_type": "markdown",
   "metadata": {},
   "source": [
    " 1. Trend Analysis Over Time\n",
    "   - Primary Question: How has internet usage changed globally and across regions over time?\n",
    "     - Sub-questions:\n",
    "       - How does internet usage in Africa compare to other continents over time?\n",
    "       - What is the internet usage trend in Different African Regions?\n",
    "       - Which regions show the highest and lowest internet usage growth rates?\n",
    "       - Are there any notable inflection points or periods of accelerated growth in internet adoption across different regions?\n",
    "       - How has global average internet usage evolved from 2000 to 2021?\n"
   ]
  },
  {
   "cell_type": "code",
   "execution_count": 6,
   "metadata": {},
   "outputs": [
    {
     "name": "stdout",
     "output_type": "stream",
     "text": [
      "Regions:  ['Total, all countries or areas' 'Northern Africa' 'Sub-Saharan Africa'\n",
      " 'Eastern Africa' 'Middle Africa' 'Southern Africa' 'Western Africa'\n",
      " 'Northern America' 'Latin America & the Caribbean' 'Caribbean'\n",
      " 'Central Asia' 'Eastern Asia' 'South-central Asia' 'South-eastern Asia'\n",
      " 'Southern Asia' 'Western Asia' 'Europe' 'Oceania'\n",
      " 'Australia and New Zealand' 'Micronesia']\n"
     ]
    }
   ],
   "source": [
    "# all regions in collective_internet_usage\n",
    "regions = collective_internet_usage['Region_Country_Area'].unique()\n",
    "print(\"Regions: \",regions)"
   ]
  },
  {
   "cell_type": "code",
   "execution_count": 7,
   "metadata": {},
   "outputs": [],
   "source": [
    "# How does internet usage in Africa compare to other continents over time?\n",
    "african_internet = collective_internet_usage[\n",
    "    collective_internet_usage['Region_Country_Area'].isin([\n",
    "        'Sub-Saharan Africa','Northern Africa','Eastern Africa','Middle Africa','Southern Africa','Western Africa'\n",
    "        ])]\n",
    "\n",
    "\n",
    "north_america_internet = collective_internet_usage[\n",
    "    collective_internet_usage['Region_Country_Area']=='Northern America'\n",
    "    ]\n",
    "\n",
    "latin_america_caribbean_internet = collective_internet_usage[\n",
    "    collective_internet_usage['Region_Country_Area'].isin([['Latin America & the Caribbean','Caribbean']])\n",
    "    ]\n",
    "\n",
    "\n",
    "\n",
    "asia_internet = collective_internet_usage[\n",
    "    collective_internet_usage['Region_Country_Area'].isin([\n",
    "        'Eastern Asia','South-eastern Asia','South-central Asia','Western Asia','Central Asia','Southern Asia'\n",
    "        ])]\n",
    "\n",
    "europe_internet = collective_internet_usage[\n",
    "    collective_internet_usage['Region_Country_Area'].isin([\n",
    "       'Europe'\n",
    "        ])]\n",
    "\n",
    "Oceania_internet = collective_internet_usage[\n",
    "    collective_internet_usage['Region_Country_Area'] == 'Oceania'\n",
    "    ]\n",
    "\n",
    "\n",
    "australia_newzealand_internet = collective_internet_usage[\n",
    "    collective_internet_usage['Region_Country_Area'] == 'Australia and New Zealand'\n",
    "    ]\n",
    "\n",
    "Micronesia_internet = collective_internet_usage[\n",
    "    collective_internet_usage['Region_Country_Area'] == 'Micronesia'\n",
    "    ]"
   ]
  },
  {
   "cell_type": "code",
   "execution_count": 8,
   "metadata": {},
   "outputs": [
    {
     "name": "stderr",
     "output_type": "stream",
     "text": [
      "c:\\Users\\STUDENT\\anaconda3\\anaconda\\Lib\\site-packages\\plotly\\graph_objs\\_deprecations.py:378: DeprecationWarning:\n",
      "\n",
      "plotly.graph_objs.Line is deprecated.\n",
      "Please replace it with one of the following more specific types\n",
      "  - plotly.graph_objs.scatter.Line\n",
      "  - plotly.graph_objs.layout.shape.Line\n",
      "  - etc.\n",
      "\n",
      "\n"
     ]
    },
    {
     "data": {
      "application/vnd.plotly.v1+json": {
       "config": {
        "plotlyServerURL": "https://plot.ly"
       },
       "data": [
        {
         "hovertemplate": "Continent=Africa<br>Year=%{x}<br>internet_usage(%)=%{y}<extra></extra>",
         "legendgroup": "Africa",
         "line": {
          "color": "#636efa",
          "dash": "solid"
         },
         "marker": {
          "symbol": "circle"
         },
         "mode": "lines+markers",
         "name": "Africa",
         "orientation": "v",
         "showlegend": true,
         "type": "scatter",
         "x": [
          2000,
          2005,
          2010,
          2015,
          2019,
          2020,
          2021
         ],
         "xaxis": "x",
         "y": [
          1.2333333333333334,
          3.85,
          10.700000000000001,
          23.516666666666666,
          37.416666666666664,
          42.016666666666666,
          45.449999999999996
         ],
         "yaxis": "y"
        },
        {
         "hovertemplate": "Continent=Asia<br>Year=%{x}<br>internet_usage(%)=%{y}<extra></extra>",
         "legendgroup": "Asia",
         "line": {
          "color": "#EF553B",
          "dash": "solid"
         },
         "marker": {
          "symbol": "circle"
         },
         "mode": "lines+markers",
         "name": "Asia",
         "orientation": "v",
         "showlegend": true,
         "type": "scatter",
         "x": [
          2000,
          2005,
          2010,
          2015,
          2019,
          2020,
          2021
         ],
         "xaxis": "x",
         "y": [
          2.3333333333333335,
          7.466666666666666,
          20.766666666666666,
          35.300000000000004,
          52.050000000000004,
          58.35,
          61.666666666666664
         ],
         "yaxis": "y"
        },
        {
         "hovertemplate": "Continent=Europe<br>Year=%{x}<br>internet_usage(%)=%{y}<extra></extra>",
         "legendgroup": "Europe",
         "line": {
          "color": "#00cc96",
          "dash": "solid"
         },
         "marker": {
          "symbol": "circle"
         },
         "mode": "lines+markers",
         "name": "Europe",
         "orientation": "v",
         "showlegend": true,
         "type": "scatter",
         "x": [
          2005,
          2010,
          2015,
          2019,
          2020,
          2021
         ],
         "xaxis": "x",
         "y": [
          39.7,
          62.5,
          74.1,
          82.8,
          85.1,
          87.6
         ],
         "yaxis": "y"
        },
        {
         "hovertemplate": "Continent=North America<br>Year=%{x}<br>internet_usage(%)=%{y}<extra></extra>",
         "legendgroup": "North America",
         "line": {
          "color": "#ab63fa",
          "dash": "solid"
         },
         "marker": {
          "symbol": "circle"
         },
         "mode": "lines+markers",
         "name": "North America",
         "orientation": "v",
         "showlegend": true,
         "type": "scatter",
         "x": [
          2000,
          2005,
          2010,
          2015,
          2019,
          2020,
          2021
         ],
         "xaxis": "x",
         "y": [
          51.3,
          68.3,
          72.5,
          76.1,
          89.7,
          90.8,
          91.9
         ],
         "yaxis": "y"
        },
        {
         "hovertemplate": "Continent=Oceania<br>Year=%{x}<br>internet_usage(%)=%{y}<extra></extra>",
         "legendgroup": "Oceania",
         "line": {
          "color": "#FFA15A",
          "dash": "solid"
         },
         "marker": {
          "symbol": "circle"
         },
         "mode": "lines+markers",
         "name": "Oceania",
         "orientation": "v",
         "showlegend": true,
         "type": "scatter",
         "x": [
          2000,
          2005,
          2010,
          2015,
          2019,
          2020,
          2021
         ],
         "xaxis": "x",
         "y": [
          28.03333333333333,
          40.666666666666664,
          51.20000000000001,
          60.166666666666664,
          69.06666666666666,
          71.39999999999999,
          72.10000000000001
         ],
         "yaxis": "y"
        },
        {
         "line": {
          "color": "black",
          "dash": "dash",
          "width": 3
         },
         "mode": "lines",
         "name": "Global Average",
         "type": "scatter",
         "x": [
          2000,
          2005,
          2010,
          2015,
          2019,
          2020,
          2021
         ],
         "y": [
          5.3,
          15.6,
          28.5,
          40,
          53.7,
          59.6,
          62.6
         ]
        }
       ],
       "layout": {
        "legend": {
         "title": {
          "text": "Continent"
         },
         "tracegroupgap": 0
        },
        "template": {
         "data": {
          "bar": [
           {
            "error_x": {
             "color": "#2a3f5f"
            },
            "error_y": {
             "color": "#2a3f5f"
            },
            "marker": {
             "line": {
              "color": "#E5ECF6",
              "width": 0.5
             },
             "pattern": {
              "fillmode": "overlay",
              "size": 10,
              "solidity": 0.2
             }
            },
            "type": "bar"
           }
          ],
          "barpolar": [
           {
            "marker": {
             "line": {
              "color": "#E5ECF6",
              "width": 0.5
             },
             "pattern": {
              "fillmode": "overlay",
              "size": 10,
              "solidity": 0.2
             }
            },
            "type": "barpolar"
           }
          ],
          "carpet": [
           {
            "aaxis": {
             "endlinecolor": "#2a3f5f",
             "gridcolor": "white",
             "linecolor": "white",
             "minorgridcolor": "white",
             "startlinecolor": "#2a3f5f"
            },
            "baxis": {
             "endlinecolor": "#2a3f5f",
             "gridcolor": "white",
             "linecolor": "white",
             "minorgridcolor": "white",
             "startlinecolor": "#2a3f5f"
            },
            "type": "carpet"
           }
          ],
          "choropleth": [
           {
            "colorbar": {
             "outlinewidth": 0,
             "ticks": ""
            },
            "type": "choropleth"
           }
          ],
          "contour": [
           {
            "colorbar": {
             "outlinewidth": 0,
             "ticks": ""
            },
            "colorscale": [
             [
              0,
              "#0d0887"
             ],
             [
              0.1111111111111111,
              "#46039f"
             ],
             [
              0.2222222222222222,
              "#7201a8"
             ],
             [
              0.3333333333333333,
              "#9c179e"
             ],
             [
              0.4444444444444444,
              "#bd3786"
             ],
             [
              0.5555555555555556,
              "#d8576b"
             ],
             [
              0.6666666666666666,
              "#ed7953"
             ],
             [
              0.7777777777777778,
              "#fb9f3a"
             ],
             [
              0.8888888888888888,
              "#fdca26"
             ],
             [
              1,
              "#f0f921"
             ]
            ],
            "type": "contour"
           }
          ],
          "contourcarpet": [
           {
            "colorbar": {
             "outlinewidth": 0,
             "ticks": ""
            },
            "type": "contourcarpet"
           }
          ],
          "heatmap": [
           {
            "colorbar": {
             "outlinewidth": 0,
             "ticks": ""
            },
            "colorscale": [
             [
              0,
              "#0d0887"
             ],
             [
              0.1111111111111111,
              "#46039f"
             ],
             [
              0.2222222222222222,
              "#7201a8"
             ],
             [
              0.3333333333333333,
              "#9c179e"
             ],
             [
              0.4444444444444444,
              "#bd3786"
             ],
             [
              0.5555555555555556,
              "#d8576b"
             ],
             [
              0.6666666666666666,
              "#ed7953"
             ],
             [
              0.7777777777777778,
              "#fb9f3a"
             ],
             [
              0.8888888888888888,
              "#fdca26"
             ],
             [
              1,
              "#f0f921"
             ]
            ],
            "type": "heatmap"
           }
          ],
          "heatmapgl": [
           {
            "colorbar": {
             "outlinewidth": 0,
             "ticks": ""
            },
            "colorscale": [
             [
              0,
              "#0d0887"
             ],
             [
              0.1111111111111111,
              "#46039f"
             ],
             [
              0.2222222222222222,
              "#7201a8"
             ],
             [
              0.3333333333333333,
              "#9c179e"
             ],
             [
              0.4444444444444444,
              "#bd3786"
             ],
             [
              0.5555555555555556,
              "#d8576b"
             ],
             [
              0.6666666666666666,
              "#ed7953"
             ],
             [
              0.7777777777777778,
              "#fb9f3a"
             ],
             [
              0.8888888888888888,
              "#fdca26"
             ],
             [
              1,
              "#f0f921"
             ]
            ],
            "type": "heatmapgl"
           }
          ],
          "histogram": [
           {
            "marker": {
             "pattern": {
              "fillmode": "overlay",
              "size": 10,
              "solidity": 0.2
             }
            },
            "type": "histogram"
           }
          ],
          "histogram2d": [
           {
            "colorbar": {
             "outlinewidth": 0,
             "ticks": ""
            },
            "colorscale": [
             [
              0,
              "#0d0887"
             ],
             [
              0.1111111111111111,
              "#46039f"
             ],
             [
              0.2222222222222222,
              "#7201a8"
             ],
             [
              0.3333333333333333,
              "#9c179e"
             ],
             [
              0.4444444444444444,
              "#bd3786"
             ],
             [
              0.5555555555555556,
              "#d8576b"
             ],
             [
              0.6666666666666666,
              "#ed7953"
             ],
             [
              0.7777777777777778,
              "#fb9f3a"
             ],
             [
              0.8888888888888888,
              "#fdca26"
             ],
             [
              1,
              "#f0f921"
             ]
            ],
            "type": "histogram2d"
           }
          ],
          "histogram2dcontour": [
           {
            "colorbar": {
             "outlinewidth": 0,
             "ticks": ""
            },
            "colorscale": [
             [
              0,
              "#0d0887"
             ],
             [
              0.1111111111111111,
              "#46039f"
             ],
             [
              0.2222222222222222,
              "#7201a8"
             ],
             [
              0.3333333333333333,
              "#9c179e"
             ],
             [
              0.4444444444444444,
              "#bd3786"
             ],
             [
              0.5555555555555556,
              "#d8576b"
             ],
             [
              0.6666666666666666,
              "#ed7953"
             ],
             [
              0.7777777777777778,
              "#fb9f3a"
             ],
             [
              0.8888888888888888,
              "#fdca26"
             ],
             [
              1,
              "#f0f921"
             ]
            ],
            "type": "histogram2dcontour"
           }
          ],
          "mesh3d": [
           {
            "colorbar": {
             "outlinewidth": 0,
             "ticks": ""
            },
            "type": "mesh3d"
           }
          ],
          "parcoords": [
           {
            "line": {
             "colorbar": {
              "outlinewidth": 0,
              "ticks": ""
             }
            },
            "type": "parcoords"
           }
          ],
          "pie": [
           {
            "automargin": true,
            "type": "pie"
           }
          ],
          "scatter": [
           {
            "fillpattern": {
             "fillmode": "overlay",
             "size": 10,
             "solidity": 0.2
            },
            "type": "scatter"
           }
          ],
          "scatter3d": [
           {
            "line": {
             "colorbar": {
              "outlinewidth": 0,
              "ticks": ""
             }
            },
            "marker": {
             "colorbar": {
              "outlinewidth": 0,
              "ticks": ""
             }
            },
            "type": "scatter3d"
           }
          ],
          "scattercarpet": [
           {
            "marker": {
             "colorbar": {
              "outlinewidth": 0,
              "ticks": ""
             }
            },
            "type": "scattercarpet"
           }
          ],
          "scattergeo": [
           {
            "marker": {
             "colorbar": {
              "outlinewidth": 0,
              "ticks": ""
             }
            },
            "type": "scattergeo"
           }
          ],
          "scattergl": [
           {
            "marker": {
             "colorbar": {
              "outlinewidth": 0,
              "ticks": ""
             }
            },
            "type": "scattergl"
           }
          ],
          "scattermapbox": [
           {
            "marker": {
             "colorbar": {
              "outlinewidth": 0,
              "ticks": ""
             }
            },
            "type": "scattermapbox"
           }
          ],
          "scatterpolar": [
           {
            "marker": {
             "colorbar": {
              "outlinewidth": 0,
              "ticks": ""
             }
            },
            "type": "scatterpolar"
           }
          ],
          "scatterpolargl": [
           {
            "marker": {
             "colorbar": {
              "outlinewidth": 0,
              "ticks": ""
             }
            },
            "type": "scatterpolargl"
           }
          ],
          "scatterternary": [
           {
            "marker": {
             "colorbar": {
              "outlinewidth": 0,
              "ticks": ""
             }
            },
            "type": "scatterternary"
           }
          ],
          "surface": [
           {
            "colorbar": {
             "outlinewidth": 0,
             "ticks": ""
            },
            "colorscale": [
             [
              0,
              "#0d0887"
             ],
             [
              0.1111111111111111,
              "#46039f"
             ],
             [
              0.2222222222222222,
              "#7201a8"
             ],
             [
              0.3333333333333333,
              "#9c179e"
             ],
             [
              0.4444444444444444,
              "#bd3786"
             ],
             [
              0.5555555555555556,
              "#d8576b"
             ],
             [
              0.6666666666666666,
              "#ed7953"
             ],
             [
              0.7777777777777778,
              "#fb9f3a"
             ],
             [
              0.8888888888888888,
              "#fdca26"
             ],
             [
              1,
              "#f0f921"
             ]
            ],
            "type": "surface"
           }
          ],
          "table": [
           {
            "cells": {
             "fill": {
              "color": "#EBF0F8"
             },
             "line": {
              "color": "white"
             }
            },
            "header": {
             "fill": {
              "color": "#C8D4E3"
             },
             "line": {
              "color": "white"
             }
            },
            "type": "table"
           }
          ]
         },
         "layout": {
          "annotationdefaults": {
           "arrowcolor": "#2a3f5f",
           "arrowhead": 0,
           "arrowwidth": 1
          },
          "autotypenumbers": "strict",
          "coloraxis": {
           "colorbar": {
            "outlinewidth": 0,
            "ticks": ""
           }
          },
          "colorscale": {
           "diverging": [
            [
             0,
             "#8e0152"
            ],
            [
             0.1,
             "#c51b7d"
            ],
            [
             0.2,
             "#de77ae"
            ],
            [
             0.3,
             "#f1b6da"
            ],
            [
             0.4,
             "#fde0ef"
            ],
            [
             0.5,
             "#f7f7f7"
            ],
            [
             0.6,
             "#e6f5d0"
            ],
            [
             0.7,
             "#b8e186"
            ],
            [
             0.8,
             "#7fbc41"
            ],
            [
             0.9,
             "#4d9221"
            ],
            [
             1,
             "#276419"
            ]
           ],
           "sequential": [
            [
             0,
             "#0d0887"
            ],
            [
             0.1111111111111111,
             "#46039f"
            ],
            [
             0.2222222222222222,
             "#7201a8"
            ],
            [
             0.3333333333333333,
             "#9c179e"
            ],
            [
             0.4444444444444444,
             "#bd3786"
            ],
            [
             0.5555555555555556,
             "#d8576b"
            ],
            [
             0.6666666666666666,
             "#ed7953"
            ],
            [
             0.7777777777777778,
             "#fb9f3a"
            ],
            [
             0.8888888888888888,
             "#fdca26"
            ],
            [
             1,
             "#f0f921"
            ]
           ],
           "sequentialminus": [
            [
             0,
             "#0d0887"
            ],
            [
             0.1111111111111111,
             "#46039f"
            ],
            [
             0.2222222222222222,
             "#7201a8"
            ],
            [
             0.3333333333333333,
             "#9c179e"
            ],
            [
             0.4444444444444444,
             "#bd3786"
            ],
            [
             0.5555555555555556,
             "#d8576b"
            ],
            [
             0.6666666666666666,
             "#ed7953"
            ],
            [
             0.7777777777777778,
             "#fb9f3a"
            ],
            [
             0.8888888888888888,
             "#fdca26"
            ],
            [
             1,
             "#f0f921"
            ]
           ]
          },
          "colorway": [
           "#636efa",
           "#EF553B",
           "#00cc96",
           "#ab63fa",
           "#FFA15A",
           "#19d3f3",
           "#FF6692",
           "#B6E880",
           "#FF97FF",
           "#FECB52"
          ],
          "font": {
           "color": "#2a3f5f"
          },
          "geo": {
           "bgcolor": "white",
           "lakecolor": "white",
           "landcolor": "#E5ECF6",
           "showlakes": true,
           "showland": true,
           "subunitcolor": "white"
          },
          "hoverlabel": {
           "align": "left"
          },
          "hovermode": "closest",
          "mapbox": {
           "style": "light"
          },
          "paper_bgcolor": "white",
          "plot_bgcolor": "#E5ECF6",
          "polar": {
           "angularaxis": {
            "gridcolor": "white",
            "linecolor": "white",
            "ticks": ""
           },
           "bgcolor": "#E5ECF6",
           "radialaxis": {
            "gridcolor": "white",
            "linecolor": "white",
            "ticks": ""
           }
          },
          "scene": {
           "xaxis": {
            "backgroundcolor": "#E5ECF6",
            "gridcolor": "white",
            "gridwidth": 2,
            "linecolor": "white",
            "showbackground": true,
            "ticks": "",
            "zerolinecolor": "white"
           },
           "yaxis": {
            "backgroundcolor": "#E5ECF6",
            "gridcolor": "white",
            "gridwidth": 2,
            "linecolor": "white",
            "showbackground": true,
            "ticks": "",
            "zerolinecolor": "white"
           },
           "zaxis": {
            "backgroundcolor": "#E5ECF6",
            "gridcolor": "white",
            "gridwidth": 2,
            "linecolor": "white",
            "showbackground": true,
            "ticks": "",
            "zerolinecolor": "white"
           }
          },
          "shapedefaults": {
           "line": {
            "color": "#2a3f5f"
           }
          },
          "ternary": {
           "aaxis": {
            "gridcolor": "white",
            "linecolor": "white",
            "ticks": ""
           },
           "baxis": {
            "gridcolor": "white",
            "linecolor": "white",
            "ticks": ""
           },
           "bgcolor": "#E5ECF6",
           "caxis": {
            "gridcolor": "white",
            "linecolor": "white",
            "ticks": ""
           }
          },
          "title": {
           "x": 0.05
          },
          "xaxis": {
           "automargin": true,
           "gridcolor": "white",
           "linecolor": "white",
           "ticks": "",
           "title": {
            "standoff": 15
           },
           "zerolinecolor": "white",
           "zerolinewidth": 2
          },
          "yaxis": {
           "automargin": true,
           "gridcolor": "white",
           "linecolor": "white",
           "ticks": "",
           "title": {
            "standoff": 15
           },
           "zerolinecolor": "white",
           "zerolinewidth": 2
          }
         }
        },
        "title": {
         "text": "Mean Internet Usage Over Time by Continent and Global Average"
        },
        "xaxis": {
         "anchor": "y",
         "domain": [
          0,
          1
         ],
         "title": {
          "text": "Year"
         }
        },
        "yaxis": {
         "anchor": "x",
         "domain": [
          0,
          1
         ],
         "title": {
          "text": "internet_usage(%)"
         }
        }
       }
      }
     },
     "metadata": {},
     "output_type": "display_data"
    }
   ],
   "source": [
    "# Concatenating data from all continents\n",
    "continent_data = pd.concat([african_internet, north_america_internet, asia_internet, europe_internet, Oceania_internet, australia_newzealand_internet, Micronesia_internet])\n",
    "\n",
    "# Assigning a continent label based on the Region_Country_Area\n",
    "continent_data['Continent'] = continent_data['Region_Country_Area'].apply(lambda x: 'Africa' if 'Africa' in x else\n",
    "                                                                           'North America' if 'Northern America' in x else\n",
    "                                                                           'Asia' if any(region in x for region in ['Central Asia', 'Eastern Asia', 'South-central Asia', 'South-eastern Asia', 'Southern Asia', 'Western Asia']) else\n",
    "                                                                           'Europe' if 'Europe' in x else\n",
    "                                                                           'Oceania' if any(region in x for region in ['Oceania', 'Australia and New Zealand', 'Micronesia']) else\n",
    "                                                                           'Other')\n",
    "\n",
    "# Grouping data by continent and year to calculate the mean internet usage for each year\n",
    "mean_internet_usage = continent_data.groupby(['Continent', 'Year'])['internet_usage(%)'].mean().reset_index()\n",
    "\n",
    "# global average for each year\n",
    "global_avg = collective_internet_usage[collective_internet_usage['Region_Country_Area'] == 'Total, all countries or areas']\n",
    "\n",
    "\n",
    "\n",
    "# Plotting the data using Plotly\n",
    "fig = px.line(\n",
    "    mean_internet_usage,\n",
    "    x='Year',\n",
    "    y='internet_usage(%)',\n",
    "    color='Continent',\n",
    "    markers=True,\n",
    "    title='Mean Internet Usage Over Time by Continent and Global Average'\n",
    ")\n",
    "fig.add_trace(\n",
    "    go.Line(\n",
    "        x=global_avg['Year'],\n",
    "        y=global_avg['internet_usage(%)'],\n",
    "        mode='lines',\n",
    "        name='Global Average',\n",
    "        line=dict(color='black', width=3, dash='dash')\n",
    "    )\n",
    ")\n",
    "\n",
    "fig.show()\n"
   ]
  },
  {
   "cell_type": "markdown",
   "metadata": {},
   "source": [
    "* **Different African Regions**"
   ]
  },
  {
   "cell_type": "code",
   "execution_count": 9,
   "metadata": {},
   "outputs": [
    {
     "data": {
      "application/vnd.plotly.v1+json": {
       "config": {
        "plotlyServerURL": "https://plot.ly"
       },
       "data": [
        {
         "hovertemplate": "Region_Country_Area=Northern Africa<br>Year=%{x}<br>internet_usage(%)=%{y}<extra></extra>",
         "legendgroup": "Northern Africa",
         "line": {
          "color": "#636efa",
          "dash": "solid"
         },
         "marker": {
          "symbol": "circle"
         },
         "mode": "lines+markers",
         "name": "Northern Africa",
         "orientation": "v",
         "showlegend": true,
         "type": "scatter",
         "x": [
          2000,
          2005,
          2010,
          2015,
          2019,
          2020,
          2021
         ],
         "xaxis": "x",
         "y": [
          0.6,
          9.7,
          23.2,
          36.6,
          56,
          64.8,
          70.6
         ],
         "yaxis": "y"
        },
        {
         "hovertemplate": "Region_Country_Area=Sub-Saharan Africa<br>Year=%{x}<br>internet_usage(%)=%{y}<extra></extra>",
         "legendgroup": "Sub-Saharan Africa",
         "line": {
          "color": "#EF553B",
          "dash": "solid"
         },
         "marker": {
          "symbol": "circle"
         },
         "mode": "lines+markers",
         "name": "Sub-Saharan Africa",
         "orientation": "v",
         "showlegend": true,
         "type": "scatter",
         "x": [
          2000,
          2005,
          2010,
          2015,
          2019,
          2020,
          2021
         ],
         "xaxis": "x",
         "y": [
          0.9,
          2,
          6,
          16,
          27.4,
          31.5,
          34.9
         ],
         "yaxis": "y"
        },
        {
         "hovertemplate": "Region_Country_Area=Eastern Africa<br>Year=%{x}<br>internet_usage(%)=%{y}<extra></extra>",
         "legendgroup": "Eastern Africa",
         "line": {
          "color": "#00cc96",
          "dash": "solid"
         },
         "marker": {
          "symbol": "circle"
         },
         "mode": "lines+markers",
         "name": "Eastern Africa",
         "orientation": "v",
         "showlegend": true,
         "type": "scatter",
         "x": [
          2000,
          2005,
          2010,
          2015,
          2019,
          2020,
          2021
         ],
         "xaxis": "x",
         "y": [
          0.6,
          1.2,
          3.2,
          10.5,
          15.3,
          17.2,
          20.7
         ],
         "yaxis": "y"
        },
        {
         "hovertemplate": "Region_Country_Area=Middle Africa<br>Year=%{x}<br>internet_usage(%)=%{y}<extra></extra>",
         "legendgroup": "Middle Africa",
         "line": {
          "color": "#ab63fa",
          "dash": "solid"
         },
         "marker": {
          "symbol": "circle"
         },
         "mode": "lines+markers",
         "name": "Middle Africa",
         "orientation": "v",
         "showlegend": true,
         "type": "scatter",
         "x": [
          2000,
          2005,
          2010,
          2015,
          2019,
          2020,
          2021
         ],
         "xaxis": "x",
         "y": [
          0.3,
          0.7,
          2.1,
          10,
          22.1,
          27.2,
          27.9
         ],
         "yaxis": "y"
        },
        {
         "hovertemplate": "Region_Country_Area=Southern Africa<br>Year=%{x}<br>internet_usage(%)=%{y}<extra></extra>",
         "legendgroup": "Southern Africa",
         "line": {
          "color": "#FFA15A",
          "dash": "solid"
         },
         "marker": {
          "symbol": "circle"
         },
         "mode": "lines+markers",
         "name": "Southern Africa",
         "orientation": "v",
         "showlegend": true,
         "type": "scatter",
         "x": [
          2000,
          2005,
          2010,
          2015,
          2019,
          2020,
          2021
         ],
         "xaxis": "x",
         "y": [
          4.9,
          7,
          22,
          49.1,
          67.4,
          68.5,
          70.6
         ],
         "yaxis": "y"
        },
        {
         "hovertemplate": "Region_Country_Area=Western Africa<br>Year=%{x}<br>internet_usage(%)=%{y}<extra></extra>",
         "legendgroup": "Western Africa",
         "line": {
          "color": "#19d3f3",
          "dash": "solid"
         },
         "marker": {
          "symbol": "circle"
         },
         "mode": "lines+markers",
         "name": "Western Africa",
         "orientation": "v",
         "showlegend": true,
         "type": "scatter",
         "x": [
          2000,
          2005,
          2010,
          2015,
          2019,
          2020,
          2021
         ],
         "xaxis": "x",
         "y": [
          0.1,
          2.5,
          7.7,
          18.9,
          36.3,
          42.9,
          48
         ],
         "yaxis": "y"
        }
       ],
       "layout": {
        "legend": {
         "title": {
          "text": "Region_Country_Area"
         },
         "tracegroupgap": 0
        },
        "template": {
         "data": {
          "bar": [
           {
            "error_x": {
             "color": "#2a3f5f"
            },
            "error_y": {
             "color": "#2a3f5f"
            },
            "marker": {
             "line": {
              "color": "#E5ECF6",
              "width": 0.5
             },
             "pattern": {
              "fillmode": "overlay",
              "size": 10,
              "solidity": 0.2
             }
            },
            "type": "bar"
           }
          ],
          "barpolar": [
           {
            "marker": {
             "line": {
              "color": "#E5ECF6",
              "width": 0.5
             },
             "pattern": {
              "fillmode": "overlay",
              "size": 10,
              "solidity": 0.2
             }
            },
            "type": "barpolar"
           }
          ],
          "carpet": [
           {
            "aaxis": {
             "endlinecolor": "#2a3f5f",
             "gridcolor": "white",
             "linecolor": "white",
             "minorgridcolor": "white",
             "startlinecolor": "#2a3f5f"
            },
            "baxis": {
             "endlinecolor": "#2a3f5f",
             "gridcolor": "white",
             "linecolor": "white",
             "minorgridcolor": "white",
             "startlinecolor": "#2a3f5f"
            },
            "type": "carpet"
           }
          ],
          "choropleth": [
           {
            "colorbar": {
             "outlinewidth": 0,
             "ticks": ""
            },
            "type": "choropleth"
           }
          ],
          "contour": [
           {
            "colorbar": {
             "outlinewidth": 0,
             "ticks": ""
            },
            "colorscale": [
             [
              0,
              "#0d0887"
             ],
             [
              0.1111111111111111,
              "#46039f"
             ],
             [
              0.2222222222222222,
              "#7201a8"
             ],
             [
              0.3333333333333333,
              "#9c179e"
             ],
             [
              0.4444444444444444,
              "#bd3786"
             ],
             [
              0.5555555555555556,
              "#d8576b"
             ],
             [
              0.6666666666666666,
              "#ed7953"
             ],
             [
              0.7777777777777778,
              "#fb9f3a"
             ],
             [
              0.8888888888888888,
              "#fdca26"
             ],
             [
              1,
              "#f0f921"
             ]
            ],
            "type": "contour"
           }
          ],
          "contourcarpet": [
           {
            "colorbar": {
             "outlinewidth": 0,
             "ticks": ""
            },
            "type": "contourcarpet"
           }
          ],
          "heatmap": [
           {
            "colorbar": {
             "outlinewidth": 0,
             "ticks": ""
            },
            "colorscale": [
             [
              0,
              "#0d0887"
             ],
             [
              0.1111111111111111,
              "#46039f"
             ],
             [
              0.2222222222222222,
              "#7201a8"
             ],
             [
              0.3333333333333333,
              "#9c179e"
             ],
             [
              0.4444444444444444,
              "#bd3786"
             ],
             [
              0.5555555555555556,
              "#d8576b"
             ],
             [
              0.6666666666666666,
              "#ed7953"
             ],
             [
              0.7777777777777778,
              "#fb9f3a"
             ],
             [
              0.8888888888888888,
              "#fdca26"
             ],
             [
              1,
              "#f0f921"
             ]
            ],
            "type": "heatmap"
           }
          ],
          "heatmapgl": [
           {
            "colorbar": {
             "outlinewidth": 0,
             "ticks": ""
            },
            "colorscale": [
             [
              0,
              "#0d0887"
             ],
             [
              0.1111111111111111,
              "#46039f"
             ],
             [
              0.2222222222222222,
              "#7201a8"
             ],
             [
              0.3333333333333333,
              "#9c179e"
             ],
             [
              0.4444444444444444,
              "#bd3786"
             ],
             [
              0.5555555555555556,
              "#d8576b"
             ],
             [
              0.6666666666666666,
              "#ed7953"
             ],
             [
              0.7777777777777778,
              "#fb9f3a"
             ],
             [
              0.8888888888888888,
              "#fdca26"
             ],
             [
              1,
              "#f0f921"
             ]
            ],
            "type": "heatmapgl"
           }
          ],
          "histogram": [
           {
            "marker": {
             "pattern": {
              "fillmode": "overlay",
              "size": 10,
              "solidity": 0.2
             }
            },
            "type": "histogram"
           }
          ],
          "histogram2d": [
           {
            "colorbar": {
             "outlinewidth": 0,
             "ticks": ""
            },
            "colorscale": [
             [
              0,
              "#0d0887"
             ],
             [
              0.1111111111111111,
              "#46039f"
             ],
             [
              0.2222222222222222,
              "#7201a8"
             ],
             [
              0.3333333333333333,
              "#9c179e"
             ],
             [
              0.4444444444444444,
              "#bd3786"
             ],
             [
              0.5555555555555556,
              "#d8576b"
             ],
             [
              0.6666666666666666,
              "#ed7953"
             ],
             [
              0.7777777777777778,
              "#fb9f3a"
             ],
             [
              0.8888888888888888,
              "#fdca26"
             ],
             [
              1,
              "#f0f921"
             ]
            ],
            "type": "histogram2d"
           }
          ],
          "histogram2dcontour": [
           {
            "colorbar": {
             "outlinewidth": 0,
             "ticks": ""
            },
            "colorscale": [
             [
              0,
              "#0d0887"
             ],
             [
              0.1111111111111111,
              "#46039f"
             ],
             [
              0.2222222222222222,
              "#7201a8"
             ],
             [
              0.3333333333333333,
              "#9c179e"
             ],
             [
              0.4444444444444444,
              "#bd3786"
             ],
             [
              0.5555555555555556,
              "#d8576b"
             ],
             [
              0.6666666666666666,
              "#ed7953"
             ],
             [
              0.7777777777777778,
              "#fb9f3a"
             ],
             [
              0.8888888888888888,
              "#fdca26"
             ],
             [
              1,
              "#f0f921"
             ]
            ],
            "type": "histogram2dcontour"
           }
          ],
          "mesh3d": [
           {
            "colorbar": {
             "outlinewidth": 0,
             "ticks": ""
            },
            "type": "mesh3d"
           }
          ],
          "parcoords": [
           {
            "line": {
             "colorbar": {
              "outlinewidth": 0,
              "ticks": ""
             }
            },
            "type": "parcoords"
           }
          ],
          "pie": [
           {
            "automargin": true,
            "type": "pie"
           }
          ],
          "scatter": [
           {
            "fillpattern": {
             "fillmode": "overlay",
             "size": 10,
             "solidity": 0.2
            },
            "type": "scatter"
           }
          ],
          "scatter3d": [
           {
            "line": {
             "colorbar": {
              "outlinewidth": 0,
              "ticks": ""
             }
            },
            "marker": {
             "colorbar": {
              "outlinewidth": 0,
              "ticks": ""
             }
            },
            "type": "scatter3d"
           }
          ],
          "scattercarpet": [
           {
            "marker": {
             "colorbar": {
              "outlinewidth": 0,
              "ticks": ""
             }
            },
            "type": "scattercarpet"
           }
          ],
          "scattergeo": [
           {
            "marker": {
             "colorbar": {
              "outlinewidth": 0,
              "ticks": ""
             }
            },
            "type": "scattergeo"
           }
          ],
          "scattergl": [
           {
            "marker": {
             "colorbar": {
              "outlinewidth": 0,
              "ticks": ""
             }
            },
            "type": "scattergl"
           }
          ],
          "scattermapbox": [
           {
            "marker": {
             "colorbar": {
              "outlinewidth": 0,
              "ticks": ""
             }
            },
            "type": "scattermapbox"
           }
          ],
          "scatterpolar": [
           {
            "marker": {
             "colorbar": {
              "outlinewidth": 0,
              "ticks": ""
             }
            },
            "type": "scatterpolar"
           }
          ],
          "scatterpolargl": [
           {
            "marker": {
             "colorbar": {
              "outlinewidth": 0,
              "ticks": ""
             }
            },
            "type": "scatterpolargl"
           }
          ],
          "scatterternary": [
           {
            "marker": {
             "colorbar": {
              "outlinewidth": 0,
              "ticks": ""
             }
            },
            "type": "scatterternary"
           }
          ],
          "surface": [
           {
            "colorbar": {
             "outlinewidth": 0,
             "ticks": ""
            },
            "colorscale": [
             [
              0,
              "#0d0887"
             ],
             [
              0.1111111111111111,
              "#46039f"
             ],
             [
              0.2222222222222222,
              "#7201a8"
             ],
             [
              0.3333333333333333,
              "#9c179e"
             ],
             [
              0.4444444444444444,
              "#bd3786"
             ],
             [
              0.5555555555555556,
              "#d8576b"
             ],
             [
              0.6666666666666666,
              "#ed7953"
             ],
             [
              0.7777777777777778,
              "#fb9f3a"
             ],
             [
              0.8888888888888888,
              "#fdca26"
             ],
             [
              1,
              "#f0f921"
             ]
            ],
            "type": "surface"
           }
          ],
          "table": [
           {
            "cells": {
             "fill": {
              "color": "#EBF0F8"
             },
             "line": {
              "color": "white"
             }
            },
            "header": {
             "fill": {
              "color": "#C8D4E3"
             },
             "line": {
              "color": "white"
             }
            },
            "type": "table"
           }
          ]
         },
         "layout": {
          "annotationdefaults": {
           "arrowcolor": "#2a3f5f",
           "arrowhead": 0,
           "arrowwidth": 1
          },
          "autotypenumbers": "strict",
          "coloraxis": {
           "colorbar": {
            "outlinewidth": 0,
            "ticks": ""
           }
          },
          "colorscale": {
           "diverging": [
            [
             0,
             "#8e0152"
            ],
            [
             0.1,
             "#c51b7d"
            ],
            [
             0.2,
             "#de77ae"
            ],
            [
             0.3,
             "#f1b6da"
            ],
            [
             0.4,
             "#fde0ef"
            ],
            [
             0.5,
             "#f7f7f7"
            ],
            [
             0.6,
             "#e6f5d0"
            ],
            [
             0.7,
             "#b8e186"
            ],
            [
             0.8,
             "#7fbc41"
            ],
            [
             0.9,
             "#4d9221"
            ],
            [
             1,
             "#276419"
            ]
           ],
           "sequential": [
            [
             0,
             "#0d0887"
            ],
            [
             0.1111111111111111,
             "#46039f"
            ],
            [
             0.2222222222222222,
             "#7201a8"
            ],
            [
             0.3333333333333333,
             "#9c179e"
            ],
            [
             0.4444444444444444,
             "#bd3786"
            ],
            [
             0.5555555555555556,
             "#d8576b"
            ],
            [
             0.6666666666666666,
             "#ed7953"
            ],
            [
             0.7777777777777778,
             "#fb9f3a"
            ],
            [
             0.8888888888888888,
             "#fdca26"
            ],
            [
             1,
             "#f0f921"
            ]
           ],
           "sequentialminus": [
            [
             0,
             "#0d0887"
            ],
            [
             0.1111111111111111,
             "#46039f"
            ],
            [
             0.2222222222222222,
             "#7201a8"
            ],
            [
             0.3333333333333333,
             "#9c179e"
            ],
            [
             0.4444444444444444,
             "#bd3786"
            ],
            [
             0.5555555555555556,
             "#d8576b"
            ],
            [
             0.6666666666666666,
             "#ed7953"
            ],
            [
             0.7777777777777778,
             "#fb9f3a"
            ],
            [
             0.8888888888888888,
             "#fdca26"
            ],
            [
             1,
             "#f0f921"
            ]
           ]
          },
          "colorway": [
           "#636efa",
           "#EF553B",
           "#00cc96",
           "#ab63fa",
           "#FFA15A",
           "#19d3f3",
           "#FF6692",
           "#B6E880",
           "#FF97FF",
           "#FECB52"
          ],
          "font": {
           "color": "#2a3f5f"
          },
          "geo": {
           "bgcolor": "white",
           "lakecolor": "white",
           "landcolor": "#E5ECF6",
           "showlakes": true,
           "showland": true,
           "subunitcolor": "white"
          },
          "hoverlabel": {
           "align": "left"
          },
          "hovermode": "closest",
          "mapbox": {
           "style": "light"
          },
          "paper_bgcolor": "white",
          "plot_bgcolor": "#E5ECF6",
          "polar": {
           "angularaxis": {
            "gridcolor": "white",
            "linecolor": "white",
            "ticks": ""
           },
           "bgcolor": "#E5ECF6",
           "radialaxis": {
            "gridcolor": "white",
            "linecolor": "white",
            "ticks": ""
           }
          },
          "scene": {
           "xaxis": {
            "backgroundcolor": "#E5ECF6",
            "gridcolor": "white",
            "gridwidth": 2,
            "linecolor": "white",
            "showbackground": true,
            "ticks": "",
            "zerolinecolor": "white"
           },
           "yaxis": {
            "backgroundcolor": "#E5ECF6",
            "gridcolor": "white",
            "gridwidth": 2,
            "linecolor": "white",
            "showbackground": true,
            "ticks": "",
            "zerolinecolor": "white"
           },
           "zaxis": {
            "backgroundcolor": "#E5ECF6",
            "gridcolor": "white",
            "gridwidth": 2,
            "linecolor": "white",
            "showbackground": true,
            "ticks": "",
            "zerolinecolor": "white"
           }
          },
          "shapedefaults": {
           "line": {
            "color": "#2a3f5f"
           }
          },
          "ternary": {
           "aaxis": {
            "gridcolor": "white",
            "linecolor": "white",
            "ticks": ""
           },
           "baxis": {
            "gridcolor": "white",
            "linecolor": "white",
            "ticks": ""
           },
           "bgcolor": "#E5ECF6",
           "caxis": {
            "gridcolor": "white",
            "linecolor": "white",
            "ticks": ""
           }
          },
          "title": {
           "x": 0.05
          },
          "xaxis": {
           "automargin": true,
           "gridcolor": "white",
           "linecolor": "white",
           "ticks": "",
           "title": {
            "standoff": 15
           },
           "zerolinecolor": "white",
           "zerolinewidth": 2
          },
          "yaxis": {
           "automargin": true,
           "gridcolor": "white",
           "linecolor": "white",
           "ticks": "",
           "title": {
            "standoff": 15
           },
           "zerolinecolor": "white",
           "zerolinewidth": 2
          }
         }
        },
        "title": {
         "text": "Internet Usage Over Time in Africa by Region"
        },
        "xaxis": {
         "anchor": "y",
         "domain": [
          0,
          1
         ],
         "title": {
          "text": "Year"
         }
        },
        "yaxis": {
         "anchor": "x",
         "domain": [
          0,
          1
         ],
         "title": {
          "text": "internet_usage(%)"
         }
        }
       }
      }
     },
     "metadata": {},
     "output_type": "display_data"
    }
   ],
   "source": [
    "fig = px.line(\n",
    "    african_internet,\n",
    "    x='Year',\n",
    "    y='internet_usage(%)',\n",
    "    color='Region_Country_Area',\n",
    "    markers=True,\n",
    "    title='Internet Usage Over Time in Africa by Region'\n",
    ")\n",
    "\n",
    "fig.show()"
   ]
  },
  {
   "cell_type": "markdown",
   "metadata": {},
   "source": [
    "2. Descriptive Statistics by Region and Country\n",
    "   - Primary Question: What statistical measures describe internet usage distribution?\n",
    "     - Sub-questions:\n",
    "       - How do internet usage rates compare between different world regions?\n",
    "       - What is the mean, median, and standard deviation of internet usage per region?\n",
    "       - Which regions have the highest and lowest percentages of internet users as of the latest data?\n"
   ]
  },
  {
   "cell_type": "code",
   "execution_count": 10,
   "metadata": {},
   "outputs": [
    {
     "data": {
      "text/html": [
       "<div>\n",
       "<style scoped>\n",
       "    .dataframe tbody tr th:only-of-type {\n",
       "        vertical-align: middle;\n",
       "    }\n",
       "\n",
       "    .dataframe tbody tr th {\n",
       "        vertical-align: top;\n",
       "    }\n",
       "\n",
       "    .dataframe thead th {\n",
       "        text-align: right;\n",
       "    }\n",
       "</style>\n",
       "<table border=\"1\" class=\"dataframe\">\n",
       "  <thead>\n",
       "    <tr style=\"text-align: right;\">\n",
       "      <th></th>\n",
       "      <th>Region_Country_Area</th>\n",
       "      <th>Year</th>\n",
       "      <th>internet_usage(%)</th>\n",
       "      <th>Continent</th>\n",
       "    </tr>\n",
       "  </thead>\n",
       "  <tbody>\n",
       "    <tr>\n",
       "      <th>7</th>\n",
       "      <td>Northern Africa</td>\n",
       "      <td>2000</td>\n",
       "      <td>0.6</td>\n",
       "      <td>Africa</td>\n",
       "    </tr>\n",
       "    <tr>\n",
       "      <th>8</th>\n",
       "      <td>Northern Africa</td>\n",
       "      <td>2005</td>\n",
       "      <td>9.7</td>\n",
       "      <td>Africa</td>\n",
       "    </tr>\n",
       "    <tr>\n",
       "      <th>9</th>\n",
       "      <td>Northern Africa</td>\n",
       "      <td>2010</td>\n",
       "      <td>23.2</td>\n",
       "      <td>Africa</td>\n",
       "    </tr>\n",
       "    <tr>\n",
       "      <th>10</th>\n",
       "      <td>Northern Africa</td>\n",
       "      <td>2015</td>\n",
       "      <td>36.6</td>\n",
       "      <td>Africa</td>\n",
       "    </tr>\n",
       "    <tr>\n",
       "      <th>11</th>\n",
       "      <td>Northern Africa</td>\n",
       "      <td>2019</td>\n",
       "      <td>56.0</td>\n",
       "      <td>Africa</td>\n",
       "    </tr>\n",
       "    <tr>\n",
       "      <th>...</th>\n",
       "      <td>...</td>\n",
       "      <td>...</td>\n",
       "      <td>...</td>\n",
       "      <td>...</td>\n",
       "    </tr>\n",
       "    <tr>\n",
       "      <th>134</th>\n",
       "      <td>Micronesia</td>\n",
       "      <td>2010</td>\n",
       "      <td>20.0</td>\n",
       "      <td>Oceania</td>\n",
       "    </tr>\n",
       "    <tr>\n",
       "      <th>135</th>\n",
       "      <td>Micronesia</td>\n",
       "      <td>2015</td>\n",
       "      <td>31.5</td>\n",
       "      <td>Oceania</td>\n",
       "    </tr>\n",
       "    <tr>\n",
       "      <th>136</th>\n",
       "      <td>Micronesia</td>\n",
       "      <td>2019</td>\n",
       "      <td>39.9</td>\n",
       "      <td>Oceania</td>\n",
       "    </tr>\n",
       "    <tr>\n",
       "      <th>137</th>\n",
       "      <td>Micronesia</td>\n",
       "      <td>2020</td>\n",
       "      <td>40.1</td>\n",
       "      <td>Oceania</td>\n",
       "    </tr>\n",
       "    <tr>\n",
       "      <th>138</th>\n",
       "      <td>Micronesia</td>\n",
       "      <td>2021</td>\n",
       "      <td>40.4</td>\n",
       "      <td>Oceania</td>\n",
       "    </tr>\n",
       "  </tbody>\n",
       "</table>\n",
       "<p>118 rows × 4 columns</p>\n",
       "</div>"
      ],
      "text/plain": [
       "    Region_Country_Area  Year  internet_usage(%) Continent\n",
       "7       Northern Africa  2000                0.6    Africa\n",
       "8       Northern Africa  2005                9.7    Africa\n",
       "9       Northern Africa  2010               23.2    Africa\n",
       "10      Northern Africa  2015               36.6    Africa\n",
       "11      Northern Africa  2019               56.0    Africa\n",
       "..                  ...   ...                ...       ...\n",
       "134          Micronesia  2010               20.0   Oceania\n",
       "135          Micronesia  2015               31.5   Oceania\n",
       "136          Micronesia  2019               39.9   Oceania\n",
       "137          Micronesia  2020               40.1   Oceania\n",
       "138          Micronesia  2021               40.4   Oceania\n",
       "\n",
       "[118 rows x 4 columns]"
      ]
     },
     "execution_count": 10,
     "metadata": {},
     "output_type": "execute_result"
    }
   ],
   "source": [
    "continent_data"
   ]
  },
  {
   "cell_type": "code",
   "execution_count": 11,
   "metadata": {},
   "outputs": [
    {
     "data": {
      "application/vnd.plotly.v1+json": {
       "config": {
        "plotlyServerURL": "https://plot.ly"
       },
       "data": [
        {
         "alignmentgroup": "True",
         "customdata": [
          [
           2000
          ],
          [
           2005
          ],
          [
           2010
          ],
          [
           2015
          ],
          [
           2019
          ],
          [
           2020
          ],
          [
           2021
          ]
         ],
         "hovertemplate": "Continent=Africa<br>internet_usage(%)=%{x}<br>index=%{y}<br>Year=%{customdata[0]}<extra></extra>",
         "legendgroup": "Africa",
         "marker": {
          "color": "#636efa",
          "pattern": {
           "shape": ""
          }
         },
         "name": "Africa",
         "offsetgroup": "Africa",
         "orientation": "h",
         "showlegend": true,
         "textposition": "auto",
         "type": "bar",
         "x": [
          1.2333333333333334,
          3.85,
          10.700000000000001,
          23.516666666666666,
          37.416666666666664,
          42.016666666666666,
          45.449999999999996
         ],
         "xaxis": "x",
         "y": [
          0,
          1,
          2,
          3,
          4,
          5,
          6
         ],
         "yaxis": "y"
        },
        {
         "alignmentgroup": "True",
         "customdata": [
          [
           2000
          ],
          [
           2005
          ],
          [
           2010
          ],
          [
           2015
          ],
          [
           2019
          ],
          [
           2020
          ],
          [
           2021
          ]
         ],
         "hovertemplate": "Continent=Asia<br>internet_usage(%)=%{x}<br>index=%{y}<br>Year=%{customdata[0]}<extra></extra>",
         "legendgroup": "Asia",
         "marker": {
          "color": "#EF553B",
          "pattern": {
           "shape": ""
          }
         },
         "name": "Asia",
         "offsetgroup": "Asia",
         "orientation": "h",
         "showlegend": true,
         "textposition": "auto",
         "type": "bar",
         "x": [
          2.3333333333333335,
          7.466666666666666,
          20.766666666666666,
          35.300000000000004,
          52.050000000000004,
          58.35,
          61.666666666666664
         ],
         "xaxis": "x",
         "y": [
          7,
          8,
          9,
          10,
          11,
          12,
          13
         ],
         "yaxis": "y"
        },
        {
         "alignmentgroup": "True",
         "customdata": [
          [
           2005
          ],
          [
           2010
          ],
          [
           2015
          ],
          [
           2019
          ],
          [
           2020
          ],
          [
           2021
          ]
         ],
         "hovertemplate": "Continent=Europe<br>internet_usage(%)=%{x}<br>index=%{y}<br>Year=%{customdata[0]}<extra></extra>",
         "legendgroup": "Europe",
         "marker": {
          "color": "#00cc96",
          "pattern": {
           "shape": ""
          }
         },
         "name": "Europe",
         "offsetgroup": "Europe",
         "orientation": "h",
         "showlegend": true,
         "textposition": "auto",
         "type": "bar",
         "x": [
          39.7,
          62.5,
          74.1,
          82.8,
          85.1,
          87.6
         ],
         "xaxis": "x",
         "y": [
          14,
          15,
          16,
          17,
          18,
          19
         ],
         "yaxis": "y"
        },
        {
         "alignmentgroup": "True",
         "customdata": [
          [
           2000
          ],
          [
           2005
          ],
          [
           2010
          ],
          [
           2015
          ],
          [
           2019
          ],
          [
           2020
          ],
          [
           2021
          ]
         ],
         "hovertemplate": "Continent=North America<br>internet_usage(%)=%{x}<br>index=%{y}<br>Year=%{customdata[0]}<extra></extra>",
         "legendgroup": "North America",
         "marker": {
          "color": "#ab63fa",
          "pattern": {
           "shape": ""
          }
         },
         "name": "North America",
         "offsetgroup": "North America",
         "orientation": "h",
         "showlegend": true,
         "textposition": "auto",
         "type": "bar",
         "x": [
          51.3,
          68.3,
          72.5,
          76.1,
          89.7,
          90.8,
          91.9
         ],
         "xaxis": "x",
         "y": [
          20,
          21,
          22,
          23,
          24,
          25,
          26
         ],
         "yaxis": "y"
        },
        {
         "alignmentgroup": "True",
         "customdata": [
          [
           2000
          ],
          [
           2005
          ],
          [
           2010
          ],
          [
           2015
          ],
          [
           2019
          ],
          [
           2020
          ],
          [
           2021
          ]
         ],
         "hovertemplate": "Continent=Oceania<br>internet_usage(%)=%{x}<br>index=%{y}<br>Year=%{customdata[0]}<extra></extra>",
         "legendgroup": "Oceania",
         "marker": {
          "color": "#FFA15A",
          "pattern": {
           "shape": ""
          }
         },
         "name": "Oceania",
         "offsetgroup": "Oceania",
         "orientation": "h",
         "showlegend": true,
         "textposition": "auto",
         "type": "bar",
         "x": [
          28.03333333333333,
          40.666666666666664,
          51.20000000000001,
          60.166666666666664,
          69.06666666666666,
          71.39999999999999,
          72.10000000000001
         ],
         "xaxis": "x",
         "y": [
          27,
          28,
          29,
          30,
          31,
          32,
          33
         ],
         "yaxis": "y"
        }
       ],
       "layout": {
        "barmode": "relative",
        "legend": {
         "title": {
          "text": "Continent"
         },
         "tracegroupgap": 0
        },
        "template": {
         "data": {
          "bar": [
           {
            "error_x": {
             "color": "#2a3f5f"
            },
            "error_y": {
             "color": "#2a3f5f"
            },
            "marker": {
             "line": {
              "color": "#E5ECF6",
              "width": 0.5
             },
             "pattern": {
              "fillmode": "overlay",
              "size": 10,
              "solidity": 0.2
             }
            },
            "type": "bar"
           }
          ],
          "barpolar": [
           {
            "marker": {
             "line": {
              "color": "#E5ECF6",
              "width": 0.5
             },
             "pattern": {
              "fillmode": "overlay",
              "size": 10,
              "solidity": 0.2
             }
            },
            "type": "barpolar"
           }
          ],
          "carpet": [
           {
            "aaxis": {
             "endlinecolor": "#2a3f5f",
             "gridcolor": "white",
             "linecolor": "white",
             "minorgridcolor": "white",
             "startlinecolor": "#2a3f5f"
            },
            "baxis": {
             "endlinecolor": "#2a3f5f",
             "gridcolor": "white",
             "linecolor": "white",
             "minorgridcolor": "white",
             "startlinecolor": "#2a3f5f"
            },
            "type": "carpet"
           }
          ],
          "choropleth": [
           {
            "colorbar": {
             "outlinewidth": 0,
             "ticks": ""
            },
            "type": "choropleth"
           }
          ],
          "contour": [
           {
            "colorbar": {
             "outlinewidth": 0,
             "ticks": ""
            },
            "colorscale": [
             [
              0,
              "#0d0887"
             ],
             [
              0.1111111111111111,
              "#46039f"
             ],
             [
              0.2222222222222222,
              "#7201a8"
             ],
             [
              0.3333333333333333,
              "#9c179e"
             ],
             [
              0.4444444444444444,
              "#bd3786"
             ],
             [
              0.5555555555555556,
              "#d8576b"
             ],
             [
              0.6666666666666666,
              "#ed7953"
             ],
             [
              0.7777777777777778,
              "#fb9f3a"
             ],
             [
              0.8888888888888888,
              "#fdca26"
             ],
             [
              1,
              "#f0f921"
             ]
            ],
            "type": "contour"
           }
          ],
          "contourcarpet": [
           {
            "colorbar": {
             "outlinewidth": 0,
             "ticks": ""
            },
            "type": "contourcarpet"
           }
          ],
          "heatmap": [
           {
            "colorbar": {
             "outlinewidth": 0,
             "ticks": ""
            },
            "colorscale": [
             [
              0,
              "#0d0887"
             ],
             [
              0.1111111111111111,
              "#46039f"
             ],
             [
              0.2222222222222222,
              "#7201a8"
             ],
             [
              0.3333333333333333,
              "#9c179e"
             ],
             [
              0.4444444444444444,
              "#bd3786"
             ],
             [
              0.5555555555555556,
              "#d8576b"
             ],
             [
              0.6666666666666666,
              "#ed7953"
             ],
             [
              0.7777777777777778,
              "#fb9f3a"
             ],
             [
              0.8888888888888888,
              "#fdca26"
             ],
             [
              1,
              "#f0f921"
             ]
            ],
            "type": "heatmap"
           }
          ],
          "heatmapgl": [
           {
            "colorbar": {
             "outlinewidth": 0,
             "ticks": ""
            },
            "colorscale": [
             [
              0,
              "#0d0887"
             ],
             [
              0.1111111111111111,
              "#46039f"
             ],
             [
              0.2222222222222222,
              "#7201a8"
             ],
             [
              0.3333333333333333,
              "#9c179e"
             ],
             [
              0.4444444444444444,
              "#bd3786"
             ],
             [
              0.5555555555555556,
              "#d8576b"
             ],
             [
              0.6666666666666666,
              "#ed7953"
             ],
             [
              0.7777777777777778,
              "#fb9f3a"
             ],
             [
              0.8888888888888888,
              "#fdca26"
             ],
             [
              1,
              "#f0f921"
             ]
            ],
            "type": "heatmapgl"
           }
          ],
          "histogram": [
           {
            "marker": {
             "pattern": {
              "fillmode": "overlay",
              "size": 10,
              "solidity": 0.2
             }
            },
            "type": "histogram"
           }
          ],
          "histogram2d": [
           {
            "colorbar": {
             "outlinewidth": 0,
             "ticks": ""
            },
            "colorscale": [
             [
              0,
              "#0d0887"
             ],
             [
              0.1111111111111111,
              "#46039f"
             ],
             [
              0.2222222222222222,
              "#7201a8"
             ],
             [
              0.3333333333333333,
              "#9c179e"
             ],
             [
              0.4444444444444444,
              "#bd3786"
             ],
             [
              0.5555555555555556,
              "#d8576b"
             ],
             [
              0.6666666666666666,
              "#ed7953"
             ],
             [
              0.7777777777777778,
              "#fb9f3a"
             ],
             [
              0.8888888888888888,
              "#fdca26"
             ],
             [
              1,
              "#f0f921"
             ]
            ],
            "type": "histogram2d"
           }
          ],
          "histogram2dcontour": [
           {
            "colorbar": {
             "outlinewidth": 0,
             "ticks": ""
            },
            "colorscale": [
             [
              0,
              "#0d0887"
             ],
             [
              0.1111111111111111,
              "#46039f"
             ],
             [
              0.2222222222222222,
              "#7201a8"
             ],
             [
              0.3333333333333333,
              "#9c179e"
             ],
             [
              0.4444444444444444,
              "#bd3786"
             ],
             [
              0.5555555555555556,
              "#d8576b"
             ],
             [
              0.6666666666666666,
              "#ed7953"
             ],
             [
              0.7777777777777778,
              "#fb9f3a"
             ],
             [
              0.8888888888888888,
              "#fdca26"
             ],
             [
              1,
              "#f0f921"
             ]
            ],
            "type": "histogram2dcontour"
           }
          ],
          "mesh3d": [
           {
            "colorbar": {
             "outlinewidth": 0,
             "ticks": ""
            },
            "type": "mesh3d"
           }
          ],
          "parcoords": [
           {
            "line": {
             "colorbar": {
              "outlinewidth": 0,
              "ticks": ""
             }
            },
            "type": "parcoords"
           }
          ],
          "pie": [
           {
            "automargin": true,
            "type": "pie"
           }
          ],
          "scatter": [
           {
            "fillpattern": {
             "fillmode": "overlay",
             "size": 10,
             "solidity": 0.2
            },
            "type": "scatter"
           }
          ],
          "scatter3d": [
           {
            "line": {
             "colorbar": {
              "outlinewidth": 0,
              "ticks": ""
             }
            },
            "marker": {
             "colorbar": {
              "outlinewidth": 0,
              "ticks": ""
             }
            },
            "type": "scatter3d"
           }
          ],
          "scattercarpet": [
           {
            "marker": {
             "colorbar": {
              "outlinewidth": 0,
              "ticks": ""
             }
            },
            "type": "scattercarpet"
           }
          ],
          "scattergeo": [
           {
            "marker": {
             "colorbar": {
              "outlinewidth": 0,
              "ticks": ""
             }
            },
            "type": "scattergeo"
           }
          ],
          "scattergl": [
           {
            "marker": {
             "colorbar": {
              "outlinewidth": 0,
              "ticks": ""
             }
            },
            "type": "scattergl"
           }
          ],
          "scattermapbox": [
           {
            "marker": {
             "colorbar": {
              "outlinewidth": 0,
              "ticks": ""
             }
            },
            "type": "scattermapbox"
           }
          ],
          "scatterpolar": [
           {
            "marker": {
             "colorbar": {
              "outlinewidth": 0,
              "ticks": ""
             }
            },
            "type": "scatterpolar"
           }
          ],
          "scatterpolargl": [
           {
            "marker": {
             "colorbar": {
              "outlinewidth": 0,
              "ticks": ""
             }
            },
            "type": "scatterpolargl"
           }
          ],
          "scatterternary": [
           {
            "marker": {
             "colorbar": {
              "outlinewidth": 0,
              "ticks": ""
             }
            },
            "type": "scatterternary"
           }
          ],
          "surface": [
           {
            "colorbar": {
             "outlinewidth": 0,
             "ticks": ""
            },
            "colorscale": [
             [
              0,
              "#0d0887"
             ],
             [
              0.1111111111111111,
              "#46039f"
             ],
             [
              0.2222222222222222,
              "#7201a8"
             ],
             [
              0.3333333333333333,
              "#9c179e"
             ],
             [
              0.4444444444444444,
              "#bd3786"
             ],
             [
              0.5555555555555556,
              "#d8576b"
             ],
             [
              0.6666666666666666,
              "#ed7953"
             ],
             [
              0.7777777777777778,
              "#fb9f3a"
             ],
             [
              0.8888888888888888,
              "#fdca26"
             ],
             [
              1,
              "#f0f921"
             ]
            ],
            "type": "surface"
           }
          ],
          "table": [
           {
            "cells": {
             "fill": {
              "color": "#EBF0F8"
             },
             "line": {
              "color": "white"
             }
            },
            "header": {
             "fill": {
              "color": "#C8D4E3"
             },
             "line": {
              "color": "white"
             }
            },
            "type": "table"
           }
          ]
         },
         "layout": {
          "annotationdefaults": {
           "arrowcolor": "#2a3f5f",
           "arrowhead": 0,
           "arrowwidth": 1
          },
          "autotypenumbers": "strict",
          "coloraxis": {
           "colorbar": {
            "outlinewidth": 0,
            "ticks": ""
           }
          },
          "colorscale": {
           "diverging": [
            [
             0,
             "#8e0152"
            ],
            [
             0.1,
             "#c51b7d"
            ],
            [
             0.2,
             "#de77ae"
            ],
            [
             0.3,
             "#f1b6da"
            ],
            [
             0.4,
             "#fde0ef"
            ],
            [
             0.5,
             "#f7f7f7"
            ],
            [
             0.6,
             "#e6f5d0"
            ],
            [
             0.7,
             "#b8e186"
            ],
            [
             0.8,
             "#7fbc41"
            ],
            [
             0.9,
             "#4d9221"
            ],
            [
             1,
             "#276419"
            ]
           ],
           "sequential": [
            [
             0,
             "#0d0887"
            ],
            [
             0.1111111111111111,
             "#46039f"
            ],
            [
             0.2222222222222222,
             "#7201a8"
            ],
            [
             0.3333333333333333,
             "#9c179e"
            ],
            [
             0.4444444444444444,
             "#bd3786"
            ],
            [
             0.5555555555555556,
             "#d8576b"
            ],
            [
             0.6666666666666666,
             "#ed7953"
            ],
            [
             0.7777777777777778,
             "#fb9f3a"
            ],
            [
             0.8888888888888888,
             "#fdca26"
            ],
            [
             1,
             "#f0f921"
            ]
           ],
           "sequentialminus": [
            [
             0,
             "#0d0887"
            ],
            [
             0.1111111111111111,
             "#46039f"
            ],
            [
             0.2222222222222222,
             "#7201a8"
            ],
            [
             0.3333333333333333,
             "#9c179e"
            ],
            [
             0.4444444444444444,
             "#bd3786"
            ],
            [
             0.5555555555555556,
             "#d8576b"
            ],
            [
             0.6666666666666666,
             "#ed7953"
            ],
            [
             0.7777777777777778,
             "#fb9f3a"
            ],
            [
             0.8888888888888888,
             "#fdca26"
            ],
            [
             1,
             "#f0f921"
            ]
           ]
          },
          "colorway": [
           "#636efa",
           "#EF553B",
           "#00cc96",
           "#ab63fa",
           "#FFA15A",
           "#19d3f3",
           "#FF6692",
           "#B6E880",
           "#FF97FF",
           "#FECB52"
          ],
          "font": {
           "color": "#2a3f5f"
          },
          "geo": {
           "bgcolor": "white",
           "lakecolor": "white",
           "landcolor": "#E5ECF6",
           "showlakes": true,
           "showland": true,
           "subunitcolor": "white"
          },
          "hoverlabel": {
           "align": "left"
          },
          "hovermode": "closest",
          "mapbox": {
           "style": "light"
          },
          "paper_bgcolor": "white",
          "plot_bgcolor": "#E5ECF6",
          "polar": {
           "angularaxis": {
            "gridcolor": "white",
            "linecolor": "white",
            "ticks": ""
           },
           "bgcolor": "#E5ECF6",
           "radialaxis": {
            "gridcolor": "white",
            "linecolor": "white",
            "ticks": ""
           }
          },
          "scene": {
           "xaxis": {
            "backgroundcolor": "#E5ECF6",
            "gridcolor": "white",
            "gridwidth": 2,
            "linecolor": "white",
            "showbackground": true,
            "ticks": "",
            "zerolinecolor": "white"
           },
           "yaxis": {
            "backgroundcolor": "#E5ECF6",
            "gridcolor": "white",
            "gridwidth": 2,
            "linecolor": "white",
            "showbackground": true,
            "ticks": "",
            "zerolinecolor": "white"
           },
           "zaxis": {
            "backgroundcolor": "#E5ECF6",
            "gridcolor": "white",
            "gridwidth": 2,
            "linecolor": "white",
            "showbackground": true,
            "ticks": "",
            "zerolinecolor": "white"
           }
          },
          "shapedefaults": {
           "line": {
            "color": "#2a3f5f"
           }
          },
          "ternary": {
           "aaxis": {
            "gridcolor": "white",
            "linecolor": "white",
            "ticks": ""
           },
           "baxis": {
            "gridcolor": "white",
            "linecolor": "white",
            "ticks": ""
           },
           "bgcolor": "#E5ECF6",
           "caxis": {
            "gridcolor": "white",
            "linecolor": "white",
            "ticks": ""
           }
          },
          "title": {
           "x": 0.05
          },
          "xaxis": {
           "automargin": true,
           "gridcolor": "white",
           "linecolor": "white",
           "ticks": "",
           "title": {
            "standoff": 15
           },
           "zerolinecolor": "white",
           "zerolinewidth": 2
          },
          "yaxis": {
           "automargin": true,
           "gridcolor": "white",
           "linecolor": "white",
           "ticks": "",
           "title": {
            "standoff": 15
           },
           "zerolinecolor": "white",
           "zerolinewidth": 2
          }
         }
        },
        "title": {
         "text": "Bar chart: Internet Usage by Continent"
        },
        "xaxis": {
         "anchor": "y",
         "domain": [
          0,
          1
         ],
         "title": {
          "text": "internet_usage(%)"
         }
        },
        "yaxis": {
         "anchor": "x",
         "domain": [
          0,
          1
         ],
         "title": {
          "text": "index"
         }
        }
       }
      }
     },
     "metadata": {},
     "output_type": "display_data"
    }
   ],
   "source": [
    "# How do internet usage rates compare between different world regions?\n",
    "px.bar(\n",
    "    mean_internet_usage,\n",
    "    x='internet_usage(%)',\n",
    "    color='Continent',\n",
    "    hover_data=['Year'],\n",
    "    title='Bar chart: Internet Usage by Continent'\n",
    ")"
   ]
  },
  {
   "cell_type": "markdown",
   "metadata": {},
   "source": [
    "- Africa is the continent with the lowest internet usage rates, while North America has the highest rates.\n",
    "- Europe is the second to North America in terms of internet usage rates.\n",
    "- Oceania has the third highest internet usage rates."
   ]
  },
  {
   "cell_type": "code",
   "execution_count": 12,
   "metadata": {},
   "outputs": [
    {
     "data": {
      "text/html": [
       "<div>\n",
       "<style scoped>\n",
       "    .dataframe tbody tr th:only-of-type {\n",
       "        vertical-align: middle;\n",
       "    }\n",
       "\n",
       "    .dataframe tbody tr th {\n",
       "        vertical-align: top;\n",
       "    }\n",
       "\n",
       "    .dataframe thead th {\n",
       "        text-align: right;\n",
       "    }\n",
       "</style>\n",
       "<table border=\"1\" class=\"dataframe\">\n",
       "  <thead>\n",
       "    <tr style=\"text-align: right;\">\n",
       "      <th></th>\n",
       "      <th>Continent</th>\n",
       "      <th>mean</th>\n",
       "      <th>median</th>\n",
       "      <th>std</th>\n",
       "    </tr>\n",
       "  </thead>\n",
       "  <tbody>\n",
       "    <tr>\n",
       "      <th>0</th>\n",
       "      <td>Africa</td>\n",
       "      <td>23.454762</td>\n",
       "      <td>18.05</td>\n",
       "      <td>22.474161</td>\n",
       "    </tr>\n",
       "    <tr>\n",
       "      <th>1</th>\n",
       "      <td>Asia</td>\n",
       "      <td>33.990476</td>\n",
       "      <td>32.40</td>\n",
       "      <td>25.600113</td>\n",
       "    </tr>\n",
       "    <tr>\n",
       "      <th>2</th>\n",
       "      <td>Europe</td>\n",
       "      <td>71.966667</td>\n",
       "      <td>78.45</td>\n",
       "      <td>18.273223</td>\n",
       "    </tr>\n",
       "    <tr>\n",
       "      <th>3</th>\n",
       "      <td>North America</td>\n",
       "      <td>77.228571</td>\n",
       "      <td>76.10</td>\n",
       "      <td>14.891912</td>\n",
       "    </tr>\n",
       "    <tr>\n",
       "      <th>4</th>\n",
       "      <td>Oceania</td>\n",
       "      <td>56.090476</td>\n",
       "      <td>56.90</td>\n",
       "      <td>27.686638</td>\n",
       "    </tr>\n",
       "  </tbody>\n",
       "</table>\n",
       "</div>"
      ],
      "text/plain": [
       "       Continent       mean  median        std\n",
       "0         Africa  23.454762   18.05  22.474161\n",
       "1           Asia  33.990476   32.40  25.600113\n",
       "2         Europe  71.966667   78.45  18.273223\n",
       "3  North America  77.228571   76.10  14.891912\n",
       "4        Oceania  56.090476   56.90  27.686638"
      ]
     },
     "execution_count": 12,
     "metadata": {},
     "output_type": "execute_result"
    }
   ],
   "source": [
    "# What is the mean, median, and standard deviation of internet usage per region?\n",
    "internet_usage_stats = continent_data.groupby('Continent')['internet_usage(%)'].agg(['mean', 'median', 'std']).reset_index()\n",
    "internet_usage_stats"
   ]
  },
  {
   "cell_type": "markdown",
   "metadata": {},
   "source": [
    "- North America is the continent with low STD, which means that the internet usage is more consistent across the years.\n",
    "- This also means that all nations In North America have a similar internet usage rate. There is no big gaps\n",
    "- And its mean is the highest among all continents, which means that it has the highest internet usage rate.\n",
    "#\n",
    "\n",
    "- On the other hand, Asia is the continet with highest STD, which means that the internet usage is not equally distributed among its nations.\n",
    "- Afirca has the lowest mean, which means that it has the lowest internet usage rate among all her continents."
   ]
  },
  {
   "cell_type": "code",
   "execution_count": 13,
   "metadata": {},
   "outputs": [
    {
     "data": {
      "application/vnd.plotly.v1+json": {
       "config": {
        "plotlyServerURL": "https://plot.ly"
       },
       "data": [
        {
         "alignmentgroup": "True",
         "hovertemplate": "Continent=Oceania<br>internet_usage(%)=%{x}<br>Region_Country_Area=%{y}<extra></extra>",
         "legendgroup": "Oceania",
         "marker": {
          "color": "#636efa",
          "pattern": {
           "shape": ""
          }
         },
         "name": "Oceania",
         "offsetgroup": "Oceania",
         "orientation": "h",
         "showlegend": true,
         "textposition": "auto",
         "type": "bar",
         "x": [
          96.2,
          79.7,
          40.4
         ],
         "xaxis": "x",
         "y": [
          "Australia and New Zealand",
          "Oceania",
          "Micronesia"
         ],
         "yaxis": "y"
        },
        {
         "alignmentgroup": "True",
         "hovertemplate": "Continent=North America<br>internet_usage(%)=%{x}<br>Region_Country_Area=%{y}<extra></extra>",
         "legendgroup": "North America",
         "marker": {
          "color": "#EF553B",
          "pattern": {
           "shape": ""
          }
         },
         "name": "North America",
         "offsetgroup": "North America",
         "orientation": "h",
         "showlegend": true,
         "textposition": "auto",
         "type": "bar",
         "x": [
          91.9
         ],
         "xaxis": "x",
         "y": [
          "Northern America"
         ],
         "yaxis": "y"
        },
        {
         "alignmentgroup": "True",
         "hovertemplate": "Continent=Europe<br>internet_usage(%)=%{x}<br>Region_Country_Area=%{y}<extra></extra>",
         "legendgroup": "Europe",
         "marker": {
          "color": "#00cc96",
          "pattern": {
           "shape": ""
          }
         },
         "name": "Europe",
         "offsetgroup": "Europe",
         "orientation": "h",
         "showlegend": true,
         "textposition": "auto",
         "type": "bar",
         "x": [
          87.6
         ],
         "xaxis": "x",
         "y": [
          "Europe"
         ],
         "yaxis": "y"
        },
        {
         "alignmentgroup": "True",
         "hovertemplate": "Continent=Asia<br>internet_usage(%)=%{x}<br>Region_Country_Area=%{y}<extra></extra>",
         "legendgroup": "Asia",
         "marker": {
          "color": "#ab63fa",
          "pattern": {
           "shape": ""
          }
         },
         "name": "Asia",
         "offsetgroup": "Asia",
         "orientation": "h",
         "showlegend": true,
         "textposition": "auto",
         "type": "bar",
         "x": [
          75.2,
          71.9,
          66.5,
          65.2,
          46,
          45.2
         ],
         "xaxis": "x",
         "y": [
          "Eastern Asia",
          "Western Asia",
          "Central Asia",
          "South-eastern Asia",
          "South-central Asia",
          "Southern Asia"
         ],
         "yaxis": "y"
        },
        {
         "alignmentgroup": "True",
         "hovertemplate": "Continent=Africa<br>internet_usage(%)=%{x}<br>Region_Country_Area=%{y}<extra></extra>",
         "legendgroup": "Africa",
         "marker": {
          "color": "#FFA15A",
          "pattern": {
           "shape": ""
          }
         },
         "name": "Africa",
         "offsetgroup": "Africa",
         "orientation": "h",
         "showlegend": true,
         "textposition": "auto",
         "type": "bar",
         "x": [
          70.6,
          70.6,
          48,
          34.9,
          27.9,
          20.7
         ],
         "xaxis": "x",
         "y": [
          "Northern Africa",
          "Southern Africa",
          "Western Africa",
          "Sub-Saharan Africa",
          "Middle Africa",
          "Eastern Africa"
         ],
         "yaxis": "y"
        }
       ],
       "layout": {
        "barmode": "relative",
        "legend": {
         "title": {
          "text": "Continent"
         },
         "tracegroupgap": 0
        },
        "template": {
         "data": {
          "bar": [
           {
            "error_x": {
             "color": "#2a3f5f"
            },
            "error_y": {
             "color": "#2a3f5f"
            },
            "marker": {
             "line": {
              "color": "#E5ECF6",
              "width": 0.5
             },
             "pattern": {
              "fillmode": "overlay",
              "size": 10,
              "solidity": 0.2
             }
            },
            "type": "bar"
           }
          ],
          "barpolar": [
           {
            "marker": {
             "line": {
              "color": "#E5ECF6",
              "width": 0.5
             },
             "pattern": {
              "fillmode": "overlay",
              "size": 10,
              "solidity": 0.2
             }
            },
            "type": "barpolar"
           }
          ],
          "carpet": [
           {
            "aaxis": {
             "endlinecolor": "#2a3f5f",
             "gridcolor": "white",
             "linecolor": "white",
             "minorgridcolor": "white",
             "startlinecolor": "#2a3f5f"
            },
            "baxis": {
             "endlinecolor": "#2a3f5f",
             "gridcolor": "white",
             "linecolor": "white",
             "minorgridcolor": "white",
             "startlinecolor": "#2a3f5f"
            },
            "type": "carpet"
           }
          ],
          "choropleth": [
           {
            "colorbar": {
             "outlinewidth": 0,
             "ticks": ""
            },
            "type": "choropleth"
           }
          ],
          "contour": [
           {
            "colorbar": {
             "outlinewidth": 0,
             "ticks": ""
            },
            "colorscale": [
             [
              0,
              "#0d0887"
             ],
             [
              0.1111111111111111,
              "#46039f"
             ],
             [
              0.2222222222222222,
              "#7201a8"
             ],
             [
              0.3333333333333333,
              "#9c179e"
             ],
             [
              0.4444444444444444,
              "#bd3786"
             ],
             [
              0.5555555555555556,
              "#d8576b"
             ],
             [
              0.6666666666666666,
              "#ed7953"
             ],
             [
              0.7777777777777778,
              "#fb9f3a"
             ],
             [
              0.8888888888888888,
              "#fdca26"
             ],
             [
              1,
              "#f0f921"
             ]
            ],
            "type": "contour"
           }
          ],
          "contourcarpet": [
           {
            "colorbar": {
             "outlinewidth": 0,
             "ticks": ""
            },
            "type": "contourcarpet"
           }
          ],
          "heatmap": [
           {
            "colorbar": {
             "outlinewidth": 0,
             "ticks": ""
            },
            "colorscale": [
             [
              0,
              "#0d0887"
             ],
             [
              0.1111111111111111,
              "#46039f"
             ],
             [
              0.2222222222222222,
              "#7201a8"
             ],
             [
              0.3333333333333333,
              "#9c179e"
             ],
             [
              0.4444444444444444,
              "#bd3786"
             ],
             [
              0.5555555555555556,
              "#d8576b"
             ],
             [
              0.6666666666666666,
              "#ed7953"
             ],
             [
              0.7777777777777778,
              "#fb9f3a"
             ],
             [
              0.8888888888888888,
              "#fdca26"
             ],
             [
              1,
              "#f0f921"
             ]
            ],
            "type": "heatmap"
           }
          ],
          "heatmapgl": [
           {
            "colorbar": {
             "outlinewidth": 0,
             "ticks": ""
            },
            "colorscale": [
             [
              0,
              "#0d0887"
             ],
             [
              0.1111111111111111,
              "#46039f"
             ],
             [
              0.2222222222222222,
              "#7201a8"
             ],
             [
              0.3333333333333333,
              "#9c179e"
             ],
             [
              0.4444444444444444,
              "#bd3786"
             ],
             [
              0.5555555555555556,
              "#d8576b"
             ],
             [
              0.6666666666666666,
              "#ed7953"
             ],
             [
              0.7777777777777778,
              "#fb9f3a"
             ],
             [
              0.8888888888888888,
              "#fdca26"
             ],
             [
              1,
              "#f0f921"
             ]
            ],
            "type": "heatmapgl"
           }
          ],
          "histogram": [
           {
            "marker": {
             "pattern": {
              "fillmode": "overlay",
              "size": 10,
              "solidity": 0.2
             }
            },
            "type": "histogram"
           }
          ],
          "histogram2d": [
           {
            "colorbar": {
             "outlinewidth": 0,
             "ticks": ""
            },
            "colorscale": [
             [
              0,
              "#0d0887"
             ],
             [
              0.1111111111111111,
              "#46039f"
             ],
             [
              0.2222222222222222,
              "#7201a8"
             ],
             [
              0.3333333333333333,
              "#9c179e"
             ],
             [
              0.4444444444444444,
              "#bd3786"
             ],
             [
              0.5555555555555556,
              "#d8576b"
             ],
             [
              0.6666666666666666,
              "#ed7953"
             ],
             [
              0.7777777777777778,
              "#fb9f3a"
             ],
             [
              0.8888888888888888,
              "#fdca26"
             ],
             [
              1,
              "#f0f921"
             ]
            ],
            "type": "histogram2d"
           }
          ],
          "histogram2dcontour": [
           {
            "colorbar": {
             "outlinewidth": 0,
             "ticks": ""
            },
            "colorscale": [
             [
              0,
              "#0d0887"
             ],
             [
              0.1111111111111111,
              "#46039f"
             ],
             [
              0.2222222222222222,
              "#7201a8"
             ],
             [
              0.3333333333333333,
              "#9c179e"
             ],
             [
              0.4444444444444444,
              "#bd3786"
             ],
             [
              0.5555555555555556,
              "#d8576b"
             ],
             [
              0.6666666666666666,
              "#ed7953"
             ],
             [
              0.7777777777777778,
              "#fb9f3a"
             ],
             [
              0.8888888888888888,
              "#fdca26"
             ],
             [
              1,
              "#f0f921"
             ]
            ],
            "type": "histogram2dcontour"
           }
          ],
          "mesh3d": [
           {
            "colorbar": {
             "outlinewidth": 0,
             "ticks": ""
            },
            "type": "mesh3d"
           }
          ],
          "parcoords": [
           {
            "line": {
             "colorbar": {
              "outlinewidth": 0,
              "ticks": ""
             }
            },
            "type": "parcoords"
           }
          ],
          "pie": [
           {
            "automargin": true,
            "type": "pie"
           }
          ],
          "scatter": [
           {
            "fillpattern": {
             "fillmode": "overlay",
             "size": 10,
             "solidity": 0.2
            },
            "type": "scatter"
           }
          ],
          "scatter3d": [
           {
            "line": {
             "colorbar": {
              "outlinewidth": 0,
              "ticks": ""
             }
            },
            "marker": {
             "colorbar": {
              "outlinewidth": 0,
              "ticks": ""
             }
            },
            "type": "scatter3d"
           }
          ],
          "scattercarpet": [
           {
            "marker": {
             "colorbar": {
              "outlinewidth": 0,
              "ticks": ""
             }
            },
            "type": "scattercarpet"
           }
          ],
          "scattergeo": [
           {
            "marker": {
             "colorbar": {
              "outlinewidth": 0,
              "ticks": ""
             }
            },
            "type": "scattergeo"
           }
          ],
          "scattergl": [
           {
            "marker": {
             "colorbar": {
              "outlinewidth": 0,
              "ticks": ""
             }
            },
            "type": "scattergl"
           }
          ],
          "scattermapbox": [
           {
            "marker": {
             "colorbar": {
              "outlinewidth": 0,
              "ticks": ""
             }
            },
            "type": "scattermapbox"
           }
          ],
          "scatterpolar": [
           {
            "marker": {
             "colorbar": {
              "outlinewidth": 0,
              "ticks": ""
             }
            },
            "type": "scatterpolar"
           }
          ],
          "scatterpolargl": [
           {
            "marker": {
             "colorbar": {
              "outlinewidth": 0,
              "ticks": ""
             }
            },
            "type": "scatterpolargl"
           }
          ],
          "scatterternary": [
           {
            "marker": {
             "colorbar": {
              "outlinewidth": 0,
              "ticks": ""
             }
            },
            "type": "scatterternary"
           }
          ],
          "surface": [
           {
            "colorbar": {
             "outlinewidth": 0,
             "ticks": ""
            },
            "colorscale": [
             [
              0,
              "#0d0887"
             ],
             [
              0.1111111111111111,
              "#46039f"
             ],
             [
              0.2222222222222222,
              "#7201a8"
             ],
             [
              0.3333333333333333,
              "#9c179e"
             ],
             [
              0.4444444444444444,
              "#bd3786"
             ],
             [
              0.5555555555555556,
              "#d8576b"
             ],
             [
              0.6666666666666666,
              "#ed7953"
             ],
             [
              0.7777777777777778,
              "#fb9f3a"
             ],
             [
              0.8888888888888888,
              "#fdca26"
             ],
             [
              1,
              "#f0f921"
             ]
            ],
            "type": "surface"
           }
          ],
          "table": [
           {
            "cells": {
             "fill": {
              "color": "#EBF0F8"
             },
             "line": {
              "color": "white"
             }
            },
            "header": {
             "fill": {
              "color": "#C8D4E3"
             },
             "line": {
              "color": "white"
             }
            },
            "type": "table"
           }
          ]
         },
         "layout": {
          "annotationdefaults": {
           "arrowcolor": "#2a3f5f",
           "arrowhead": 0,
           "arrowwidth": 1
          },
          "autotypenumbers": "strict",
          "coloraxis": {
           "colorbar": {
            "outlinewidth": 0,
            "ticks": ""
           }
          },
          "colorscale": {
           "diverging": [
            [
             0,
             "#8e0152"
            ],
            [
             0.1,
             "#c51b7d"
            ],
            [
             0.2,
             "#de77ae"
            ],
            [
             0.3,
             "#f1b6da"
            ],
            [
             0.4,
             "#fde0ef"
            ],
            [
             0.5,
             "#f7f7f7"
            ],
            [
             0.6,
             "#e6f5d0"
            ],
            [
             0.7,
             "#b8e186"
            ],
            [
             0.8,
             "#7fbc41"
            ],
            [
             0.9,
             "#4d9221"
            ],
            [
             1,
             "#276419"
            ]
           ],
           "sequential": [
            [
             0,
             "#0d0887"
            ],
            [
             0.1111111111111111,
             "#46039f"
            ],
            [
             0.2222222222222222,
             "#7201a8"
            ],
            [
             0.3333333333333333,
             "#9c179e"
            ],
            [
             0.4444444444444444,
             "#bd3786"
            ],
            [
             0.5555555555555556,
             "#d8576b"
            ],
            [
             0.6666666666666666,
             "#ed7953"
            ],
            [
             0.7777777777777778,
             "#fb9f3a"
            ],
            [
             0.8888888888888888,
             "#fdca26"
            ],
            [
             1,
             "#f0f921"
            ]
           ],
           "sequentialminus": [
            [
             0,
             "#0d0887"
            ],
            [
             0.1111111111111111,
             "#46039f"
            ],
            [
             0.2222222222222222,
             "#7201a8"
            ],
            [
             0.3333333333333333,
             "#9c179e"
            ],
            [
             0.4444444444444444,
             "#bd3786"
            ],
            [
             0.5555555555555556,
             "#d8576b"
            ],
            [
             0.6666666666666666,
             "#ed7953"
            ],
            [
             0.7777777777777778,
             "#fb9f3a"
            ],
            [
             0.8888888888888888,
             "#fdca26"
            ],
            [
             1,
             "#f0f921"
            ]
           ]
          },
          "colorway": [
           "#636efa",
           "#EF553B",
           "#00cc96",
           "#ab63fa",
           "#FFA15A",
           "#19d3f3",
           "#FF6692",
           "#B6E880",
           "#FF97FF",
           "#FECB52"
          ],
          "font": {
           "color": "#2a3f5f"
          },
          "geo": {
           "bgcolor": "white",
           "lakecolor": "white",
           "landcolor": "#E5ECF6",
           "showlakes": true,
           "showland": true,
           "subunitcolor": "white"
          },
          "hoverlabel": {
           "align": "left"
          },
          "hovermode": "closest",
          "mapbox": {
           "style": "light"
          },
          "paper_bgcolor": "white",
          "plot_bgcolor": "#E5ECF6",
          "polar": {
           "angularaxis": {
            "gridcolor": "white",
            "linecolor": "white",
            "ticks": ""
           },
           "bgcolor": "#E5ECF6",
           "radialaxis": {
            "gridcolor": "white",
            "linecolor": "white",
            "ticks": ""
           }
          },
          "scene": {
           "xaxis": {
            "backgroundcolor": "#E5ECF6",
            "gridcolor": "white",
            "gridwidth": 2,
            "linecolor": "white",
            "showbackground": true,
            "ticks": "",
            "zerolinecolor": "white"
           },
           "yaxis": {
            "backgroundcolor": "#E5ECF6",
            "gridcolor": "white",
            "gridwidth": 2,
            "linecolor": "white",
            "showbackground": true,
            "ticks": "",
            "zerolinecolor": "white"
           },
           "zaxis": {
            "backgroundcolor": "#E5ECF6",
            "gridcolor": "white",
            "gridwidth": 2,
            "linecolor": "white",
            "showbackground": true,
            "ticks": "",
            "zerolinecolor": "white"
           }
          },
          "shapedefaults": {
           "line": {
            "color": "#2a3f5f"
           }
          },
          "ternary": {
           "aaxis": {
            "gridcolor": "white",
            "linecolor": "white",
            "ticks": ""
           },
           "baxis": {
            "gridcolor": "white",
            "linecolor": "white",
            "ticks": ""
           },
           "bgcolor": "#E5ECF6",
           "caxis": {
            "gridcolor": "white",
            "linecolor": "white",
            "ticks": ""
           }
          },
          "title": {
           "x": 0.05
          },
          "xaxis": {
           "automargin": true,
           "gridcolor": "white",
           "linecolor": "white",
           "ticks": "",
           "title": {
            "standoff": 15
           },
           "zerolinecolor": "white",
           "zerolinewidth": 2
          },
          "yaxis": {
           "automargin": true,
           "gridcolor": "white",
           "linecolor": "white",
           "ticks": "",
           "title": {
            "standoff": 15
           },
           "zerolinecolor": "white",
           "zerolinewidth": 2
          }
         }
        },
        "title": {
         "text": "Bar chart: Internet Usage by Region in 2021"
        },
        "xaxis": {
         "anchor": "y",
         "domain": [
          0,
          1
         ],
         "title": {
          "text": "internet_usage(%)"
         }
        },
        "yaxis": {
         "anchor": "x",
         "domain": [
          0,
          1
         ],
         "title": {
          "text": "Region_Country_Area"
         }
        }
       }
      }
     },
     "metadata": {},
     "output_type": "display_data"
    }
   ],
   "source": [
    "# Which regions have the highest and lowest percentages of internet users as of the latest data?\n",
    "latest_data = continent_data[continent_data['Year'] == 2021]\n",
    "latest_data = latest_data.sort_values('internet_usage(%)', ascending=False)\n",
    "\n",
    "\n",
    "latest_data_bar= px.bar(\n",
    "    latest_data,\n",
    "    x='internet_usage(%)',\n",
    "    y='Region_Country_Area',\n",
    "    color='Continent',\n",
    "    title='Bar chart: Internet Usage by Region in 2021'\n",
    ")\n",
    "\n",
    "latest_data_bar.show()"
   ]
  },
  {
   "cell_type": "markdown",
   "metadata": {},
   "source": [
    "### Question 3"
   ]
  },
  {
   "cell_type": "markdown",
   "metadata": {},
   "source": [
    "\n",
    " 3. Outlier and Anomaly Detection\n",
    "   - Primary Question: Are there any unusual patterns in internet usage data across countries and regions?\n",
    "     - Sub-questions:\n",
    "       - Which countries or regions have achieved near-universal internet access (90% and above) by 2021, and when did they reach this threshold?\n",
    "       - Are there anomalies or outliers, such as countries with declining internet usage?\n"
   ]
  },
  {
   "cell_type": "code",
   "execution_count": 14,
   "metadata": {},
   "outputs": [
    {
     "name": "stdout",
     "output_type": "stream",
     "text": [
      "Number of countries with internet usage >= 90% in 2021:  40\n",
      "\n",
      "List of them:\n",
      "\n",
      "=============================================================\n",
      "\n",
      "Saudi Arabia : 100.0%\n",
      "Qatar : 100.0%\n",
      "Bahrain : 100.0%\n",
      "United Arab Emirates : 100.0%\n",
      "Kuwait : 99.7%\n",
      "Iceland : 99.7%\n",
      "Norway : 99.0%\n",
      "Denmark : 98.9%\n",
      "Luxembourg : 98.7%\n",
      "Brunei Darussalam : 98.1%\n",
      "Republic of Korea : 97.6%\n",
      "Malaysia : 96.8%\n",
      "United Kingdom : 96.7%\n",
      "Oman : 96.4%\n",
      "Australia : 96.2%\n",
      "New Zealand : 95.9%\n",
      "Antigua and Barbuda : 95.7%\n",
      "Switzerland : 95.6%\n",
      "Liechtenstein : 95.6%\n",
      "Ireland : 95.2%\n",
      "Bahamas : 94.3%\n",
      "Spain : 93.9%\n",
      "Andorra : 93.9%\n",
      "China, Hong Kong SAR : 93.1%\n",
      "Canada : 92.8%\n",
      "Finland : 92.8%\n",
      "Belgium : 92.8%\n",
      "Austria : 92.5%\n",
      "Netherlands (Kingdom of the) : 92.1%\n",
      "United States of America : 91.8%\n",
      "Germany : 91.4%\n",
      "Latvia : 91.2%\n",
      "Singapore : 91.1%\n",
      "Estonia : 91.0%\n",
      "Kazakhstan : 90.9%\n",
      "Cyprus : 90.8%\n",
      "Israel : 90.3%\n",
      "Chile : 90.2%\n",
      "Other non-specified areas : 90.1%\n",
      "Uruguay : 90.1%\n"
     ]
    }
   ],
   "source": [
    "# country_internet_usage.head()\n",
    "\n",
    "# countries with (>=90%) internet usage in 2021\n",
    "high_internet_usage_2021 = country_internet_usage[(country_internet_usage['Year'] == 2021) & (country_internet_usage['internet_usage(%)'] >= 90)]\n",
    "print(\"Number of countries with internet usage >= 90% in 2021: \", high_internet_usage_2021.shape[0])\n",
    "print()\n",
    "print(\"List of them:\")\n",
    "print('\\n=============================================================\\n')\n",
    "for country in high_internet_usage_2021.sort_values('internet_usage(%)', ascending=False)['Region_Country_Area'].values:\n",
    "    print(f'{country} : {high_internet_usage_2021[high_internet_usage_2021[\"Region_Country_Area\"] == country][\"internet_usage(%)\"].values[0]}%')"
   ]
  },
  {
   "cell_type": "code",
   "execution_count": 15,
   "metadata": {},
   "outputs": [
    {
     "data": {
      "application/vnd.plotly.v1+json": {
       "config": {
        "plotlyServerURL": "https://plot.ly"
       },
       "data": [
        {
         "coloraxis": "coloraxis",
         "geo": "geo",
         "hovertemplate": "Region_Country_Area=%{location}<br>internet_usage(%)=%{z}<extra></extra>",
         "locationmode": "country names",
         "locations": [
          "Andorra",
          "Antigua and Barbuda",
          "Australia",
          "Austria",
          "Bahamas",
          "Bahrain",
          "Belgium",
          "Brunei Darussalam",
          "Canada",
          "Chile",
          "China, Hong Kong SAR",
          "Cyprus",
          "Denmark",
          "Estonia",
          "Finland",
          "Germany",
          "Iceland",
          "Ireland",
          "Israel",
          "Kazakhstan",
          "Kuwait",
          "Latvia",
          "Liechtenstein",
          "Luxembourg",
          "Malaysia",
          "Netherlands (Kingdom of the)",
          "New Zealand",
          "Norway",
          "Oman",
          "Other non-specified areas",
          "Qatar",
          "Republic of Korea",
          "Saudi Arabia",
          "Singapore",
          "Spain",
          "Switzerland",
          "United Arab Emirates",
          "United Kingdom",
          "United States of America",
          "Uruguay"
         ],
         "name": "",
         "type": "choropleth",
         "z": [
          93.9,
          95.7,
          96.2,
          92.5,
          94.3,
          100,
          92.8,
          98.1,
          92.8,
          90.2,
          93.1,
          90.8,
          98.9,
          91,
          92.8,
          91.4,
          99.7,
          95.2,
          90.3,
          90.9,
          99.7,
          91.2,
          95.6,
          98.7,
          96.8,
          92.1,
          95.9,
          99,
          96.4,
          90.1,
          100,
          97.6,
          100,
          91.1,
          93.9,
          95.6,
          100,
          96.7,
          91.8,
          90.1
         ]
        }
       ],
       "layout": {
        "coloraxis": {
         "colorbar": {
          "title": {
           "text": "internet_usage(%)"
          }
         },
         "colorscale": [
          [
           0,
           "#0d0887"
          ],
          [
           0.1111111111111111,
           "#46039f"
          ],
          [
           0.2222222222222222,
           "#7201a8"
          ],
          [
           0.3333333333333333,
           "#9c179e"
          ],
          [
           0.4444444444444444,
           "#bd3786"
          ],
          [
           0.5555555555555556,
           "#d8576b"
          ],
          [
           0.6666666666666666,
           "#ed7953"
          ],
          [
           0.7777777777777778,
           "#fb9f3a"
          ],
          [
           0.8888888888888888,
           "#fdca26"
          ],
          [
           1,
           "#f0f921"
          ]
         ]
        },
        "geo": {
         "center": {},
         "domain": {
          "x": [
           0,
           1
          ],
          "y": [
           0,
           1
          ]
         }
        },
        "height": 800,
        "legend": {
         "tracegroupgap": 0
        },
        "template": {
         "data": {
          "bar": [
           {
            "error_x": {
             "color": "#2a3f5f"
            },
            "error_y": {
             "color": "#2a3f5f"
            },
            "marker": {
             "line": {
              "color": "#E5ECF6",
              "width": 0.5
             },
             "pattern": {
              "fillmode": "overlay",
              "size": 10,
              "solidity": 0.2
             }
            },
            "type": "bar"
           }
          ],
          "barpolar": [
           {
            "marker": {
             "line": {
              "color": "#E5ECF6",
              "width": 0.5
             },
             "pattern": {
              "fillmode": "overlay",
              "size": 10,
              "solidity": 0.2
             }
            },
            "type": "barpolar"
           }
          ],
          "carpet": [
           {
            "aaxis": {
             "endlinecolor": "#2a3f5f",
             "gridcolor": "white",
             "linecolor": "white",
             "minorgridcolor": "white",
             "startlinecolor": "#2a3f5f"
            },
            "baxis": {
             "endlinecolor": "#2a3f5f",
             "gridcolor": "white",
             "linecolor": "white",
             "minorgridcolor": "white",
             "startlinecolor": "#2a3f5f"
            },
            "type": "carpet"
           }
          ],
          "choropleth": [
           {
            "colorbar": {
             "outlinewidth": 0,
             "ticks": ""
            },
            "type": "choropleth"
           }
          ],
          "contour": [
           {
            "colorbar": {
             "outlinewidth": 0,
             "ticks": ""
            },
            "colorscale": [
             [
              0,
              "#0d0887"
             ],
             [
              0.1111111111111111,
              "#46039f"
             ],
             [
              0.2222222222222222,
              "#7201a8"
             ],
             [
              0.3333333333333333,
              "#9c179e"
             ],
             [
              0.4444444444444444,
              "#bd3786"
             ],
             [
              0.5555555555555556,
              "#d8576b"
             ],
             [
              0.6666666666666666,
              "#ed7953"
             ],
             [
              0.7777777777777778,
              "#fb9f3a"
             ],
             [
              0.8888888888888888,
              "#fdca26"
             ],
             [
              1,
              "#f0f921"
             ]
            ],
            "type": "contour"
           }
          ],
          "contourcarpet": [
           {
            "colorbar": {
             "outlinewidth": 0,
             "ticks": ""
            },
            "type": "contourcarpet"
           }
          ],
          "heatmap": [
           {
            "colorbar": {
             "outlinewidth": 0,
             "ticks": ""
            },
            "colorscale": [
             [
              0,
              "#0d0887"
             ],
             [
              0.1111111111111111,
              "#46039f"
             ],
             [
              0.2222222222222222,
              "#7201a8"
             ],
             [
              0.3333333333333333,
              "#9c179e"
             ],
             [
              0.4444444444444444,
              "#bd3786"
             ],
             [
              0.5555555555555556,
              "#d8576b"
             ],
             [
              0.6666666666666666,
              "#ed7953"
             ],
             [
              0.7777777777777778,
              "#fb9f3a"
             ],
             [
              0.8888888888888888,
              "#fdca26"
             ],
             [
              1,
              "#f0f921"
             ]
            ],
            "type": "heatmap"
           }
          ],
          "heatmapgl": [
           {
            "colorbar": {
             "outlinewidth": 0,
             "ticks": ""
            },
            "colorscale": [
             [
              0,
              "#0d0887"
             ],
             [
              0.1111111111111111,
              "#46039f"
             ],
             [
              0.2222222222222222,
              "#7201a8"
             ],
             [
              0.3333333333333333,
              "#9c179e"
             ],
             [
              0.4444444444444444,
              "#bd3786"
             ],
             [
              0.5555555555555556,
              "#d8576b"
             ],
             [
              0.6666666666666666,
              "#ed7953"
             ],
             [
              0.7777777777777778,
              "#fb9f3a"
             ],
             [
              0.8888888888888888,
              "#fdca26"
             ],
             [
              1,
              "#f0f921"
             ]
            ],
            "type": "heatmapgl"
           }
          ],
          "histogram": [
           {
            "marker": {
             "pattern": {
              "fillmode": "overlay",
              "size": 10,
              "solidity": 0.2
             }
            },
            "type": "histogram"
           }
          ],
          "histogram2d": [
           {
            "colorbar": {
             "outlinewidth": 0,
             "ticks": ""
            },
            "colorscale": [
             [
              0,
              "#0d0887"
             ],
             [
              0.1111111111111111,
              "#46039f"
             ],
             [
              0.2222222222222222,
              "#7201a8"
             ],
             [
              0.3333333333333333,
              "#9c179e"
             ],
             [
              0.4444444444444444,
              "#bd3786"
             ],
             [
              0.5555555555555556,
              "#d8576b"
             ],
             [
              0.6666666666666666,
              "#ed7953"
             ],
             [
              0.7777777777777778,
              "#fb9f3a"
             ],
             [
              0.8888888888888888,
              "#fdca26"
             ],
             [
              1,
              "#f0f921"
             ]
            ],
            "type": "histogram2d"
           }
          ],
          "histogram2dcontour": [
           {
            "colorbar": {
             "outlinewidth": 0,
             "ticks": ""
            },
            "colorscale": [
             [
              0,
              "#0d0887"
             ],
             [
              0.1111111111111111,
              "#46039f"
             ],
             [
              0.2222222222222222,
              "#7201a8"
             ],
             [
              0.3333333333333333,
              "#9c179e"
             ],
             [
              0.4444444444444444,
              "#bd3786"
             ],
             [
              0.5555555555555556,
              "#d8576b"
             ],
             [
              0.6666666666666666,
              "#ed7953"
             ],
             [
              0.7777777777777778,
              "#fb9f3a"
             ],
             [
              0.8888888888888888,
              "#fdca26"
             ],
             [
              1,
              "#f0f921"
             ]
            ],
            "type": "histogram2dcontour"
           }
          ],
          "mesh3d": [
           {
            "colorbar": {
             "outlinewidth": 0,
             "ticks": ""
            },
            "type": "mesh3d"
           }
          ],
          "parcoords": [
           {
            "line": {
             "colorbar": {
              "outlinewidth": 0,
              "ticks": ""
             }
            },
            "type": "parcoords"
           }
          ],
          "pie": [
           {
            "automargin": true,
            "type": "pie"
           }
          ],
          "scatter": [
           {
            "fillpattern": {
             "fillmode": "overlay",
             "size": 10,
             "solidity": 0.2
            },
            "type": "scatter"
           }
          ],
          "scatter3d": [
           {
            "line": {
             "colorbar": {
              "outlinewidth": 0,
              "ticks": ""
             }
            },
            "marker": {
             "colorbar": {
              "outlinewidth": 0,
              "ticks": ""
             }
            },
            "type": "scatter3d"
           }
          ],
          "scattercarpet": [
           {
            "marker": {
             "colorbar": {
              "outlinewidth": 0,
              "ticks": ""
             }
            },
            "type": "scattercarpet"
           }
          ],
          "scattergeo": [
           {
            "marker": {
             "colorbar": {
              "outlinewidth": 0,
              "ticks": ""
             }
            },
            "type": "scattergeo"
           }
          ],
          "scattergl": [
           {
            "marker": {
             "colorbar": {
              "outlinewidth": 0,
              "ticks": ""
             }
            },
            "type": "scattergl"
           }
          ],
          "scattermapbox": [
           {
            "marker": {
             "colorbar": {
              "outlinewidth": 0,
              "ticks": ""
             }
            },
            "type": "scattermapbox"
           }
          ],
          "scatterpolar": [
           {
            "marker": {
             "colorbar": {
              "outlinewidth": 0,
              "ticks": ""
             }
            },
            "type": "scatterpolar"
           }
          ],
          "scatterpolargl": [
           {
            "marker": {
             "colorbar": {
              "outlinewidth": 0,
              "ticks": ""
             }
            },
            "type": "scatterpolargl"
           }
          ],
          "scatterternary": [
           {
            "marker": {
             "colorbar": {
              "outlinewidth": 0,
              "ticks": ""
             }
            },
            "type": "scatterternary"
           }
          ],
          "surface": [
           {
            "colorbar": {
             "outlinewidth": 0,
             "ticks": ""
            },
            "colorscale": [
             [
              0,
              "#0d0887"
             ],
             [
              0.1111111111111111,
              "#46039f"
             ],
             [
              0.2222222222222222,
              "#7201a8"
             ],
             [
              0.3333333333333333,
              "#9c179e"
             ],
             [
              0.4444444444444444,
              "#bd3786"
             ],
             [
              0.5555555555555556,
              "#d8576b"
             ],
             [
              0.6666666666666666,
              "#ed7953"
             ],
             [
              0.7777777777777778,
              "#fb9f3a"
             ],
             [
              0.8888888888888888,
              "#fdca26"
             ],
             [
              1,
              "#f0f921"
             ]
            ],
            "type": "surface"
           }
          ],
          "table": [
           {
            "cells": {
             "fill": {
              "color": "#EBF0F8"
             },
             "line": {
              "color": "white"
             }
            },
            "header": {
             "fill": {
              "color": "#C8D4E3"
             },
             "line": {
              "color": "white"
             }
            },
            "type": "table"
           }
          ]
         },
         "layout": {
          "annotationdefaults": {
           "arrowcolor": "#2a3f5f",
           "arrowhead": 0,
           "arrowwidth": 1
          },
          "autotypenumbers": "strict",
          "coloraxis": {
           "colorbar": {
            "outlinewidth": 0,
            "ticks": ""
           }
          },
          "colorscale": {
           "diverging": [
            [
             0,
             "#8e0152"
            ],
            [
             0.1,
             "#c51b7d"
            ],
            [
             0.2,
             "#de77ae"
            ],
            [
             0.3,
             "#f1b6da"
            ],
            [
             0.4,
             "#fde0ef"
            ],
            [
             0.5,
             "#f7f7f7"
            ],
            [
             0.6,
             "#e6f5d0"
            ],
            [
             0.7,
             "#b8e186"
            ],
            [
             0.8,
             "#7fbc41"
            ],
            [
             0.9,
             "#4d9221"
            ],
            [
             1,
             "#276419"
            ]
           ],
           "sequential": [
            [
             0,
             "#0d0887"
            ],
            [
             0.1111111111111111,
             "#46039f"
            ],
            [
             0.2222222222222222,
             "#7201a8"
            ],
            [
             0.3333333333333333,
             "#9c179e"
            ],
            [
             0.4444444444444444,
             "#bd3786"
            ],
            [
             0.5555555555555556,
             "#d8576b"
            ],
            [
             0.6666666666666666,
             "#ed7953"
            ],
            [
             0.7777777777777778,
             "#fb9f3a"
            ],
            [
             0.8888888888888888,
             "#fdca26"
            ],
            [
             1,
             "#f0f921"
            ]
           ],
           "sequentialminus": [
            [
             0,
             "#0d0887"
            ],
            [
             0.1111111111111111,
             "#46039f"
            ],
            [
             0.2222222222222222,
             "#7201a8"
            ],
            [
             0.3333333333333333,
             "#9c179e"
            ],
            [
             0.4444444444444444,
             "#bd3786"
            ],
            [
             0.5555555555555556,
             "#d8576b"
            ],
            [
             0.6666666666666666,
             "#ed7953"
            ],
            [
             0.7777777777777778,
             "#fb9f3a"
            ],
            [
             0.8888888888888888,
             "#fdca26"
            ],
            [
             1,
             "#f0f921"
            ]
           ]
          },
          "colorway": [
           "#636efa",
           "#EF553B",
           "#00cc96",
           "#ab63fa",
           "#FFA15A",
           "#19d3f3",
           "#FF6692",
           "#B6E880",
           "#FF97FF",
           "#FECB52"
          ],
          "font": {
           "color": "#2a3f5f"
          },
          "geo": {
           "bgcolor": "white",
           "lakecolor": "white",
           "landcolor": "#E5ECF6",
           "showlakes": true,
           "showland": true,
           "subunitcolor": "white"
          },
          "hoverlabel": {
           "align": "left"
          },
          "hovermode": "closest",
          "mapbox": {
           "style": "light"
          },
          "paper_bgcolor": "white",
          "plot_bgcolor": "#E5ECF6",
          "polar": {
           "angularaxis": {
            "gridcolor": "white",
            "linecolor": "white",
            "ticks": ""
           },
           "bgcolor": "#E5ECF6",
           "radialaxis": {
            "gridcolor": "white",
            "linecolor": "white",
            "ticks": ""
           }
          },
          "scene": {
           "xaxis": {
            "backgroundcolor": "#E5ECF6",
            "gridcolor": "white",
            "gridwidth": 2,
            "linecolor": "white",
            "showbackground": true,
            "ticks": "",
            "zerolinecolor": "white"
           },
           "yaxis": {
            "backgroundcolor": "#E5ECF6",
            "gridcolor": "white",
            "gridwidth": 2,
            "linecolor": "white",
            "showbackground": true,
            "ticks": "",
            "zerolinecolor": "white"
           },
           "zaxis": {
            "backgroundcolor": "#E5ECF6",
            "gridcolor": "white",
            "gridwidth": 2,
            "linecolor": "white",
            "showbackground": true,
            "ticks": "",
            "zerolinecolor": "white"
           }
          },
          "shapedefaults": {
           "line": {
            "color": "#2a3f5f"
           }
          },
          "ternary": {
           "aaxis": {
            "gridcolor": "white",
            "linecolor": "white",
            "ticks": ""
           },
           "baxis": {
            "gridcolor": "white",
            "linecolor": "white",
            "ticks": ""
           },
           "bgcolor": "#E5ECF6",
           "caxis": {
            "gridcolor": "white",
            "linecolor": "white",
            "ticks": ""
           }
          },
          "title": {
           "x": 0.05
          },
          "xaxis": {
           "automargin": true,
           "gridcolor": "white",
           "linecolor": "white",
           "ticks": "",
           "title": {
            "standoff": 15
           },
           "zerolinecolor": "white",
           "zerolinewidth": 2
          },
          "yaxis": {
           "automargin": true,
           "gridcolor": "white",
           "linecolor": "white",
           "ticks": "",
           "title": {
            "standoff": 15
           },
           "zerolinecolor": "white",
           "zerolinewidth": 2
          }
         }
        },
        "title": {
         "text": "Countries with >=90% Internet Usage in 2021"
        },
        "width": 1050
       }
      }
     },
     "metadata": {},
     "output_type": "display_data"
    }
   ],
   "source": [
    "\n",
    "# Plotting the data using Plotly\n",
    "fig_high_internet_2021 = px.choropleth(\n",
    "    high_internet_usage_2021,\n",
    "    locations='Region_Country_Area',\n",
    "    locationmode='country names',\n",
    "    color='internet_usage(%)',\n",
    "    title='Countries with >=90% Internet Usage in 2021',\n",
    "    width=1050, height=800\n",
    ")\n",
    "\n",
    "fig_high_internet_2021.show()"
   ]
  },
  {
   "cell_type": "markdown",
   "metadata": {},
   "source": [
    "* **- Are there anomalies or outliers, such as countries with declining internet usage?**"
   ]
  },
  {
   "cell_type": "code",
   "execution_count": 16,
   "metadata": {},
   "outputs": [
    {
     "data": {
      "text/html": [
       "<div>\n",
       "<style scoped>\n",
       "    .dataframe tbody tr th:only-of-type {\n",
       "        vertical-align: middle;\n",
       "    }\n",
       "\n",
       "    .dataframe tbody tr th {\n",
       "        vertical-align: top;\n",
       "    }\n",
       "\n",
       "    .dataframe thead th {\n",
       "        text-align: right;\n",
       "    }\n",
       "</style>\n",
       "<table border=\"1\" class=\"dataframe\">\n",
       "  <thead>\n",
       "    <tr style=\"text-align: right;\">\n",
       "      <th></th>\n",
       "      <th>Region_Country_Area</th>\n",
       "      <th>Year_High</th>\n",
       "      <th>internet_usage_High(%)</th>\n",
       "      <th>Year_Low</th>\n",
       "      <th>internet_usage_Low(%)</th>\n",
       "    </tr>\n",
       "  </thead>\n",
       "  <tbody>\n",
       "    <tr>\n",
       "      <th>0</th>\n",
       "      <td>Australia</td>\n",
       "      <td>2020</td>\n",
       "      <td>96.4</td>\n",
       "      <td>2021</td>\n",
       "      <td>96.2</td>\n",
       "    </tr>\n",
       "    <tr>\n",
       "      <th>1</th>\n",
       "      <td>Austria</td>\n",
       "      <td>2019</td>\n",
       "      <td>87.8</td>\n",
       "      <td>2020</td>\n",
       "      <td>87.5</td>\n",
       "    </tr>\n",
       "    <tr>\n",
       "      <th>2</th>\n",
       "      <td>Barbados</td>\n",
       "      <td>2019</td>\n",
       "      <td>83.2</td>\n",
       "      <td>2020</td>\n",
       "      <td>82.5</td>\n",
       "    </tr>\n",
       "    <tr>\n",
       "      <th>3</th>\n",
       "      <td>Brazil</td>\n",
       "      <td>2020</td>\n",
       "      <td>81.3</td>\n",
       "      <td>2021</td>\n",
       "      <td>80.7</td>\n",
       "    </tr>\n",
       "    <tr>\n",
       "      <th>4</th>\n",
       "      <td>Costa Rica</td>\n",
       "      <td>2019</td>\n",
       "      <td>81.2</td>\n",
       "      <td>2020</td>\n",
       "      <td>80.5</td>\n",
       "    </tr>\n",
       "    <tr>\n",
       "      <th>5</th>\n",
       "      <td>Croatia</td>\n",
       "      <td>2019</td>\n",
       "      <td>79.1</td>\n",
       "      <td>2020</td>\n",
       "      <td>78.3</td>\n",
       "    </tr>\n",
       "    <tr>\n",
       "      <th>6</th>\n",
       "      <td>Denmark</td>\n",
       "      <td>2019</td>\n",
       "      <td>98.0</td>\n",
       "      <td>2020</td>\n",
       "      <td>96.5</td>\n",
       "    </tr>\n",
       "    <tr>\n",
       "      <th>7</th>\n",
       "      <td>Estonia</td>\n",
       "      <td>2019</td>\n",
       "      <td>90.2</td>\n",
       "      <td>2020</td>\n",
       "      <td>89.1</td>\n",
       "    </tr>\n",
       "    <tr>\n",
       "      <th>8</th>\n",
       "      <td>Finland</td>\n",
       "      <td>2010</td>\n",
       "      <td>86.9</td>\n",
       "      <td>2015</td>\n",
       "      <td>86.4</td>\n",
       "    </tr>\n",
       "    <tr>\n",
       "      <th>9</th>\n",
       "      <td>Japan</td>\n",
       "      <td>2019</td>\n",
       "      <td>92.7</td>\n",
       "      <td>2020</td>\n",
       "      <td>90.2</td>\n",
       "    </tr>\n",
       "    <tr>\n",
       "      <th>10</th>\n",
       "      <td>Kuwait</td>\n",
       "      <td>2019</td>\n",
       "      <td>99.5</td>\n",
       "      <td>2020</td>\n",
       "      <td>99.1</td>\n",
       "    </tr>\n",
       "    <tr>\n",
       "      <th>11</th>\n",
       "      <td>Liechtenstein</td>\n",
       "      <td>2015</td>\n",
       "      <td>96.6</td>\n",
       "      <td>2019</td>\n",
       "      <td>93.1</td>\n",
       "    </tr>\n",
       "    <tr>\n",
       "      <th>12</th>\n",
       "      <td>Luxembourg</td>\n",
       "      <td>2020</td>\n",
       "      <td>98.8</td>\n",
       "      <td>2021</td>\n",
       "      <td>98.7</td>\n",
       "    </tr>\n",
       "    <tr>\n",
       "      <th>13</th>\n",
       "      <td>Monaco</td>\n",
       "      <td>2015</td>\n",
       "      <td>93.4</td>\n",
       "      <td>2019</td>\n",
       "      <td>83.3</td>\n",
       "    </tr>\n",
       "    <tr>\n",
       "      <th>14</th>\n",
       "      <td>Netherlands (Kingdom of the)</td>\n",
       "      <td>2019</td>\n",
       "      <td>93.3</td>\n",
       "      <td>2020</td>\n",
       "      <td>91.3</td>\n",
       "    </tr>\n",
       "    <tr>\n",
       "      <th>15</th>\n",
       "      <td>Norway</td>\n",
       "      <td>2019</td>\n",
       "      <td>98.0</td>\n",
       "      <td>2020</td>\n",
       "      <td>97.0</td>\n",
       "    </tr>\n",
       "    <tr>\n",
       "      <th>16</th>\n",
       "      <td>Papua New Guinea</td>\n",
       "      <td>2005</td>\n",
       "      <td>1.7</td>\n",
       "      <td>2010</td>\n",
       "      <td>1.3</td>\n",
       "    </tr>\n",
       "    <tr>\n",
       "      <th>17</th>\n",
       "      <td>Saint Kitts and Nevis</td>\n",
       "      <td>2020</td>\n",
       "      <td>80.4</td>\n",
       "      <td>2021</td>\n",
       "      <td>79.5</td>\n",
       "    </tr>\n",
       "    <tr>\n",
       "      <th>18</th>\n",
       "      <td>Singapore</td>\n",
       "      <td>2020</td>\n",
       "      <td>92.0</td>\n",
       "      <td>2021</td>\n",
       "      <td>91.1</td>\n",
       "    </tr>\n",
       "    <tr>\n",
       "      <th>19</th>\n",
       "      <td>Slovakia</td>\n",
       "      <td>2020</td>\n",
       "      <td>89.9</td>\n",
       "      <td>2021</td>\n",
       "      <td>88.9</td>\n",
       "    </tr>\n",
       "    <tr>\n",
       "      <th>20</th>\n",
       "      <td>Sweden</td>\n",
       "      <td>2020</td>\n",
       "      <td>94.5</td>\n",
       "      <td>2021</td>\n",
       "      <td>88.3</td>\n",
       "    </tr>\n",
       "    <tr>\n",
       "      <th>21</th>\n",
       "      <td>Trinidad and Tobago</td>\n",
       "      <td>2019</td>\n",
       "      <td>79.0</td>\n",
       "      <td>2020</td>\n",
       "      <td>78.7</td>\n",
       "    </tr>\n",
       "  </tbody>\n",
       "</table>\n",
       "</div>"
      ],
      "text/plain": [
       "             Region_Country_Area  Year_High  internet_usage_High(%)  Year_Low  \\\n",
       "0                      Australia       2020                    96.4      2021   \n",
       "1                        Austria       2019                    87.8      2020   \n",
       "2                       Barbados       2019                    83.2      2020   \n",
       "3                         Brazil       2020                    81.3      2021   \n",
       "4                     Costa Rica       2019                    81.2      2020   \n",
       "5                        Croatia       2019                    79.1      2020   \n",
       "6                        Denmark       2019                    98.0      2020   \n",
       "7                        Estonia       2019                    90.2      2020   \n",
       "8                        Finland       2010                    86.9      2015   \n",
       "9                          Japan       2019                    92.7      2020   \n",
       "10                        Kuwait       2019                    99.5      2020   \n",
       "11                 Liechtenstein       2015                    96.6      2019   \n",
       "12                    Luxembourg       2020                    98.8      2021   \n",
       "13                        Monaco       2015                    93.4      2019   \n",
       "14  Netherlands (Kingdom of the)       2019                    93.3      2020   \n",
       "15                        Norway       2019                    98.0      2020   \n",
       "16              Papua New Guinea       2005                     1.7      2010   \n",
       "17         Saint Kitts and Nevis       2020                    80.4      2021   \n",
       "18                     Singapore       2020                    92.0      2021   \n",
       "19                      Slovakia       2020                    89.9      2021   \n",
       "20                        Sweden       2020                    94.5      2021   \n",
       "21           Trinidad and Tobago       2019                    79.0      2020   \n",
       "\n",
       "    internet_usage_Low(%)  \n",
       "0                    96.2  \n",
       "1                    87.5  \n",
       "2                    82.5  \n",
       "3                    80.7  \n",
       "4                    80.5  \n",
       "5                    78.3  \n",
       "6                    96.5  \n",
       "7                    89.1  \n",
       "8                    86.4  \n",
       "9                    90.2  \n",
       "10                   99.1  \n",
       "11                   93.1  \n",
       "12                   98.7  \n",
       "13                   83.3  \n",
       "14                   91.3  \n",
       "15                   97.0  \n",
       "16                    1.3  \n",
       "17                   79.5  \n",
       "18                   91.1  \n",
       "19                   88.9  \n",
       "20                   88.3  \n",
       "21                   78.7  "
      ]
     },
     "execution_count": 16,
     "metadata": {},
     "output_type": "execute_result"
    }
   ],
   "source": [
    "\n",
    "def decline_in_internet(df):\n",
    "    result_list = []\n",
    "    \n",
    "    # Iterate over each unique country\n",
    "    for country in df['Region_Country_Area'].unique():\n",
    "        # Filter the data for that specific country and sort by year\n",
    "        country_data = df[df['Region_Country_Area'] == country].sort_values(by='Year').reset_index(drop=True)\n",
    "        \n",
    "        # Iterate over the rows and compare the current year with the previous year\n",
    "        for i in range(1, len(country_data)):\n",
    "            if country_data['internet_usage(%)'].iloc[i] < country_data['internet_usage(%)'].iloc[i - 1]:\n",
    "                # Append both records (the high and the low)\n",
    "                result_list.append({\n",
    "                    'Region_Country_Area': country,\n",
    "                    'Year_High': country_data['Year'].iloc[i - 1],\n",
    "                    'internet_usage_High(%)': country_data['internet_usage(%)'].iloc[i - 1],\n",
    "                    'Year_Low': country_data['Year'].iloc[i],\n",
    "                    'internet_usage_Low(%)': country_data['internet_usage(%)'].iloc[i]\n",
    "                })\n",
    "                # Break to ensure only one instance of a decrease is added per country\n",
    "                break\n",
    "\n",
    "    # Convert result to a DataFrame\n",
    "    return pd.DataFrame(result_list)\n",
    "\n",
    "# Assuming 'country_internet_usage' is the DataFrame with your data\n",
    "decline_df = decline_in_internet(country_internet_usage)\n",
    "\n",
    "# Display the result\n",
    "# \n",
    "decline_df\n"
   ]
  },
  {
   "cell_type": "code",
   "execution_count": 17,
   "metadata": {},
   "outputs": [
    {
     "data": {
      "application/vnd.plotly.v1+json": {
       "config": {
        "plotlyServerURL": "https://plot.ly"
       },
       "data": [
        {
         "hovertemplate": "Country: %{text}<br>Year: %{x}<br>Internet Usage: %{y}%",
         "marker": {
          "color": [
           "rgba(196, 98, 65, 0.8)",
           "rgba(175, 215, 58, 0.8)",
           "rgba(229, 242, 161, 0.8)",
           "rgba(115, 57, 208, 0.8)",
           "rgba(200, 100, 66, 0.8)",
           "rgba(142, 198, 132, 0.8)",
           "rgba(90, 172, 30, 0.8)",
           "rgba(132, 193, 214, 0.8)",
           "rgba(107, 53, 120, 0.8)",
           "rgba(250, 252, 168, 0.8)",
           "rgba(36, 18, 97, 0.8)",
           "rgba(211, 233, 240, 0.8)",
           "rgba(40, 147, 183, 0.8)",
           "rgba(184, 219, 61, 0.8)",
           "rgba(143, 199, 217, 0.8)",
           "rgba(213, 234, 156, 0.8)",
           "rgba(6, 130, 87, 0.8)",
           "rgba(135, 67, 215, 0.8)",
           "rgba(171, 85, 57, 0.8)",
           "rgba(125, 190, 41, 0.8)",
           "rgba(235, 117, 248, 0.8)",
           "rgba(45, 150, 185, 0.8)"
          ]
         },
         "name": "High Internet Usage",
         "text": [
          "Australia",
          "Austria",
          "Barbados",
          "Brazil",
          "Costa Rica",
          "Croatia",
          "Denmark",
          "Estonia",
          "Finland",
          "Japan",
          "Kuwait",
          "Liechtenstein",
          "Luxembourg",
          "Monaco",
          "Netherlands (Kingdom of the)",
          "Norway",
          "Papua New Guinea",
          "Saint Kitts and Nevis",
          "Singapore",
          "Slovakia",
          "Sweden",
          "Trinidad and Tobago"
         ],
         "type": "bar",
         "x": [
          2020,
          2019,
          2019,
          2020,
          2019,
          2019,
          2019,
          2019,
          2010,
          2019,
          2019,
          2015,
          2020,
          2015,
          2019,
          2019,
          2005,
          2020,
          2020,
          2020,
          2020,
          2019
         ],
         "xaxis": "x",
         "y": [
          96.4,
          87.8,
          83.2,
          81.3,
          81.2,
          79.1,
          98,
          90.2,
          86.9,
          92.7,
          99.5,
          96.6,
          98.8,
          93.4,
          93.3,
          98,
          1.7,
          80.4,
          92,
          89.9,
          94.5,
          79
         ],
         "yaxis": "y"
        },
        {
         "hovertemplate": "Country: %{text}<br>Year: %{x}<br>Internet Usage: %{y}%",
         "marker": {
          "color": [
           "rgba(196, 98, 65, 0.8)",
           "rgba(175, 215, 58, 0.8)",
           "rgba(229, 242, 161, 0.8)",
           "rgba(115, 57, 208, 0.8)",
           "rgba(200, 100, 66, 0.8)",
           "rgba(142, 198, 132, 0.8)",
           "rgba(90, 172, 30, 0.8)",
           "rgba(132, 193, 214, 0.8)",
           "rgba(107, 53, 120, 0.8)",
           "rgba(250, 252, 168, 0.8)",
           "rgba(36, 18, 97, 0.8)",
           "rgba(211, 233, 240, 0.8)",
           "rgba(40, 147, 183, 0.8)",
           "rgba(184, 219, 61, 0.8)",
           "rgba(143, 199, 217, 0.8)",
           "rgba(213, 234, 156, 0.8)",
           "rgba(6, 130, 87, 0.8)",
           "rgba(135, 67, 215, 0.8)",
           "rgba(171, 85, 57, 0.8)",
           "rgba(125, 190, 41, 0.8)",
           "rgba(235, 117, 248, 0.8)",
           "rgba(45, 150, 185, 0.8)"
          ]
         },
         "name": "Low Internet Usage",
         "text": [
          "Australia",
          "Austria",
          "Barbados",
          "Brazil",
          "Costa Rica",
          "Croatia",
          "Denmark",
          "Estonia",
          "Finland",
          "Japan",
          "Kuwait",
          "Liechtenstein",
          "Luxembourg",
          "Monaco",
          "Netherlands (Kingdom of the)",
          "Norway",
          "Papua New Guinea",
          "Saint Kitts and Nevis",
          "Singapore",
          "Slovakia",
          "Sweden",
          "Trinidad and Tobago"
         ],
         "type": "bar",
         "x": [
          2021,
          2020,
          2020,
          2021,
          2020,
          2020,
          2020,
          2020,
          2015,
          2020,
          2020,
          2019,
          2021,
          2019,
          2020,
          2020,
          2010,
          2021,
          2021,
          2021,
          2021,
          2020
         ],
         "xaxis": "x2",
         "y": [
          96.2,
          87.5,
          82.5,
          80.7,
          80.5,
          78.3,
          96.5,
          89.1,
          86.4,
          90.2,
          99.1,
          93.1,
          98.7,
          83.3,
          91.3,
          97,
          1.3,
          79.5,
          91.1,
          88.9,
          88.3,
          78.7
         ],
         "yaxis": "y2"
        }
       ],
       "layout": {
        "annotations": [
         {
          "font": {
           "size": 16
          },
          "showarrow": false,
          "text": "Year High (Left)",
          "x": 0.225,
          "xanchor": "center",
          "xref": "paper",
          "y": 1,
          "yanchor": "bottom",
          "yref": "paper"
         },
         {
          "font": {
           "size": 16
          },
          "showarrow": false,
          "text": "Year Low (Right)",
          "x": 0.775,
          "xanchor": "center",
          "xref": "paper",
          "y": 1,
          "yanchor": "bottom",
          "yref": "paper"
         }
        ],
        "showlegend": false,
        "template": {
         "data": {
          "bar": [
           {
            "error_x": {
             "color": "#2a3f5f"
            },
            "error_y": {
             "color": "#2a3f5f"
            },
            "marker": {
             "line": {
              "color": "#E5ECF6",
              "width": 0.5
             },
             "pattern": {
              "fillmode": "overlay",
              "size": 10,
              "solidity": 0.2
             }
            },
            "type": "bar"
           }
          ],
          "barpolar": [
           {
            "marker": {
             "line": {
              "color": "#E5ECF6",
              "width": 0.5
             },
             "pattern": {
              "fillmode": "overlay",
              "size": 10,
              "solidity": 0.2
             }
            },
            "type": "barpolar"
           }
          ],
          "carpet": [
           {
            "aaxis": {
             "endlinecolor": "#2a3f5f",
             "gridcolor": "white",
             "linecolor": "white",
             "minorgridcolor": "white",
             "startlinecolor": "#2a3f5f"
            },
            "baxis": {
             "endlinecolor": "#2a3f5f",
             "gridcolor": "white",
             "linecolor": "white",
             "minorgridcolor": "white",
             "startlinecolor": "#2a3f5f"
            },
            "type": "carpet"
           }
          ],
          "choropleth": [
           {
            "colorbar": {
             "outlinewidth": 0,
             "ticks": ""
            },
            "type": "choropleth"
           }
          ],
          "contour": [
           {
            "colorbar": {
             "outlinewidth": 0,
             "ticks": ""
            },
            "colorscale": [
             [
              0,
              "#0d0887"
             ],
             [
              0.1111111111111111,
              "#46039f"
             ],
             [
              0.2222222222222222,
              "#7201a8"
             ],
             [
              0.3333333333333333,
              "#9c179e"
             ],
             [
              0.4444444444444444,
              "#bd3786"
             ],
             [
              0.5555555555555556,
              "#d8576b"
             ],
             [
              0.6666666666666666,
              "#ed7953"
             ],
             [
              0.7777777777777778,
              "#fb9f3a"
             ],
             [
              0.8888888888888888,
              "#fdca26"
             ],
             [
              1,
              "#f0f921"
             ]
            ],
            "type": "contour"
           }
          ],
          "contourcarpet": [
           {
            "colorbar": {
             "outlinewidth": 0,
             "ticks": ""
            },
            "type": "contourcarpet"
           }
          ],
          "heatmap": [
           {
            "colorbar": {
             "outlinewidth": 0,
             "ticks": ""
            },
            "colorscale": [
             [
              0,
              "#0d0887"
             ],
             [
              0.1111111111111111,
              "#46039f"
             ],
             [
              0.2222222222222222,
              "#7201a8"
             ],
             [
              0.3333333333333333,
              "#9c179e"
             ],
             [
              0.4444444444444444,
              "#bd3786"
             ],
             [
              0.5555555555555556,
              "#d8576b"
             ],
             [
              0.6666666666666666,
              "#ed7953"
             ],
             [
              0.7777777777777778,
              "#fb9f3a"
             ],
             [
              0.8888888888888888,
              "#fdca26"
             ],
             [
              1,
              "#f0f921"
             ]
            ],
            "type": "heatmap"
           }
          ],
          "heatmapgl": [
           {
            "colorbar": {
             "outlinewidth": 0,
             "ticks": ""
            },
            "colorscale": [
             [
              0,
              "#0d0887"
             ],
             [
              0.1111111111111111,
              "#46039f"
             ],
             [
              0.2222222222222222,
              "#7201a8"
             ],
             [
              0.3333333333333333,
              "#9c179e"
             ],
             [
              0.4444444444444444,
              "#bd3786"
             ],
             [
              0.5555555555555556,
              "#d8576b"
             ],
             [
              0.6666666666666666,
              "#ed7953"
             ],
             [
              0.7777777777777778,
              "#fb9f3a"
             ],
             [
              0.8888888888888888,
              "#fdca26"
             ],
             [
              1,
              "#f0f921"
             ]
            ],
            "type": "heatmapgl"
           }
          ],
          "histogram": [
           {
            "marker": {
             "pattern": {
              "fillmode": "overlay",
              "size": 10,
              "solidity": 0.2
             }
            },
            "type": "histogram"
           }
          ],
          "histogram2d": [
           {
            "colorbar": {
             "outlinewidth": 0,
             "ticks": ""
            },
            "colorscale": [
             [
              0,
              "#0d0887"
             ],
             [
              0.1111111111111111,
              "#46039f"
             ],
             [
              0.2222222222222222,
              "#7201a8"
             ],
             [
              0.3333333333333333,
              "#9c179e"
             ],
             [
              0.4444444444444444,
              "#bd3786"
             ],
             [
              0.5555555555555556,
              "#d8576b"
             ],
             [
              0.6666666666666666,
              "#ed7953"
             ],
             [
              0.7777777777777778,
              "#fb9f3a"
             ],
             [
              0.8888888888888888,
              "#fdca26"
             ],
             [
              1,
              "#f0f921"
             ]
            ],
            "type": "histogram2d"
           }
          ],
          "histogram2dcontour": [
           {
            "colorbar": {
             "outlinewidth": 0,
             "ticks": ""
            },
            "colorscale": [
             [
              0,
              "#0d0887"
             ],
             [
              0.1111111111111111,
              "#46039f"
             ],
             [
              0.2222222222222222,
              "#7201a8"
             ],
             [
              0.3333333333333333,
              "#9c179e"
             ],
             [
              0.4444444444444444,
              "#bd3786"
             ],
             [
              0.5555555555555556,
              "#d8576b"
             ],
             [
              0.6666666666666666,
              "#ed7953"
             ],
             [
              0.7777777777777778,
              "#fb9f3a"
             ],
             [
              0.8888888888888888,
              "#fdca26"
             ],
             [
              1,
              "#f0f921"
             ]
            ],
            "type": "histogram2dcontour"
           }
          ],
          "mesh3d": [
           {
            "colorbar": {
             "outlinewidth": 0,
             "ticks": ""
            },
            "type": "mesh3d"
           }
          ],
          "parcoords": [
           {
            "line": {
             "colorbar": {
              "outlinewidth": 0,
              "ticks": ""
             }
            },
            "type": "parcoords"
           }
          ],
          "pie": [
           {
            "automargin": true,
            "type": "pie"
           }
          ],
          "scatter": [
           {
            "fillpattern": {
             "fillmode": "overlay",
             "size": 10,
             "solidity": 0.2
            },
            "type": "scatter"
           }
          ],
          "scatter3d": [
           {
            "line": {
             "colorbar": {
              "outlinewidth": 0,
              "ticks": ""
             }
            },
            "marker": {
             "colorbar": {
              "outlinewidth": 0,
              "ticks": ""
             }
            },
            "type": "scatter3d"
           }
          ],
          "scattercarpet": [
           {
            "marker": {
             "colorbar": {
              "outlinewidth": 0,
              "ticks": ""
             }
            },
            "type": "scattercarpet"
           }
          ],
          "scattergeo": [
           {
            "marker": {
             "colorbar": {
              "outlinewidth": 0,
              "ticks": ""
             }
            },
            "type": "scattergeo"
           }
          ],
          "scattergl": [
           {
            "marker": {
             "colorbar": {
              "outlinewidth": 0,
              "ticks": ""
             }
            },
            "type": "scattergl"
           }
          ],
          "scattermapbox": [
           {
            "marker": {
             "colorbar": {
              "outlinewidth": 0,
              "ticks": ""
             }
            },
            "type": "scattermapbox"
           }
          ],
          "scatterpolar": [
           {
            "marker": {
             "colorbar": {
              "outlinewidth": 0,
              "ticks": ""
             }
            },
            "type": "scatterpolar"
           }
          ],
          "scatterpolargl": [
           {
            "marker": {
             "colorbar": {
              "outlinewidth": 0,
              "ticks": ""
             }
            },
            "type": "scatterpolargl"
           }
          ],
          "scatterternary": [
           {
            "marker": {
             "colorbar": {
              "outlinewidth": 0,
              "ticks": ""
             }
            },
            "type": "scatterternary"
           }
          ],
          "surface": [
           {
            "colorbar": {
             "outlinewidth": 0,
             "ticks": ""
            },
            "colorscale": [
             [
              0,
              "#0d0887"
             ],
             [
              0.1111111111111111,
              "#46039f"
             ],
             [
              0.2222222222222222,
              "#7201a8"
             ],
             [
              0.3333333333333333,
              "#9c179e"
             ],
             [
              0.4444444444444444,
              "#bd3786"
             ],
             [
              0.5555555555555556,
              "#d8576b"
             ],
             [
              0.6666666666666666,
              "#ed7953"
             ],
             [
              0.7777777777777778,
              "#fb9f3a"
             ],
             [
              0.8888888888888888,
              "#fdca26"
             ],
             [
              1,
              "#f0f921"
             ]
            ],
            "type": "surface"
           }
          ],
          "table": [
           {
            "cells": {
             "fill": {
              "color": "#EBF0F8"
             },
             "line": {
              "color": "white"
             }
            },
            "header": {
             "fill": {
              "color": "#C8D4E3"
             },
             "line": {
              "color": "white"
             }
            },
            "type": "table"
           }
          ]
         },
         "layout": {
          "annotationdefaults": {
           "arrowcolor": "#2a3f5f",
           "arrowhead": 0,
           "arrowwidth": 1
          },
          "autotypenumbers": "strict",
          "coloraxis": {
           "colorbar": {
            "outlinewidth": 0,
            "ticks": ""
           }
          },
          "colorscale": {
           "diverging": [
            [
             0,
             "#8e0152"
            ],
            [
             0.1,
             "#c51b7d"
            ],
            [
             0.2,
             "#de77ae"
            ],
            [
             0.3,
             "#f1b6da"
            ],
            [
             0.4,
             "#fde0ef"
            ],
            [
             0.5,
             "#f7f7f7"
            ],
            [
             0.6,
             "#e6f5d0"
            ],
            [
             0.7,
             "#b8e186"
            ],
            [
             0.8,
             "#7fbc41"
            ],
            [
             0.9,
             "#4d9221"
            ],
            [
             1,
             "#276419"
            ]
           ],
           "sequential": [
            [
             0,
             "#0d0887"
            ],
            [
             0.1111111111111111,
             "#46039f"
            ],
            [
             0.2222222222222222,
             "#7201a8"
            ],
            [
             0.3333333333333333,
             "#9c179e"
            ],
            [
             0.4444444444444444,
             "#bd3786"
            ],
            [
             0.5555555555555556,
             "#d8576b"
            ],
            [
             0.6666666666666666,
             "#ed7953"
            ],
            [
             0.7777777777777778,
             "#fb9f3a"
            ],
            [
             0.8888888888888888,
             "#fdca26"
            ],
            [
             1,
             "#f0f921"
            ]
           ],
           "sequentialminus": [
            [
             0,
             "#0d0887"
            ],
            [
             0.1111111111111111,
             "#46039f"
            ],
            [
             0.2222222222222222,
             "#7201a8"
            ],
            [
             0.3333333333333333,
             "#9c179e"
            ],
            [
             0.4444444444444444,
             "#bd3786"
            ],
            [
             0.5555555555555556,
             "#d8576b"
            ],
            [
             0.6666666666666666,
             "#ed7953"
            ],
            [
             0.7777777777777778,
             "#fb9f3a"
            ],
            [
             0.8888888888888888,
             "#fdca26"
            ],
            [
             1,
             "#f0f921"
            ]
           ]
          },
          "colorway": [
           "#636efa",
           "#EF553B",
           "#00cc96",
           "#ab63fa",
           "#FFA15A",
           "#19d3f3",
           "#FF6692",
           "#B6E880",
           "#FF97FF",
           "#FECB52"
          ],
          "font": {
           "color": "#2a3f5f"
          },
          "geo": {
           "bgcolor": "white",
           "lakecolor": "white",
           "landcolor": "#E5ECF6",
           "showlakes": true,
           "showland": true,
           "subunitcolor": "white"
          },
          "hoverlabel": {
           "align": "left"
          },
          "hovermode": "closest",
          "mapbox": {
           "style": "light"
          },
          "paper_bgcolor": "white",
          "plot_bgcolor": "#E5ECF6",
          "polar": {
           "angularaxis": {
            "gridcolor": "white",
            "linecolor": "white",
            "ticks": ""
           },
           "bgcolor": "#E5ECF6",
           "radialaxis": {
            "gridcolor": "white",
            "linecolor": "white",
            "ticks": ""
           }
          },
          "scene": {
           "xaxis": {
            "backgroundcolor": "#E5ECF6",
            "gridcolor": "white",
            "gridwidth": 2,
            "linecolor": "white",
            "showbackground": true,
            "ticks": "",
            "zerolinecolor": "white"
           },
           "yaxis": {
            "backgroundcolor": "#E5ECF6",
            "gridcolor": "white",
            "gridwidth": 2,
            "linecolor": "white",
            "showbackground": true,
            "ticks": "",
            "zerolinecolor": "white"
           },
           "zaxis": {
            "backgroundcolor": "#E5ECF6",
            "gridcolor": "white",
            "gridwidth": 2,
            "linecolor": "white",
            "showbackground": true,
            "ticks": "",
            "zerolinecolor": "white"
           }
          },
          "shapedefaults": {
           "line": {
            "color": "#2a3f5f"
           }
          },
          "ternary": {
           "aaxis": {
            "gridcolor": "white",
            "linecolor": "white",
            "ticks": ""
           },
           "baxis": {
            "gridcolor": "white",
            "linecolor": "white",
            "ticks": ""
           },
           "bgcolor": "#E5ECF6",
           "caxis": {
            "gridcolor": "white",
            "linecolor": "white",
            "ticks": ""
           }
          },
          "title": {
           "x": 0.05
          },
          "xaxis": {
           "automargin": true,
           "gridcolor": "white",
           "linecolor": "white",
           "ticks": "",
           "title": {
            "standoff": 15
           },
           "zerolinecolor": "white",
           "zerolinewidth": 2
          },
          "yaxis": {
           "automargin": true,
           "gridcolor": "white",
           "linecolor": "white",
           "ticks": "",
           "title": {
            "standoff": 15
           },
           "zerolinecolor": "white",
           "zerolinewidth": 2
          }
         }
        },
        "title": {
         "text": "Shift from High to Low Internet Usage by Country"
        },
        "xaxis": {
         "anchor": "y",
         "domain": [
          0,
          0.45
         ],
         "title": {
          "text": "Year"
         }
        },
        "xaxis2": {
         "anchor": "y2",
         "domain": [
          0.55,
          1
         ]
        },
        "yaxis": {
         "anchor": "x",
         "domain": [
          0,
          1
         ],
         "showticklabels": false,
         "title": {
          "text": "Internet Usage (%)"
         }
        },
        "yaxis2": {
         "anchor": "x2",
         "domain": [
          0,
          1
         ],
         "showticklabels": false
        }
       }
      }
     },
     "metadata": {},
     "output_type": "display_data"
    }
   ],
   "source": [
    "import plotly.graph_objects as go\n",
    "from plotly.subplots import make_subplots\n",
    "\n",
    "# Create a color mapping for each unique country\n",
    "unique_countries = decline_df['Region_Country_Area'].unique()\n",
    "color_mapping = {country: f'rgba({hash(country) % 255}, {(hash(country) // 2) % 255}, {(hash(country) // 3) % 255}, 0.8)' for country in unique_countries}\n",
    "\n",
    "# Apply the color mapping to the DataFrame\n",
    "decline_df['Color'] = decline_df['Region_Country_Area'].map(color_mapping)\n",
    "\n",
    "# Create subplots with 1 row and 2 columns\n",
    "fig = make_subplots(rows=1, cols=2, subplot_titles=(\"Year High (Left)\", \"Year Low (Right)\"))\n",
    "\n",
    "# Add the bar plot for high internet usage\n",
    "fig.add_trace(\n",
    "    go.Bar(\n",
    "        x=decline_df['Year_High'],\n",
    "        y=decline_df['internet_usage_High(%)'],\n",
    "        name='High Internet Usage',\n",
    "        marker_color=decline_df['Color'],  # Assign color based on the mapping\n",
    "        text=decline_df['Region_Country_Area'],\n",
    "        hovertemplate='Country: %{text}<br>Year: %{x}<br>Internet Usage: %{y}%',\n",
    "    ),\n",
    "    row=1, col=1\n",
    ")\n",
    "\n",
    "# Add the bar plot for low internet usage\n",
    "fig.add_trace(\n",
    "    go.Bar(\n",
    "        x=decline_df['Year_Low'],\n",
    "        y=decline_df['internet_usage_Low(%)'],\n",
    "        name='Low Internet Usage',\n",
    "        marker_color=decline_df['Color'],  # Assign color based on the mapping\n",
    "        text=decline_df['Region_Country_Area'],\n",
    "        hovertemplate='Country: %{text}<br>Year: %{x}<br>Internet Usage: %{y}%',\n",
    "    ),\n",
    "    row=1, col=2\n",
    ")\n",
    "\n",
    "# Update layout for a shared color legend\n",
    "fig.update_layout(\n",
    "    title_text=\"Shift from High to Low Internet Usage by Country\",\n",
    "    showlegend=False,  # To avoid duplicate legends\n",
    "    xaxis_title=\"Year\",\n",
    "    yaxis_title=\"Internet Usage (%)\"\n",
    ")\n",
    "fig.update_yaxes(showticklabels=False) # Hide the y-axis labels\n",
    "\n",
    "# Show the plot\n",
    "fig.show()\n"
   ]
  },
  {
   "cell_type": "markdown",
   "metadata": {},
   "source": [
    "*Possible causes of the shifts from 2019 to 2020*\n",
    "\n",
    "- Probably due to COVID-19 economic disruptions, people were not able to pay for internet services due to job losses\n",
    "- Governments and organizations may have shifted in priorities (to healthcare and emergencies)\n",
    "- The increased demand for internet usage during lockdowns could have led to strained and overwhelmed networks, particularly in regions with less robust infrastructure\n",
    "\n",
    "- The reported data for some regions might have been based on estimates rather than accurate measures, and those estimates could have varied significantly between 2019 and 2020\n"
   ]
  },
  {
   "cell_type": "markdown",
   "metadata": {},
   "source": [
    "## Question 4"
   ]
  },
  {
   "cell_type": "markdown",
   "metadata": {},
   "source": [
    " 4. Impact Analysis of COVID-19 on Internet Usage\n",
    "   - Primary Question: How did the COVID-19 pandemic affect global internet usage?\n",
    "     - Sub-questions:\n",
    "       - What was the change in global internet usage rates between 2019 and 2021?\n",
    "       - Are there any regions or countries where internet adoption accelerated due to the pandemic?\n"
   ]
  },
  {
   "cell_type": "markdown",
   "metadata": {},
   "source": [
    "**What was the change in global internet usage rates between 2019 and 2021?**"
   ]
  },
  {
   "cell_type": "code",
   "execution_count": 18,
   "metadata": {},
   "outputs": [
    {
     "name": "stdout",
     "output_type": "stream",
     "text": [
      "Global Internet Usage Rate in 2019: 53.7%\n",
      "Global Internet Usage Rate in 2021: 62.6%\n",
      "Percentage Change: 16.57%\n"
     ]
    }
   ],
   "source": [
    "collective_internet_usage.head(10)\n",
    "\n",
    "global_rate_2019 = collective_internet_usage[(collective_internet_usage['Year'] == 2019) \n",
    "                                             & (collective_internet_usage['Region_Country_Area'] == 'Total, all countries or areas')]['internet_usage(%)'].values[0]\n",
    "\n",
    "\n",
    "\n",
    "global_rate_2021 = collective_internet_usage[(collective_internet_usage['Year'] == 2021)\n",
    "                                             & (collective_internet_usage['Region_Country_Area'] == 'Total, all countries or areas')]['internet_usage(%)'].values[0]\n",
    "\n",
    "\n",
    "\n",
    "percentage_change = ((global_rate_2021 - global_rate_2019) / global_rate_2019) * 100\n",
    "\n",
    "print(f'Global Internet Usage Rate in 2019: {global_rate_2019}%')\n",
    "print(f'Global Internet Usage Rate in 2021: {global_rate_2021}%')\n",
    "print(f'Percentage Change: {percentage_change:.2f}%')"
   ]
  },
  {
   "cell_type": "markdown",
   "metadata": {},
   "source": [
    "* **"
   ]
  },
  {
   "cell_type": "markdown",
   "metadata": {},
   "source": [
    "**Possible reasons for this substantial change (2019 to 2021)**"
   ]
  },
  {
   "cell_type": "markdown",
   "metadata": {},
   "source": [
    "\n",
    "- The COVID-19 pandemic in 2020 forced most of the businesses, education to shift toward the remote work/online education.\n",
    "- People were stayign at home which led to use of online services\n",
    "- Expansion of 5G networks\n",
    "- Many countries could have launched startups to boost internet connectivity.\n",
    "- Most of university students shifted to E-learning platforms.\n",
    "- Increase in Online Transactions due to Lockdowns."
   ]
  },
  {
   "cell_type": "markdown",
   "metadata": {},
   "source": [
    "* **"
   ]
  },
  {
   "cell_type": "markdown",
   "metadata": {},
   "source": [
    "**Are there any regions or countries where internet adoption accelerated due to the pandemic?**"
   ]
  },
  {
   "cell_type": "markdown",
   "metadata": {},
   "source": [
    "Yes! , As it can be seen from above substantial global shift, countries have exprienced a big shift of 16.57% globally."
   ]
  },
  {
   "cell_type": "code",
   "execution_count": 19,
   "metadata": {},
   "outputs": [
    {
     "name": "stdout",
     "output_type": "stream",
     "text": [
      "Number of countries with a positive increase in internet usage from 2019 to 2021: 174\n",
      "Number of countries with a decrease internet usage from 2019 to 2021: 4\n",
      "Countries with decrease internet usage from 2019 to 2021:\n",
      "['Japan', 'Netherlands (Kingdom of the)', 'Saint Kitts and Nevis', 'Sweden']\n"
     ]
    }
   ],
   "source": [
    "# Filter out groups that do not have both years\n",
    "filtered_data = country_internet_usage[country_internet_usage['Year'].isin([2019, 2021])]\n",
    "filtered_data = filtered_data.groupby('Region_Country_Area').filter(lambda x: len(x) == 2) # to ensure that only countries with data for both 2019 and 2021 are kept in the DataFrame\n",
    "\n",
    "positive_increase_19_21 = filtered_data.groupby('Region_Country_Area')['internet_usage(%)'].apply(lambda x: x.iloc[1] > x.iloc[0]).sum()\n",
    "decrease_19_21 = filtered_data.groupby('Region_Country_Area')['internet_usage(%)'].apply(lambda x: x.iloc[1] < x.iloc[0]).sum()\n",
    "\n",
    "print(f'Number of countries with a positive increase in internet usage from 2019 to 2021: {positive_increase_19_21}')\n",
    "print(f'Number of countries with a decrease internet usage from 2019 to 2021: {decrease_19_21}')\n",
    "\n",
    "\n",
    "# Getting countries with negative increase in internet usage from 2019 to 2021\n",
    "countries_with_decrease = filtered_data.groupby('Region_Country_Area')['internet_usage(%)'].apply(lambda x: x.iloc[1] < x.iloc[0])\n",
    "print(\"Countries with decrease internet usage from 2019 to 2021:\")\n",
    "print(countries_with_decrease[countries_with_decrease].index.tolist())\n"
   ]
  },
  {
   "cell_type": "markdown",
   "metadata": {},
   "source": [
    "* **"
   ]
  },
  {
   "cell_type": "markdown",
   "metadata": {},
   "source": [
    "* The exption for these four countries could be probably due to:\n",
    "    - Economic factors (decline) due to COVID-19\n",
    "    - Infrastructure limitations due to high congestions\n",
    "    - Inacurracies in recorded data."
   ]
  },
  {
   "cell_type": "markdown",
   "metadata": {},
   "source": [
    "## Question 5"
   ]
  },
  {
   "cell_type": "markdown",
   "metadata": {},
   "source": [
    " 5. Regional Growth Analysis and Forecasting\n",
    "   - Primary Question: How has internet penetration evolved regionally, and what is the future forecast?\n",
    "     - Sub-questions:\n",
    "       - What are the fastest-growing regions in terms of internet adoption over the recorded ten years?\n",
    "       - What is the expected internet penetration per Region by the end of 2024?\n"
   ]
  },
  {
   "cell_type": "code",
   "execution_count": 29,
   "metadata": {},
   "outputs": [
    {
     "name": "stdout",
     "output_type": "stream",
     "text": [
      "Saudi Arabia: 97.80% increase (2000 to 2021: 2.2% → 100.0%)\n",
      "Qatar: 95.10% increase (2000 to 2021: 4.9% → 100.0%)\n",
      "Bahrain: 93.80% increase (2000 to 2021: 6.2% → 100.0%)\n",
      "Kuwait: 93.00% increase (2000 to 2021: 6.7% → 99.7%)\n",
      "Oman: 92.90% increase (2000 to 2021: 3.5% → 96.4%)\n",
      "Kazakhstan: 90.20% increase (2000 to 2021: 0.7% → 90.9%)\n",
      "Antigua and Barbuda: 89.20% increase (2000 to 2021: 6.5% → 95.7%)\n",
      "Brunei Darussalam: 89.10% increase (2000 to 2021: 9.0% → 98.1%)\n",
      "Morocco: 87.40% increase (2000 to 2021: 0.7% → 88.1%)\n",
      "Bahamas: 86.30% increase (2000 to 2021: 8.0% → 94.3%)\n"
     ]
    },
    {
     "data": {
      "text/plain": [
       "[{'country': 'Saudi Arabia',\n",
       "  'growth': 97.8,\n",
       "  'first_year': 2000,\n",
       "  'last_year': 2021,\n",
       "  'start_value': 2.2,\n",
       "  'end_value': 100.0},\n",
       " {'country': 'Qatar',\n",
       "  'growth': 95.1,\n",
       "  'first_year': 2000,\n",
       "  'last_year': 2021,\n",
       "  'start_value': 4.9,\n",
       "  'end_value': 100.0},\n",
       " {'country': 'Bahrain',\n",
       "  'growth': 93.8,\n",
       "  'first_year': 2000,\n",
       "  'last_year': 2021,\n",
       "  'start_value': 6.2,\n",
       "  'end_value': 100.0},\n",
       " {'country': 'Kuwait',\n",
       "  'growth': 93.0,\n",
       "  'first_year': 2000,\n",
       "  'last_year': 2021,\n",
       "  'start_value': 6.7,\n",
       "  'end_value': 99.7},\n",
       " {'country': 'Oman',\n",
       "  'growth': 92.9,\n",
       "  'first_year': 2000,\n",
       "  'last_year': 2021,\n",
       "  'start_value': 3.5,\n",
       "  'end_value': 96.4},\n",
       " {'country': 'Kazakhstan',\n",
       "  'growth': 90.2,\n",
       "  'first_year': 2000,\n",
       "  'last_year': 2021,\n",
       "  'start_value': 0.7,\n",
       "  'end_value': 90.9},\n",
       " {'country': 'Antigua and Barbuda',\n",
       "  'growth': 89.2,\n",
       "  'first_year': 2000,\n",
       "  'last_year': 2021,\n",
       "  'start_value': 6.5,\n",
       "  'end_value': 95.7},\n",
       " {'country': 'Brunei Darussalam',\n",
       "  'growth': 89.1,\n",
       "  'first_year': 2000,\n",
       "  'last_year': 2021,\n",
       "  'start_value': 9.0,\n",
       "  'end_value': 98.1},\n",
       " {'country': 'Morocco',\n",
       "  'growth': 87.39999999999999,\n",
       "  'first_year': 2000,\n",
       "  'last_year': 2021,\n",
       "  'start_value': 0.7,\n",
       "  'end_value': 88.1},\n",
       " {'country': 'Bahamas',\n",
       "  'growth': 86.3,\n",
       "  'first_year': 2000,\n",
       "  'last_year': 2021,\n",
       "  'start_value': 8.0,\n",
       "  'end_value': 94.3}]"
      ]
     },
     "execution_count": 29,
     "metadata": {},
     "output_type": "execute_result"
    }
   ],
   "source": [
    "\n",
    "def get_fastest_countries(df):\n",
    "    \"\"\"\n",
    "    Identifies countries with the fastest growth in internet adoption.\n",
    "    \n",
    "    Parameters:\n",
    "    df (pandas.DataFrame): DataFrame with columns 'Region_Country_Area', 'Year', 'internet_usage(%)'\n",
    "    \n",
    "    Returns:\n",
    "    list: Top 10 fastest-growing countries with their growth percentages\n",
    "    \"\"\"\n",
    "    # First, let's check for and handle any missing values\n",
    "    df = df.copy()\n",
    "    \n",
    "    # Ensure the data is sorted by Year for each country\n",
    "    df = df.sort_values(['Region_Country_Area', 'Year'])\n",
    "    \n",
    "    # Get the number of unique years in the dataset\n",
    "    n_years = df['Year'].nunique()\n",
    "    \n",
    "    # Filter for countries that have data for all years\n",
    "    complete_data = df.groupby('Region_Country_Area').filter(\n",
    "        lambda x: len(x) == n_years and x['internet_usage(%)'].notna().all()\n",
    "    )\n",
    "    \n",
    "    if complete_data.empty:\n",
    "        print(\"No countries with complete data found!\")\n",
    "        return []\n",
    "    \n",
    "    # Calculate the difference between last and first year\n",
    "    results = []\n",
    "    for country in complete_data['Region_Country_Area'].unique():\n",
    "        country_data = complete_data[complete_data['Region_Country_Area'] == country]\n",
    "        first_value = country_data['internet_usage(%)'].iloc[0]\n",
    "        last_value = country_data['internet_usage(%)'].iloc[-1]\n",
    "        \n",
    "        if pd.notna(first_value) and pd.notna(last_value):\n",
    "            difference = last_value - first_value\n",
    "            results.append({\n",
    "                'country': country,\n",
    "                'growth': difference,\n",
    "                'first_year': country_data['Year'].iloc[0],\n",
    "                'last_year': country_data['Year'].iloc[-1],\n",
    "                'start_value': first_value,\n",
    "                'end_value': last_value\n",
    "            })\n",
    "    \n",
    "    # Sort results by growth and get top 10\n",
    "    results = sorted(results, key=lambda x: x['growth'], reverse=True)[:10]\n",
    "    \n",
    "    # Print detailed results\n",
    "    for r in results:\n",
    "        print(f\"{r['country']}: {r['growth']:.2f}% increase \"\n",
    "              f\"({r['first_year']} to {r['last_year']}: \"\n",
    "              f\"{r['start_value']:.1f}% → {r['end_value']:.1f}%)\")\n",
    "    \n",
    "    return results\n",
    "\n",
    "# Example usage:\n",
    "get_fastest_countries(country_internet_usage)"
   ]
  },
  {
   "cell_type": "code",
   "execution_count": 34,
   "metadata": {},
   "outputs": [
    {
     "name": "stdout",
     "output_type": "stream",
     "text": [
      "Saudi Arabia: 97.80% increase (2000 to 2021: 2.2% → 100.0%)\n",
      "Qatar: 95.10% increase (2000 to 2021: 4.9% → 100.0%)\n",
      "Bahrain: 93.80% increase (2000 to 2021: 6.2% → 100.0%)\n",
      "Kuwait: 93.00% increase (2000 to 2021: 6.7% → 99.7%)\n",
      "Oman: 92.90% increase (2000 to 2021: 3.5% → 96.4%)\n",
      "Kazakhstan: 90.20% increase (2000 to 2021: 0.7% → 90.9%)\n",
      "Antigua and Barbuda: 89.20% increase (2000 to 2021: 6.5% → 95.7%)\n",
      "Brunei Darussalam: 89.10% increase (2000 to 2021: 9.0% → 98.1%)\n",
      "Morocco: 87.40% increase (2000 to 2021: 0.7% → 88.1%)\n",
      "Bahamas: 86.30% increase (2000 to 2021: 8.0% → 94.3%)\n"
     ]
    },
    {
     "data": {
      "application/vnd.plotly.v1+json": {
       "config": {
        "plotlyServerURL": "https://plot.ly"
       },
       "data": [
        {
         "hovertext": [
          "Initial Year (2000): 0.7%",
          "Initial Year (2000): 0.7%",
          "Initial Year (2000): 8.0%",
          "Initial Year (2000): 6.5%",
          "Initial Year (2000): 3.5%",
          "Initial Year (2000): 9.0%",
          "Initial Year (2000): 6.7%",
          "Initial Year (2000): 2.2%",
          "Initial Year (2000): 4.9%",
          "Initial Year (2000): 6.2%"
         ],
         "marker": {
          "color": "rgb(158,202,225)"
         },
         "name": "Initial Usage",
         "opacity": 0.8,
         "orientation": "h",
         "text": [
          "0.7%",
          "0.7%",
          "8.0%",
          "6.5%",
          "3.5%",
          "9.0%",
          "6.7%",
          "2.2%",
          "4.9%",
          "6.2%"
         ],
         "textposition": "auto",
         "type": "bar",
         "x": [
          0.7,
          0.7,
          8,
          6.5,
          3.5,
          9,
          6.7,
          2.2,
          4.9,
          6.2
         ],
         "y": [
          "Morocco",
          "Kazakhstan",
          "Bahamas",
          "Antigua and Barbuda",
          "Oman",
          "Brunei Darussalam",
          "Kuwait",
          "Saudi Arabia",
          "Qatar",
          "Bahrain"
         ]
        },
        {
         "hovertext": [
          "Growth: +87.4%<br>Final Year (2021): 88.1%",
          "Growth: +90.2%<br>Final Year (2021): 90.9%",
          "Growth: +86.3%<br>Final Year (2021): 94.3%",
          "Growth: +89.2%<br>Final Year (2021): 95.7%",
          "Growth: +92.9%<br>Final Year (2021): 96.4%",
          "Growth: +89.1%<br>Final Year (2021): 98.1%",
          "Growth: +93.0%<br>Final Year (2021): 99.7%",
          "Growth: +97.8%<br>Final Year (2021): 100.0%",
          "Growth: +95.1%<br>Final Year (2021): 100.0%",
          "Growth: +93.8%<br>Final Year (2021): 100.0%"
         ],
         "marker": {
          "color": "rgb(26,118,255)"
         },
         "name": "Growth",
         "opacity": 0.8,
         "orientation": "h",
         "text": [
          "+87.4%",
          "+90.2%",
          "+86.3%",
          "+89.2%",
          "+92.9%",
          "+89.1%",
          "+93.0%",
          "+97.8%",
          "+95.1%",
          "+93.8%"
         ],
         "textposition": "auto",
         "type": "bar",
         "x": [
          87.39999999999999,
          90.2,
          86.3,
          89.2,
          92.9,
          89.1,
          93,
          97.8,
          95.1,
          93.8
         ],
         "y": [
          "Morocco",
          "Kazakhstan",
          "Bahamas",
          "Antigua and Barbuda",
          "Oman",
          "Brunei Darussalam",
          "Kuwait",
          "Saudi Arabia",
          "Qatar",
          "Bahrain"
         ]
        }
       ],
       "layout": {
        "annotations": [
         {
          "arrowcolor": "#636363",
          "arrowhead": 2,
          "arrowsize": 1,
          "arrowwidth": 2,
          "ax": 40,
          "ay": 0,
          "font": {
           "size": 12
          },
          "showarrow": true,
          "text": "Total: 88.1%",
          "x": 88.1,
          "xanchor": "left",
          "y": 0
         },
         {
          "arrowcolor": "#636363",
          "arrowhead": 2,
          "arrowsize": 1,
          "arrowwidth": 2,
          "ax": 40,
          "ay": 0,
          "font": {
           "size": 12
          },
          "showarrow": true,
          "text": "Total: 90.9%",
          "x": 90.9,
          "xanchor": "left",
          "y": 1
         },
         {
          "arrowcolor": "#636363",
          "arrowhead": 2,
          "arrowsize": 1,
          "arrowwidth": 2,
          "ax": 40,
          "ay": 0,
          "font": {
           "size": 12
          },
          "showarrow": true,
          "text": "Total: 94.3%",
          "x": 94.3,
          "xanchor": "left",
          "y": 2
         },
         {
          "arrowcolor": "#636363",
          "arrowhead": 2,
          "arrowsize": 1,
          "arrowwidth": 2,
          "ax": 40,
          "ay": 0,
          "font": {
           "size": 12
          },
          "showarrow": true,
          "text": "Total: 95.7%",
          "x": 95.7,
          "xanchor": "left",
          "y": 3
         },
         {
          "arrowcolor": "#636363",
          "arrowhead": 2,
          "arrowsize": 1,
          "arrowwidth": 2,
          "ax": 40,
          "ay": 0,
          "font": {
           "size": 12
          },
          "showarrow": true,
          "text": "Total: 96.4%",
          "x": 96.4,
          "xanchor": "left",
          "y": 4
         },
         {
          "arrowcolor": "#636363",
          "arrowhead": 2,
          "arrowsize": 1,
          "arrowwidth": 2,
          "ax": 40,
          "ay": 0,
          "font": {
           "size": 12
          },
          "showarrow": true,
          "text": "Total: 98.1%",
          "x": 98.1,
          "xanchor": "left",
          "y": 5
         },
         {
          "arrowcolor": "#636363",
          "arrowhead": 2,
          "arrowsize": 1,
          "arrowwidth": 2,
          "ax": 40,
          "ay": 0,
          "font": {
           "size": 12
          },
          "showarrow": true,
          "text": "Total: 99.7%",
          "x": 99.7,
          "xanchor": "left",
          "y": 6
         },
         {
          "arrowcolor": "#636363",
          "arrowhead": 2,
          "arrowsize": 1,
          "arrowwidth": 2,
          "ax": 40,
          "ay": 0,
          "font": {
           "size": 12
          },
          "showarrow": true,
          "text": "Total: 100.0%",
          "x": 100,
          "xanchor": "left",
          "y": 7
         },
         {
          "arrowcolor": "#636363",
          "arrowhead": 2,
          "arrowsize": 1,
          "arrowwidth": 2,
          "ax": 40,
          "ay": 0,
          "font": {
           "size": 12
          },
          "showarrow": true,
          "text": "Total: 100.0%",
          "x": 100,
          "xanchor": "left",
          "y": 8
         },
         {
          "arrowcolor": "#636363",
          "arrowhead": 2,
          "arrowsize": 1,
          "arrowwidth": 2,
          "ax": 40,
          "ay": 0,
          "font": {
           "size": 12
          },
          "showarrow": true,
          "text": "Total: 100.0%",
          "x": 100,
          "xanchor": "left",
          "y": 9
         }
        ],
        "barmode": "stack",
        "height": 600,
        "legend": {
         "orientation": "h",
         "x": 1,
         "xanchor": "right",
         "y": 1.02,
         "yanchor": "bottom"
        },
        "margin": {
         "b": 80,
         "l": 200,
         "r": 40,
         "t": 100
        },
        "showlegend": true,
        "template": {
         "data": {
          "bar": [
           {
            "error_x": {
             "color": "#2a3f5f"
            },
            "error_y": {
             "color": "#2a3f5f"
            },
            "marker": {
             "line": {
              "color": "white",
              "width": 0.5
             },
             "pattern": {
              "fillmode": "overlay",
              "size": 10,
              "solidity": 0.2
             }
            },
            "type": "bar"
           }
          ],
          "barpolar": [
           {
            "marker": {
             "line": {
              "color": "white",
              "width": 0.5
             },
             "pattern": {
              "fillmode": "overlay",
              "size": 10,
              "solidity": 0.2
             }
            },
            "type": "barpolar"
           }
          ],
          "carpet": [
           {
            "aaxis": {
             "endlinecolor": "#2a3f5f",
             "gridcolor": "#C8D4E3",
             "linecolor": "#C8D4E3",
             "minorgridcolor": "#C8D4E3",
             "startlinecolor": "#2a3f5f"
            },
            "baxis": {
             "endlinecolor": "#2a3f5f",
             "gridcolor": "#C8D4E3",
             "linecolor": "#C8D4E3",
             "minorgridcolor": "#C8D4E3",
             "startlinecolor": "#2a3f5f"
            },
            "type": "carpet"
           }
          ],
          "choropleth": [
           {
            "colorbar": {
             "outlinewidth": 0,
             "ticks": ""
            },
            "type": "choropleth"
           }
          ],
          "contour": [
           {
            "colorbar": {
             "outlinewidth": 0,
             "ticks": ""
            },
            "colorscale": [
             [
              0,
              "#0d0887"
             ],
             [
              0.1111111111111111,
              "#46039f"
             ],
             [
              0.2222222222222222,
              "#7201a8"
             ],
             [
              0.3333333333333333,
              "#9c179e"
             ],
             [
              0.4444444444444444,
              "#bd3786"
             ],
             [
              0.5555555555555556,
              "#d8576b"
             ],
             [
              0.6666666666666666,
              "#ed7953"
             ],
             [
              0.7777777777777778,
              "#fb9f3a"
             ],
             [
              0.8888888888888888,
              "#fdca26"
             ],
             [
              1,
              "#f0f921"
             ]
            ],
            "type": "contour"
           }
          ],
          "contourcarpet": [
           {
            "colorbar": {
             "outlinewidth": 0,
             "ticks": ""
            },
            "type": "contourcarpet"
           }
          ],
          "heatmap": [
           {
            "colorbar": {
             "outlinewidth": 0,
             "ticks": ""
            },
            "colorscale": [
             [
              0,
              "#0d0887"
             ],
             [
              0.1111111111111111,
              "#46039f"
             ],
             [
              0.2222222222222222,
              "#7201a8"
             ],
             [
              0.3333333333333333,
              "#9c179e"
             ],
             [
              0.4444444444444444,
              "#bd3786"
             ],
             [
              0.5555555555555556,
              "#d8576b"
             ],
             [
              0.6666666666666666,
              "#ed7953"
             ],
             [
              0.7777777777777778,
              "#fb9f3a"
             ],
             [
              0.8888888888888888,
              "#fdca26"
             ],
             [
              1,
              "#f0f921"
             ]
            ],
            "type": "heatmap"
           }
          ],
          "heatmapgl": [
           {
            "colorbar": {
             "outlinewidth": 0,
             "ticks": ""
            },
            "colorscale": [
             [
              0,
              "#0d0887"
             ],
             [
              0.1111111111111111,
              "#46039f"
             ],
             [
              0.2222222222222222,
              "#7201a8"
             ],
             [
              0.3333333333333333,
              "#9c179e"
             ],
             [
              0.4444444444444444,
              "#bd3786"
             ],
             [
              0.5555555555555556,
              "#d8576b"
             ],
             [
              0.6666666666666666,
              "#ed7953"
             ],
             [
              0.7777777777777778,
              "#fb9f3a"
             ],
             [
              0.8888888888888888,
              "#fdca26"
             ],
             [
              1,
              "#f0f921"
             ]
            ],
            "type": "heatmapgl"
           }
          ],
          "histogram": [
           {
            "marker": {
             "pattern": {
              "fillmode": "overlay",
              "size": 10,
              "solidity": 0.2
             }
            },
            "type": "histogram"
           }
          ],
          "histogram2d": [
           {
            "colorbar": {
             "outlinewidth": 0,
             "ticks": ""
            },
            "colorscale": [
             [
              0,
              "#0d0887"
             ],
             [
              0.1111111111111111,
              "#46039f"
             ],
             [
              0.2222222222222222,
              "#7201a8"
             ],
             [
              0.3333333333333333,
              "#9c179e"
             ],
             [
              0.4444444444444444,
              "#bd3786"
             ],
             [
              0.5555555555555556,
              "#d8576b"
             ],
             [
              0.6666666666666666,
              "#ed7953"
             ],
             [
              0.7777777777777778,
              "#fb9f3a"
             ],
             [
              0.8888888888888888,
              "#fdca26"
             ],
             [
              1,
              "#f0f921"
             ]
            ],
            "type": "histogram2d"
           }
          ],
          "histogram2dcontour": [
           {
            "colorbar": {
             "outlinewidth": 0,
             "ticks": ""
            },
            "colorscale": [
             [
              0,
              "#0d0887"
             ],
             [
              0.1111111111111111,
              "#46039f"
             ],
             [
              0.2222222222222222,
              "#7201a8"
             ],
             [
              0.3333333333333333,
              "#9c179e"
             ],
             [
              0.4444444444444444,
              "#bd3786"
             ],
             [
              0.5555555555555556,
              "#d8576b"
             ],
             [
              0.6666666666666666,
              "#ed7953"
             ],
             [
              0.7777777777777778,
              "#fb9f3a"
             ],
             [
              0.8888888888888888,
              "#fdca26"
             ],
             [
              1,
              "#f0f921"
             ]
            ],
            "type": "histogram2dcontour"
           }
          ],
          "mesh3d": [
           {
            "colorbar": {
             "outlinewidth": 0,
             "ticks": ""
            },
            "type": "mesh3d"
           }
          ],
          "parcoords": [
           {
            "line": {
             "colorbar": {
              "outlinewidth": 0,
              "ticks": ""
             }
            },
            "type": "parcoords"
           }
          ],
          "pie": [
           {
            "automargin": true,
            "type": "pie"
           }
          ],
          "scatter": [
           {
            "fillpattern": {
             "fillmode": "overlay",
             "size": 10,
             "solidity": 0.2
            },
            "type": "scatter"
           }
          ],
          "scatter3d": [
           {
            "line": {
             "colorbar": {
              "outlinewidth": 0,
              "ticks": ""
             }
            },
            "marker": {
             "colorbar": {
              "outlinewidth": 0,
              "ticks": ""
             }
            },
            "type": "scatter3d"
           }
          ],
          "scattercarpet": [
           {
            "marker": {
             "colorbar": {
              "outlinewidth": 0,
              "ticks": ""
             }
            },
            "type": "scattercarpet"
           }
          ],
          "scattergeo": [
           {
            "marker": {
             "colorbar": {
              "outlinewidth": 0,
              "ticks": ""
             }
            },
            "type": "scattergeo"
           }
          ],
          "scattergl": [
           {
            "marker": {
             "colorbar": {
              "outlinewidth": 0,
              "ticks": ""
             }
            },
            "type": "scattergl"
           }
          ],
          "scattermapbox": [
           {
            "marker": {
             "colorbar": {
              "outlinewidth": 0,
              "ticks": ""
             }
            },
            "type": "scattermapbox"
           }
          ],
          "scatterpolar": [
           {
            "marker": {
             "colorbar": {
              "outlinewidth": 0,
              "ticks": ""
             }
            },
            "type": "scatterpolar"
           }
          ],
          "scatterpolargl": [
           {
            "marker": {
             "colorbar": {
              "outlinewidth": 0,
              "ticks": ""
             }
            },
            "type": "scatterpolargl"
           }
          ],
          "scatterternary": [
           {
            "marker": {
             "colorbar": {
              "outlinewidth": 0,
              "ticks": ""
             }
            },
            "type": "scatterternary"
           }
          ],
          "surface": [
           {
            "colorbar": {
             "outlinewidth": 0,
             "ticks": ""
            },
            "colorscale": [
             [
              0,
              "#0d0887"
             ],
             [
              0.1111111111111111,
              "#46039f"
             ],
             [
              0.2222222222222222,
              "#7201a8"
             ],
             [
              0.3333333333333333,
              "#9c179e"
             ],
             [
              0.4444444444444444,
              "#bd3786"
             ],
             [
              0.5555555555555556,
              "#d8576b"
             ],
             [
              0.6666666666666666,
              "#ed7953"
             ],
             [
              0.7777777777777778,
              "#fb9f3a"
             ],
             [
              0.8888888888888888,
              "#fdca26"
             ],
             [
              1,
              "#f0f921"
             ]
            ],
            "type": "surface"
           }
          ],
          "table": [
           {
            "cells": {
             "fill": {
              "color": "#EBF0F8"
             },
             "line": {
              "color": "white"
             }
            },
            "header": {
             "fill": {
              "color": "#C8D4E3"
             },
             "line": {
              "color": "white"
             }
            },
            "type": "table"
           }
          ]
         },
         "layout": {
          "annotationdefaults": {
           "arrowcolor": "#2a3f5f",
           "arrowhead": 0,
           "arrowwidth": 1
          },
          "autotypenumbers": "strict",
          "coloraxis": {
           "colorbar": {
            "outlinewidth": 0,
            "ticks": ""
           }
          },
          "colorscale": {
           "diverging": [
            [
             0,
             "#8e0152"
            ],
            [
             0.1,
             "#c51b7d"
            ],
            [
             0.2,
             "#de77ae"
            ],
            [
             0.3,
             "#f1b6da"
            ],
            [
             0.4,
             "#fde0ef"
            ],
            [
             0.5,
             "#f7f7f7"
            ],
            [
             0.6,
             "#e6f5d0"
            ],
            [
             0.7,
             "#b8e186"
            ],
            [
             0.8,
             "#7fbc41"
            ],
            [
             0.9,
             "#4d9221"
            ],
            [
             1,
             "#276419"
            ]
           ],
           "sequential": [
            [
             0,
             "#0d0887"
            ],
            [
             0.1111111111111111,
             "#46039f"
            ],
            [
             0.2222222222222222,
             "#7201a8"
            ],
            [
             0.3333333333333333,
             "#9c179e"
            ],
            [
             0.4444444444444444,
             "#bd3786"
            ],
            [
             0.5555555555555556,
             "#d8576b"
            ],
            [
             0.6666666666666666,
             "#ed7953"
            ],
            [
             0.7777777777777778,
             "#fb9f3a"
            ],
            [
             0.8888888888888888,
             "#fdca26"
            ],
            [
             1,
             "#f0f921"
            ]
           ],
           "sequentialminus": [
            [
             0,
             "#0d0887"
            ],
            [
             0.1111111111111111,
             "#46039f"
            ],
            [
             0.2222222222222222,
             "#7201a8"
            ],
            [
             0.3333333333333333,
             "#9c179e"
            ],
            [
             0.4444444444444444,
             "#bd3786"
            ],
            [
             0.5555555555555556,
             "#d8576b"
            ],
            [
             0.6666666666666666,
             "#ed7953"
            ],
            [
             0.7777777777777778,
             "#fb9f3a"
            ],
            [
             0.8888888888888888,
             "#fdca26"
            ],
            [
             1,
             "#f0f921"
            ]
           ]
          },
          "colorway": [
           "#636efa",
           "#EF553B",
           "#00cc96",
           "#ab63fa",
           "#FFA15A",
           "#19d3f3",
           "#FF6692",
           "#B6E880",
           "#FF97FF",
           "#FECB52"
          ],
          "font": {
           "color": "#2a3f5f"
          },
          "geo": {
           "bgcolor": "white",
           "lakecolor": "white",
           "landcolor": "white",
           "showlakes": true,
           "showland": true,
           "subunitcolor": "#C8D4E3"
          },
          "hoverlabel": {
           "align": "left"
          },
          "hovermode": "closest",
          "mapbox": {
           "style": "light"
          },
          "paper_bgcolor": "white",
          "plot_bgcolor": "white",
          "polar": {
           "angularaxis": {
            "gridcolor": "#EBF0F8",
            "linecolor": "#EBF0F8",
            "ticks": ""
           },
           "bgcolor": "white",
           "radialaxis": {
            "gridcolor": "#EBF0F8",
            "linecolor": "#EBF0F8",
            "ticks": ""
           }
          },
          "scene": {
           "xaxis": {
            "backgroundcolor": "white",
            "gridcolor": "#DFE8F3",
            "gridwidth": 2,
            "linecolor": "#EBF0F8",
            "showbackground": true,
            "ticks": "",
            "zerolinecolor": "#EBF0F8"
           },
           "yaxis": {
            "backgroundcolor": "white",
            "gridcolor": "#DFE8F3",
            "gridwidth": 2,
            "linecolor": "#EBF0F8",
            "showbackground": true,
            "ticks": "",
            "zerolinecolor": "#EBF0F8"
           },
           "zaxis": {
            "backgroundcolor": "white",
            "gridcolor": "#DFE8F3",
            "gridwidth": 2,
            "linecolor": "#EBF0F8",
            "showbackground": true,
            "ticks": "",
            "zerolinecolor": "#EBF0F8"
           }
          },
          "shapedefaults": {
           "line": {
            "color": "#2a3f5f"
           }
          },
          "ternary": {
           "aaxis": {
            "gridcolor": "#DFE8F3",
            "linecolor": "#A2B1C6",
            "ticks": ""
           },
           "baxis": {
            "gridcolor": "#DFE8F3",
            "linecolor": "#A2B1C6",
            "ticks": ""
           },
           "bgcolor": "white",
           "caxis": {
            "gridcolor": "#DFE8F3",
            "linecolor": "#A2B1C6",
            "ticks": ""
           }
          },
          "title": {
           "x": 0.05
          },
          "xaxis": {
           "automargin": true,
           "gridcolor": "#EBF0F8",
           "linecolor": "#EBF0F8",
           "ticks": "",
           "title": {
            "standoff": 15
           },
           "zerolinecolor": "#EBF0F8",
           "zerolinewidth": 2
          },
          "yaxis": {
           "automargin": true,
           "gridcolor": "#EBF0F8",
           "linecolor": "#EBF0F8",
           "ticks": "",
           "title": {
            "standoff": 15
           },
           "zerolinecolor": "#EBF0F8",
           "zerolinewidth": 2
          }
         }
        },
        "title": {
         "text": "Internet Usage Growth by Country (Sorted by Total Usage)",
         "x": 0.5,
         "xanchor": "center",
         "y": 0.95,
         "yanchor": "top"
        },
        "xaxis": {
         "ticksuffix": "%",
         "title": {
          "text": "Internet Usage (%)"
         }
        },
        "yaxis": {
         "title": {
          "text": "Country"
         }
        }
       }
      }
     },
     "metadata": {},
     "output_type": "display_data"
    }
   ],
   "source": [
    "def plot_internet_usage_comparison(df):\n",
    "    \"\"\"\n",
    "    Creates a horizontal bar chart comparing internet usage between first and last year for each country,\n",
    "    sorted by total values (highest at bottom).\n",
    "    \"\"\"\n",
    "    # Get the results from our previous function\n",
    "    results = get_fastest_countries(df)\n",
    "    \n",
    "    # Sort results by end_value (total internet usage)\n",
    "    results = sorted(results, key=lambda x: x['end_value'])\n",
    "    \n",
    "    # Create lists for plotting\n",
    "    countries = [r['country'] for r in results]\n",
    "    start_values = [r['start_value'] for r in results]\n",
    "    growth_values = [r['growth'] for r in results]\n",
    "    end_values = [r['end_value'] for r in results]\n",
    "    \n",
    "    # Create hover texts\n",
    "    hover_text_start = [\n",
    "        f\"Initial Year ({r['first_year']}): {r['start_value']:.1f}%\"\n",
    "        for r in results\n",
    "    ]\n",
    "    hover_text_growth = [\n",
    "        f\"Growth: +{r['growth']:.1f}%<br>\"\n",
    "        f\"Final Year ({r['last_year']}): {r['end_value']:.1f}%\"\n",
    "        for r in results\n",
    "    ]\n",
    "    \n",
    "    # Create the figure\n",
    "    fig = go.Figure()\n",
    "    \n",
    "    # Add initial value bars\n",
    "    fig.add_trace(go.Bar(\n",
    "        y=countries,\n",
    "        x=start_values,\n",
    "        orientation='h',\n",
    "        name='Initial Usage',\n",
    "        text=[f\"{v:.1f}%\" for v in start_values],\n",
    "        textposition='auto',\n",
    "        hovertext=hover_text_start,\n",
    "        marker_color='rgb(158,202,225)',\n",
    "        opacity=0.8\n",
    "    ))\n",
    "    \n",
    "    # Add growth bars\n",
    "    fig.add_trace(go.Bar(\n",
    "        y=countries,\n",
    "        x=growth_values,\n",
    "        orientation='h',\n",
    "        name='Growth',\n",
    "        text=[f\"+{v:.1f}%\" for v in growth_values],\n",
    "        textposition='auto',\n",
    "        hovertext=hover_text_growth,\n",
    "        marker_color='rgb(26,118,255)',\n",
    "        opacity=0.8\n",
    "    ))\n",
    "    \n",
    "    # Update the layout\n",
    "    fig.update_layout(\n",
    "        title={\n",
    "            'text': 'Internet Usage Growth by Country (Sorted by Total Usage)',\n",
    "            'y':0.95,\n",
    "            'x':0.5,\n",
    "            'xanchor': 'center',\n",
    "            'yanchor': 'top'\n",
    "        },\n",
    "        xaxis_title=\"Internet Usage (%)\",\n",
    "        yaxis_title=\"Country\",\n",
    "        xaxis_ticksuffix=\"%\",\n",
    "        barmode='stack',\n",
    "        template='plotly_white',\n",
    "        height=600,\n",
    "        margin=dict(t=100, l=200, r=40, b=80),\n",
    "        showlegend=True,\n",
    "        legend=dict(\n",
    "            orientation=\"h\",\n",
    "            yanchor=\"bottom\",\n",
    "            y=1.02,\n",
    "            xanchor=\"right\",\n",
    "            x=1\n",
    "        )\n",
    "    )\n",
    "    \n",
    "    # Add annotations for final values\n",
    "    for i, r in enumerate(results):\n",
    "        fig.add_annotation(\n",
    "            x=r['end_value'],\n",
    "            y=i,\n",
    "            text=f\"Total: {r['end_value']:.1f}%\",\n",
    "            showarrow=True,\n",
    "            arrowhead=2,\n",
    "            arrowsize=1,\n",
    "            arrowwidth=2,\n",
    "            arrowcolor=\"#636363\",\n",
    "            ax=40,\n",
    "            ay=0,\n",
    "            font=dict(size=12),\n",
    "            xanchor=\"left\"\n",
    "        )\n",
    "    \n",
    "    return fig\n",
    "\n",
    "# Use the function\n",
    "fig = plot_internet_usage_comparison(country_internet_usage)\n",
    "fig.show()"
   ]
  },
  {
   "cell_type": "markdown",
   "metadata": {},
   "source": [
    "**What is the expected internet penetration per Region by the end of 2024?**"
   ]
  },
  {
   "cell_type": "code",
   "execution_count": 60,
   "metadata": {},
   "outputs": [
    {
     "data": {
      "application/vnd.plotly.v1+json": {
       "config": {
        "plotlyServerURL": "https://plot.ly"
       },
       "data": [
        {
         "alignmentgroup": "True",
         "hovertemplate": "internet_usage(%)=%{x}<br>Region_Country_Area=%{y}<br>Year=%{marker.color}<extra></extra>",
         "legendgroup": "",
         "marker": {
          "color": [
           2022,
           2023,
           2024,
           2022,
           2023,
           2024,
           2022,
           2023,
           2024,
           2022,
           2023,
           2024,
           2022,
           2023,
           2024,
           2022,
           2023,
           2024,
           2022,
           2023,
           2024,
           2022,
           2023,
           2024,
           2022,
           2023,
           2024,
           2022,
           2023,
           2024,
           2022,
           2023,
           2024,
           2022,
           2023,
           2024,
           2022,
           2023,
           2024,
           2022,
           2023,
           2024,
           2022,
           2023,
           2024,
           2022,
           2023,
           2024,
           2022,
           2023,
           2024,
           2022,
           2023,
           2024,
           2022,
           2023,
           2024,
           2022,
           2023,
           2024
          ],
          "coloraxis": "coloraxis",
          "pattern": {
           "shape": ""
          }
         },
         "name": "",
         "offsetgroup": "",
         "orientation": "h",
         "showlegend": false,
         "textposition": "auto",
         "type": "bar",
         "x": [
          62.88176555716291,
          65.61414616497768,
          68.34652677279246,
          67.68900144717827,
          71.00654848046361,
          74.32409551374803,
          32.40969609261947,
          34.099819102749734,
          35.78994211288,
          18.650506512300808,
          19.616968162083822,
          20.583429811866836,
          25.943125904485896,
          27.369717800289436,
          28.79630969609252,
          73.83314037626587,
          77.38520260491987,
          80.93726483357477,
          43.59536903039043,
          45.91986251808885,
          48.24435600578818,
          93.6136034732267,
          95.40571635311107,
          97.19782923299545,
          78.3081041968153,
          81.7714905933426,
          85.23487698986901,
          68.1594790159188,
          71.41754703328479,
          74.67561505065078,
          69.39609261939131,
          72.91910274963811,
          76.44211287988401,
          78.45803183791577,
          81.8690665701879,
          85.28010130246003,
          41.315774240230894,
          43.50343704775605,
          45.69109985528212,
          61.572503617944676,
          64.5788712011572,
          67.58523878436972,
          40.26729377713491,
          42.40434153400929,
          44.54138929088367,
          74.96714905933459,
          78.42449348769878,
          81.88183791606389,
          91.81617161716167,
          94.65181518151803,
          97.48745874587439,
          81.42836468885616,
          83.55021707669948,
          85.67206946454371,
          100.40202604920432,
          102.69287264833565,
          104.98371924746698,
          43.68379160636778,
          45.53201881331415,
          47.38024602026053
         ],
         "xaxis": "x",
         "y": [
          "Total, all countries or areas",
          "Total, all countries or areas",
          "Total, all countries or areas",
          "Northern Africa",
          "Northern Africa",
          "Northern Africa",
          "Sub-Saharan Africa",
          "Sub-Saharan Africa",
          "Sub-Saharan Africa",
          "Eastern Africa",
          "Eastern Africa",
          "Eastern Africa",
          "Middle Africa",
          "Middle Africa",
          "Middle Africa",
          "Southern Africa",
          "Southern Africa",
          "Southern Africa",
          "Western Africa",
          "Western Africa",
          "Western Africa",
          "Northern America",
          "Northern America",
          "Northern America",
          "Latin America & the Caribbean",
          "Latin America & the Caribbean",
          "Latin America & the Caribbean",
          "Caribbean",
          "Caribbean",
          "Caribbean",
          "Central Asia",
          "Central Asia",
          "Central Asia",
          "Eastern Asia",
          "Eastern Asia",
          "Eastern Asia",
          "South-central Asia",
          "South-central Asia",
          "South-central Asia",
          "South-eastern Asia",
          "South-eastern Asia",
          "South-eastern Asia",
          "Southern Asia",
          "Southern Asia",
          "Southern Asia",
          "Western Asia",
          "Western Asia",
          "Western Asia",
          "Europe",
          "Europe",
          "Europe",
          "Oceania",
          "Oceania",
          "Oceania",
          "Australia and New Zealand",
          "Australia and New Zealand",
          "Australia and New Zealand",
          "Micronesia",
          "Micronesia",
          "Micronesia"
         ],
         "yaxis": "y"
        }
       ],
       "layout": {
        "barmode": "stack",
        "coloraxis": {
         "colorbar": {
          "title": {
           "text": "Year"
          }
         },
         "colorscale": [
          [
           0,
           "#30123b"
          ],
          [
           0.07142857142857142,
           "#4145ab"
          ],
          [
           0.14285714285714285,
           "#4675ed"
          ],
          [
           0.21428571428571427,
           "#39a2fc"
          ],
          [
           0.2857142857142857,
           "#1bcfd4"
          ],
          [
           0.35714285714285715,
           "#24eca6"
          ],
          [
           0.42857142857142855,
           "#61fc6c"
          ],
          [
           0.5,
           "#a4fc3b"
          ],
          [
           0.5714285714285714,
           "#d1e834"
          ],
          [
           0.6428571428571429,
           "#f3c63a"
          ],
          [
           0.7142857142857143,
           "#fe9b2d"
          ],
          [
           0.7857142857142857,
           "#f36315"
          ],
          [
           0.8571428571428571,
           "#d93806"
          ],
          [
           0.9285714285714286,
           "#b11901"
          ],
          [
           1,
           "#7a0402"
          ]
         ]
        },
        "legend": {
         "title": {
          "text": "Year"
         },
         "tracegroupgap": 0
        },
        "template": {
         "data": {
          "bar": [
           {
            "error_x": {
             "color": "#2a3f5f"
            },
            "error_y": {
             "color": "#2a3f5f"
            },
            "marker": {
             "line": {
              "color": "#E5ECF6",
              "width": 0.5
             },
             "pattern": {
              "fillmode": "overlay",
              "size": 10,
              "solidity": 0.2
             }
            },
            "type": "bar"
           }
          ],
          "barpolar": [
           {
            "marker": {
             "line": {
              "color": "#E5ECF6",
              "width": 0.5
             },
             "pattern": {
              "fillmode": "overlay",
              "size": 10,
              "solidity": 0.2
             }
            },
            "type": "barpolar"
           }
          ],
          "carpet": [
           {
            "aaxis": {
             "endlinecolor": "#2a3f5f",
             "gridcolor": "white",
             "linecolor": "white",
             "minorgridcolor": "white",
             "startlinecolor": "#2a3f5f"
            },
            "baxis": {
             "endlinecolor": "#2a3f5f",
             "gridcolor": "white",
             "linecolor": "white",
             "minorgridcolor": "white",
             "startlinecolor": "#2a3f5f"
            },
            "type": "carpet"
           }
          ],
          "choropleth": [
           {
            "colorbar": {
             "outlinewidth": 0,
             "ticks": ""
            },
            "type": "choropleth"
           }
          ],
          "contour": [
           {
            "colorbar": {
             "outlinewidth": 0,
             "ticks": ""
            },
            "colorscale": [
             [
              0,
              "#0d0887"
             ],
             [
              0.1111111111111111,
              "#46039f"
             ],
             [
              0.2222222222222222,
              "#7201a8"
             ],
             [
              0.3333333333333333,
              "#9c179e"
             ],
             [
              0.4444444444444444,
              "#bd3786"
             ],
             [
              0.5555555555555556,
              "#d8576b"
             ],
             [
              0.6666666666666666,
              "#ed7953"
             ],
             [
              0.7777777777777778,
              "#fb9f3a"
             ],
             [
              0.8888888888888888,
              "#fdca26"
             ],
             [
              1,
              "#f0f921"
             ]
            ],
            "type": "contour"
           }
          ],
          "contourcarpet": [
           {
            "colorbar": {
             "outlinewidth": 0,
             "ticks": ""
            },
            "type": "contourcarpet"
           }
          ],
          "heatmap": [
           {
            "colorbar": {
             "outlinewidth": 0,
             "ticks": ""
            },
            "colorscale": [
             [
              0,
              "#0d0887"
             ],
             [
              0.1111111111111111,
              "#46039f"
             ],
             [
              0.2222222222222222,
              "#7201a8"
             ],
             [
              0.3333333333333333,
              "#9c179e"
             ],
             [
              0.4444444444444444,
              "#bd3786"
             ],
             [
              0.5555555555555556,
              "#d8576b"
             ],
             [
              0.6666666666666666,
              "#ed7953"
             ],
             [
              0.7777777777777778,
              "#fb9f3a"
             ],
             [
              0.8888888888888888,
              "#fdca26"
             ],
             [
              1,
              "#f0f921"
             ]
            ],
            "type": "heatmap"
           }
          ],
          "heatmapgl": [
           {
            "colorbar": {
             "outlinewidth": 0,
             "ticks": ""
            },
            "colorscale": [
             [
              0,
              "#0d0887"
             ],
             [
              0.1111111111111111,
              "#46039f"
             ],
             [
              0.2222222222222222,
              "#7201a8"
             ],
             [
              0.3333333333333333,
              "#9c179e"
             ],
             [
              0.4444444444444444,
              "#bd3786"
             ],
             [
              0.5555555555555556,
              "#d8576b"
             ],
             [
              0.6666666666666666,
              "#ed7953"
             ],
             [
              0.7777777777777778,
              "#fb9f3a"
             ],
             [
              0.8888888888888888,
              "#fdca26"
             ],
             [
              1,
              "#f0f921"
             ]
            ],
            "type": "heatmapgl"
           }
          ],
          "histogram": [
           {
            "marker": {
             "pattern": {
              "fillmode": "overlay",
              "size": 10,
              "solidity": 0.2
             }
            },
            "type": "histogram"
           }
          ],
          "histogram2d": [
           {
            "colorbar": {
             "outlinewidth": 0,
             "ticks": ""
            },
            "colorscale": [
             [
              0,
              "#0d0887"
             ],
             [
              0.1111111111111111,
              "#46039f"
             ],
             [
              0.2222222222222222,
              "#7201a8"
             ],
             [
              0.3333333333333333,
              "#9c179e"
             ],
             [
              0.4444444444444444,
              "#bd3786"
             ],
             [
              0.5555555555555556,
              "#d8576b"
             ],
             [
              0.6666666666666666,
              "#ed7953"
             ],
             [
              0.7777777777777778,
              "#fb9f3a"
             ],
             [
              0.8888888888888888,
              "#fdca26"
             ],
             [
              1,
              "#f0f921"
             ]
            ],
            "type": "histogram2d"
           }
          ],
          "histogram2dcontour": [
           {
            "colorbar": {
             "outlinewidth": 0,
             "ticks": ""
            },
            "colorscale": [
             [
              0,
              "#0d0887"
             ],
             [
              0.1111111111111111,
              "#46039f"
             ],
             [
              0.2222222222222222,
              "#7201a8"
             ],
             [
              0.3333333333333333,
              "#9c179e"
             ],
             [
              0.4444444444444444,
              "#bd3786"
             ],
             [
              0.5555555555555556,
              "#d8576b"
             ],
             [
              0.6666666666666666,
              "#ed7953"
             ],
             [
              0.7777777777777778,
              "#fb9f3a"
             ],
             [
              0.8888888888888888,
              "#fdca26"
             ],
             [
              1,
              "#f0f921"
             ]
            ],
            "type": "histogram2dcontour"
           }
          ],
          "mesh3d": [
           {
            "colorbar": {
             "outlinewidth": 0,
             "ticks": ""
            },
            "type": "mesh3d"
           }
          ],
          "parcoords": [
           {
            "line": {
             "colorbar": {
              "outlinewidth": 0,
              "ticks": ""
             }
            },
            "type": "parcoords"
           }
          ],
          "pie": [
           {
            "automargin": true,
            "type": "pie"
           }
          ],
          "scatter": [
           {
            "fillpattern": {
             "fillmode": "overlay",
             "size": 10,
             "solidity": 0.2
            },
            "type": "scatter"
           }
          ],
          "scatter3d": [
           {
            "line": {
             "colorbar": {
              "outlinewidth": 0,
              "ticks": ""
             }
            },
            "marker": {
             "colorbar": {
              "outlinewidth": 0,
              "ticks": ""
             }
            },
            "type": "scatter3d"
           }
          ],
          "scattercarpet": [
           {
            "marker": {
             "colorbar": {
              "outlinewidth": 0,
              "ticks": ""
             }
            },
            "type": "scattercarpet"
           }
          ],
          "scattergeo": [
           {
            "marker": {
             "colorbar": {
              "outlinewidth": 0,
              "ticks": ""
             }
            },
            "type": "scattergeo"
           }
          ],
          "scattergl": [
           {
            "marker": {
             "colorbar": {
              "outlinewidth": 0,
              "ticks": ""
             }
            },
            "type": "scattergl"
           }
          ],
          "scattermapbox": [
           {
            "marker": {
             "colorbar": {
              "outlinewidth": 0,
              "ticks": ""
             }
            },
            "type": "scattermapbox"
           }
          ],
          "scatterpolar": [
           {
            "marker": {
             "colorbar": {
              "outlinewidth": 0,
              "ticks": ""
             }
            },
            "type": "scatterpolar"
           }
          ],
          "scatterpolargl": [
           {
            "marker": {
             "colorbar": {
              "outlinewidth": 0,
              "ticks": ""
             }
            },
            "type": "scatterpolargl"
           }
          ],
          "scatterternary": [
           {
            "marker": {
             "colorbar": {
              "outlinewidth": 0,
              "ticks": ""
             }
            },
            "type": "scatterternary"
           }
          ],
          "surface": [
           {
            "colorbar": {
             "outlinewidth": 0,
             "ticks": ""
            },
            "colorscale": [
             [
              0,
              "#0d0887"
             ],
             [
              0.1111111111111111,
              "#46039f"
             ],
             [
              0.2222222222222222,
              "#7201a8"
             ],
             [
              0.3333333333333333,
              "#9c179e"
             ],
             [
              0.4444444444444444,
              "#bd3786"
             ],
             [
              0.5555555555555556,
              "#d8576b"
             ],
             [
              0.6666666666666666,
              "#ed7953"
             ],
             [
              0.7777777777777778,
              "#fb9f3a"
             ],
             [
              0.8888888888888888,
              "#fdca26"
             ],
             [
              1,
              "#f0f921"
             ]
            ],
            "type": "surface"
           }
          ],
          "table": [
           {
            "cells": {
             "fill": {
              "color": "#EBF0F8"
             },
             "line": {
              "color": "white"
             }
            },
            "header": {
             "fill": {
              "color": "#C8D4E3"
             },
             "line": {
              "color": "white"
             }
            },
            "type": "table"
           }
          ]
         },
         "layout": {
          "annotationdefaults": {
           "arrowcolor": "#2a3f5f",
           "arrowhead": 0,
           "arrowwidth": 1
          },
          "autotypenumbers": "strict",
          "coloraxis": {
           "colorbar": {
            "outlinewidth": 0,
            "ticks": ""
           }
          },
          "colorscale": {
           "diverging": [
            [
             0,
             "#8e0152"
            ],
            [
             0.1,
             "#c51b7d"
            ],
            [
             0.2,
             "#de77ae"
            ],
            [
             0.3,
             "#f1b6da"
            ],
            [
             0.4,
             "#fde0ef"
            ],
            [
             0.5,
             "#f7f7f7"
            ],
            [
             0.6,
             "#e6f5d0"
            ],
            [
             0.7,
             "#b8e186"
            ],
            [
             0.8,
             "#7fbc41"
            ],
            [
             0.9,
             "#4d9221"
            ],
            [
             1,
             "#276419"
            ]
           ],
           "sequential": [
            [
             0,
             "#0d0887"
            ],
            [
             0.1111111111111111,
             "#46039f"
            ],
            [
             0.2222222222222222,
             "#7201a8"
            ],
            [
             0.3333333333333333,
             "#9c179e"
            ],
            [
             0.4444444444444444,
             "#bd3786"
            ],
            [
             0.5555555555555556,
             "#d8576b"
            ],
            [
             0.6666666666666666,
             "#ed7953"
            ],
            [
             0.7777777777777778,
             "#fb9f3a"
            ],
            [
             0.8888888888888888,
             "#fdca26"
            ],
            [
             1,
             "#f0f921"
            ]
           ],
           "sequentialminus": [
            [
             0,
             "#0d0887"
            ],
            [
             0.1111111111111111,
             "#46039f"
            ],
            [
             0.2222222222222222,
             "#7201a8"
            ],
            [
             0.3333333333333333,
             "#9c179e"
            ],
            [
             0.4444444444444444,
             "#bd3786"
            ],
            [
             0.5555555555555556,
             "#d8576b"
            ],
            [
             0.6666666666666666,
             "#ed7953"
            ],
            [
             0.7777777777777778,
             "#fb9f3a"
            ],
            [
             0.8888888888888888,
             "#fdca26"
            ],
            [
             1,
             "#f0f921"
            ]
           ]
          },
          "colorway": [
           "#636efa",
           "#EF553B",
           "#00cc96",
           "#ab63fa",
           "#FFA15A",
           "#19d3f3",
           "#FF6692",
           "#B6E880",
           "#FF97FF",
           "#FECB52"
          ],
          "font": {
           "color": "#2a3f5f"
          },
          "geo": {
           "bgcolor": "white",
           "lakecolor": "white",
           "landcolor": "#E5ECF6",
           "showlakes": true,
           "showland": true,
           "subunitcolor": "white"
          },
          "hoverlabel": {
           "align": "left"
          },
          "hovermode": "closest",
          "mapbox": {
           "style": "light"
          },
          "paper_bgcolor": "white",
          "plot_bgcolor": "#E5ECF6",
          "polar": {
           "angularaxis": {
            "gridcolor": "white",
            "linecolor": "white",
            "ticks": ""
           },
           "bgcolor": "#E5ECF6",
           "radialaxis": {
            "gridcolor": "white",
            "linecolor": "white",
            "ticks": ""
           }
          },
          "scene": {
           "xaxis": {
            "backgroundcolor": "#E5ECF6",
            "gridcolor": "white",
            "gridwidth": 2,
            "linecolor": "white",
            "showbackground": true,
            "ticks": "",
            "zerolinecolor": "white"
           },
           "yaxis": {
            "backgroundcolor": "#E5ECF6",
            "gridcolor": "white",
            "gridwidth": 2,
            "linecolor": "white",
            "showbackground": true,
            "ticks": "",
            "zerolinecolor": "white"
           },
           "zaxis": {
            "backgroundcolor": "#E5ECF6",
            "gridcolor": "white",
            "gridwidth": 2,
            "linecolor": "white",
            "showbackground": true,
            "ticks": "",
            "zerolinecolor": "white"
           }
          },
          "shapedefaults": {
           "line": {
            "color": "#2a3f5f"
           }
          },
          "ternary": {
           "aaxis": {
            "gridcolor": "white",
            "linecolor": "white",
            "ticks": ""
           },
           "baxis": {
            "gridcolor": "white",
            "linecolor": "white",
            "ticks": ""
           },
           "bgcolor": "#E5ECF6",
           "caxis": {
            "gridcolor": "white",
            "linecolor": "white",
            "ticks": ""
           }
          },
          "title": {
           "x": 0.05
          },
          "xaxis": {
           "automargin": true,
           "gridcolor": "white",
           "linecolor": "white",
           "ticks": "",
           "title": {
            "standoff": 15
           },
           "zerolinecolor": "white",
           "zerolinewidth": 2
          },
          "yaxis": {
           "automargin": true,
           "gridcolor": "white",
           "linecolor": "white",
           "ticks": "",
           "title": {
            "standoff": 15
           },
           "zerolinecolor": "white",
           "zerolinewidth": 2
          }
         }
        },
        "title": {
         "text": "Forecasted Internet Usage by Region (2022-2024)"
        },
        "xaxis": {
         "anchor": "y",
         "domain": [
          0,
          1
         ],
         "title": {
          "text": "Internet Usage (%)"
         }
        },
        "yaxis": {
         "anchor": "x",
         "domain": [
          0,
          1
         ],
         "title": {
          "text": "Region"
         }
        }
       }
      }
     },
     "metadata": {},
     "output_type": "display_data"
    }
   ],
   "source": [
    "from sklearn.linear_model import LinearRegression\n",
    "\n",
    "def forecast_internet_usage(df, region, end_year=2024):\n",
    "    \"\"\"\n",
    "    Forecasts internet usage for a given region up to the specified end year using linear regression.\n",
    "    \n",
    "    Parameters:\n",
    "    df (pandas.DataFrame): DataFrame containing historical internet usage data.\n",
    "    region (str): The region for which to forecast internet usage.\n",
    "    end_year (int): The year up to which to forecast internet usage.\n",
    "    \n",
    "    Returns:\n",
    "    pandas.DataFrame: DataFrame containing the forecasted internet usage.\n",
    "    \"\"\"\n",
    "    # Filter data for the specified region\n",
    "    region_data = df[df['Region_Country_Area'] == region]\n",
    "    \n",
    "    # Prepare the data for linear regression\n",
    "    X = region_data['Year'].values.reshape(-1, 1)\n",
    "    y = region_data['internet_usage(%)'].values\n",
    "    \n",
    "    # Create and fit the linear regression model\n",
    "    model = LinearRegression()\n",
    "    model.fit(X, y)\n",
    "    \n",
    "    # Generate predictions for the specified end year\n",
    "    future_years = np.arange(region_data['Year'].max() + 1, end_year + 1).reshape(-1, 1)\n",
    "    future_predictions = model.predict(future_years)\n",
    "    \n",
    "    # Create a DataFrame with the forecasted data\n",
    "    forecast_df = pd.DataFrame({\n",
    "        'Region_Country_Area': region,\n",
    "        'Year': future_years.flatten(),\n",
    "        'internet_usage(%)': future_predictions\n",
    "    })\n",
    "    \n",
    "    return forecast_df\n",
    "\n",
    "# List of regions to forecast\n",
    "regions_to_forecast = collective_internet_usage['Region_Country_Area'].unique()\n",
    "\n",
    "# Forecast internet usage for each region\n",
    "forecasted_data = pd.concat([forecast_internet_usage(collective_internet_usage, region) for region in regions_to_forecast])\n",
    "\n",
    "\n",
    "# Plot the forecasted data\n",
    "fig = px.bar(\n",
    "    forecasted_data,\n",
    "    x='internet_usage(%)',\n",
    "    y='Region_Country_Area',\n",
    "    color='Year',\n",
    "    orientation='h',\n",
    "    title='Forecasted Internet Usage by Region (2022-2024)',\n",
    "    barmode='stack',\n",
    "    color_continuous_scale = 'Turbo'\n",
    ")\n",
    "\n",
    "fig.update_layout(\n",
    "    xaxis_title='Internet Usage (%)',\n",
    "    yaxis_title='Region',\n",
    "    legend_title='Year'\n",
    ")\n",
    "\n",
    "fig.show()\n"
   ]
  },
  {
   "cell_type": "markdown",
   "metadata": {},
   "source": [
    "**How the world countries were increasing internet connectivity (2000-2021) on map**"
   ]
  },
  {
   "cell_type": "code",
   "execution_count": 72,
   "metadata": {},
   "outputs": [
    {
     "data": {
      "application/vnd.plotly.v1+json": {
       "config": {
        "plotlyServerURL": "https://plot.ly"
       },
       "data": [
        {
         "coloraxis": "coloraxis",
         "geo": "geo",
         "hovertemplate": "<b>%{hovertext}</b><br><br>Year=2005<br>Region_Country_Area=%{location}<br>internet_usage(%)=%{z}<extra></extra>",
         "hovertext": [
          "Afghanistan",
          "Albania",
          "Algeria",
          "Andorra",
          "Angola",
          "Anguilla",
          "Antigua and Barbuda",
          "Argentina",
          "Armenia",
          "Aruba",
          "Australia",
          "Austria",
          "Azerbaijan",
          "Bahamas",
          "Bahrain",
          "Bangladesh",
          "Barbados",
          "Belgium",
          "Belize",
          "Benin",
          "Bermuda",
          "Bhutan",
          "Bolivia (Plurin. State of)",
          "Bosnia and Herzegovina",
          "Botswana",
          "Brazil",
          "Brunei Darussalam",
          "Bulgaria",
          "Burkina Faso",
          "Burundi",
          "Cabo Verde",
          "Cambodia",
          "Cameroon",
          "Canada",
          "Cayman Islands",
          "Central African Republic",
          "Chad",
          "Chile",
          "China",
          "China, Hong Kong SAR",
          "China, Macao SAR",
          "Colombia",
          "Comoros",
          "Congo",
          "Cook Islands",
          "Costa Rica",
          "Côte dIvoire",
          "Croatia",
          "Cuba",
          "Cyprus",
          "Czechia",
          "Dem. People's Rep. Korea",
          "Dem. Rep. of the Congo",
          "Denmark",
          "Djibouti",
          "Dominica",
          "Dominican Republic",
          "Ecuador",
          "Egypt",
          "El Salvador",
          "Equatorial Guinea",
          "Estonia",
          "Eswatini",
          "Ethiopia",
          "Falkland Islands (Malvinas)",
          "Faroe Islands",
          "Fiji",
          "Finland",
          "France",
          "French Guiana",
          "French Polynesia",
          "Gabon",
          "Gambia",
          "Georgia",
          "Germany",
          "Ghana",
          "Gibraltar",
          "Greece",
          "Greenland",
          "Grenada",
          "Guadeloupe",
          "Guam",
          "Guatemala",
          "Guernsey",
          "Guinea",
          "Guinea-Bissau",
          "Guyana",
          "Haiti",
          "Honduras",
          "Hungary",
          "Iceland",
          "India",
          "Indonesia",
          "Iran (Islamic Republic of)",
          "Iraq",
          "Ireland",
          "Israel",
          "Italy",
          "Jamaica",
          "Japan",
          "Jersey",
          "Jordan",
          "Kazakhstan",
          "Kenya",
          "Kiribati",
          "Kuwait",
          "Kyrgyzstan",
          "Lao People's Dem. Rep.",
          "Latvia",
          "Lebanon",
          "Lesotho",
          "Libya",
          "Liechtenstein",
          "Lithuania",
          "Luxembourg",
          "Madagascar",
          "Malawi",
          "Malaysia",
          "Maldives",
          "Mali",
          "Malta",
          "Marshall Islands",
          "Martinique",
          "Mauritania",
          "Mauritius",
          "Mexico",
          "Monaco",
          "Montenegro",
          "Morocco",
          "Mozambique",
          "Myanmar",
          "Namibia",
          "Nepal",
          "Netherlands (Kingdom of the)",
          "New Caledonia",
          "New Zealand",
          "Nicaragua",
          "Niger",
          "Nigeria",
          "Niue",
          "North Macedonia",
          "Norway",
          "Oman",
          "Other non-specified areas",
          "Pakistan",
          "Panama",
          "Papua New Guinea",
          "Paraguay",
          "Peru",
          "Philippines",
          "Poland",
          "Portugal",
          "Puerto Rico",
          "Qatar",
          "Republic of Korea",
          "Republic of Moldova",
          "Réunion",
          "Romania",
          "Russian Federation",
          "Rwanda",
          "Saint Helena",
          "Saint Kitts and Nevis",
          "Saint Lucia",
          "Saint Vincent & Grenadines",
          "Samoa",
          "San Marino",
          "Sao Tome and Principe",
          "Saudi Arabia",
          "Senegal",
          "Serbia",
          "Seychelles",
          "Sierra Leone",
          "Singapore",
          "Slovakia",
          "Slovenia",
          "Solomon Islands",
          "Somalia",
          "South Africa",
          "Spain",
          "Sri Lanka",
          "State of Palestine",
          "Sudan",
          "Suriname",
          "Sweden",
          "Switzerland",
          "Syrian Arab Republic",
          "Tajikistan",
          "Thailand",
          "Timor-Leste",
          "Togo",
          "Tonga",
          "Trinidad and Tobago",
          "Tunisia",
          "Türkiye",
          "Turkmenistan",
          "Tuvalu",
          "Uganda",
          "Ukraine",
          "United Arab Emirates",
          "United Kingdom",
          "United Rep. of Tanzania",
          "United States of America",
          "United States Virgin Islands",
          "Uruguay",
          "Uzbekistan",
          "Vanuatu",
          "Venezuela (Boliv. Rep. of)",
          "Viet Nam",
          "Wallis and Futuna Islands",
          "Yemen",
          "Zambia",
          "Zimbabwe",
          "LDC§"
         ],
         "locationmode": "country names",
         "locations": [
          "Afghanistan",
          "Albania",
          "Algeria",
          "Andorra",
          "Angola",
          "Anguilla",
          "Antigua and Barbuda",
          "Argentina",
          "Armenia",
          "Aruba",
          "Australia",
          "Austria",
          "Azerbaijan",
          "Bahamas",
          "Bahrain",
          "Bangladesh",
          "Barbados",
          "Belgium",
          "Belize",
          "Benin",
          "Bermuda",
          "Bhutan",
          "Bolivia (Plurin. State of)",
          "Bosnia and Herzegovina",
          "Botswana",
          "Brazil",
          "Brunei Darussalam",
          "Bulgaria",
          "Burkina Faso",
          "Burundi",
          "Cabo Verde",
          "Cambodia",
          "Cameroon",
          "Canada",
          "Cayman Islands",
          "Central African Republic",
          "Chad",
          "Chile",
          "China",
          "China, Hong Kong SAR",
          "China, Macao SAR",
          "Colombia",
          "Comoros",
          "Congo",
          "Cook Islands",
          "Costa Rica",
          "Côte dIvoire",
          "Croatia",
          "Cuba",
          "Cyprus",
          "Czechia",
          "Dem. People's Rep. Korea",
          "Dem. Rep. of the Congo",
          "Denmark",
          "Djibouti",
          "Dominica",
          "Dominican Republic",
          "Ecuador",
          "Egypt",
          "El Salvador",
          "Equatorial Guinea",
          "Estonia",
          "Eswatini",
          "Ethiopia",
          "Falkland Islands (Malvinas)",
          "Faroe Islands",
          "Fiji",
          "Finland",
          "France",
          "French Guiana",
          "French Polynesia",
          "Gabon",
          "Gambia",
          "Georgia",
          "Germany",
          "Ghana",
          "Gibraltar",
          "Greece",
          "Greenland",
          "Grenada",
          "Guadeloupe",
          "Guam",
          "Guatemala",
          "Guernsey",
          "Guinea",
          "Guinea-Bissau",
          "Guyana",
          "Haiti",
          "Honduras",
          "Hungary",
          "Iceland",
          "India",
          "Indonesia",
          "Iran (Islamic Republic of)",
          "Iraq",
          "Ireland",
          "Israel",
          "Italy",
          "Jamaica",
          "Japan",
          "Jersey",
          "Jordan",
          "Kazakhstan",
          "Kenya",
          "Kiribati",
          "Kuwait",
          "Kyrgyzstan",
          "Lao People's Dem. Rep.",
          "Latvia",
          "Lebanon",
          "Lesotho",
          "Libya",
          "Liechtenstein",
          "Lithuania",
          "Luxembourg",
          "Madagascar",
          "Malawi",
          "Malaysia",
          "Maldives",
          "Mali",
          "Malta",
          "Marshall Islands",
          "Martinique",
          "Mauritania",
          "Mauritius",
          "Mexico",
          "Monaco",
          "Montenegro",
          "Morocco",
          "Mozambique",
          "Myanmar",
          "Namibia",
          "Nepal",
          "Netherlands (Kingdom of the)",
          "New Caledonia",
          "New Zealand",
          "Nicaragua",
          "Niger",
          "Nigeria",
          "Niue",
          "North Macedonia",
          "Norway",
          "Oman",
          "Other non-specified areas",
          "Pakistan",
          "Panama",
          "Papua New Guinea",
          "Paraguay",
          "Peru",
          "Philippines",
          "Poland",
          "Portugal",
          "Puerto Rico",
          "Qatar",
          "Republic of Korea",
          "Republic of Moldova",
          "Réunion",
          "Romania",
          "Russian Federation",
          "Rwanda",
          "Saint Helena",
          "Saint Kitts and Nevis",
          "Saint Lucia",
          "Saint Vincent & Grenadines",
          "Samoa",
          "San Marino",
          "Sao Tome and Principe",
          "Saudi Arabia",
          "Senegal",
          "Serbia",
          "Seychelles",
          "Sierra Leone",
          "Singapore",
          "Slovakia",
          "Slovenia",
          "Solomon Islands",
          "Somalia",
          "South Africa",
          "Spain",
          "Sri Lanka",
          "State of Palestine",
          "Sudan",
          "Suriname",
          "Sweden",
          "Switzerland",
          "Syrian Arab Republic",
          "Tajikistan",
          "Thailand",
          "Timor-Leste",
          "Togo",
          "Tonga",
          "Trinidad and Tobago",
          "Tunisia",
          "Türkiye",
          "Turkmenistan",
          "Tuvalu",
          "Uganda",
          "Ukraine",
          "United Arab Emirates",
          "United Kingdom",
          "United Rep. of Tanzania",
          "United States of America",
          "United States Virgin Islands",
          "Uruguay",
          "Uzbekistan",
          "Vanuatu",
          "Venezuela (Boliv. Rep. of)",
          "Viet Nam",
          "Wallis and Futuna Islands",
          "Yemen",
          "Zambia",
          "Zimbabwe",
          "LDC§"
         ],
         "name": "",
         "type": "choropleth",
         "z": [
          1.2,
          6,
          5.8,
          37.6,
          1.1,
          29,
          27,
          17.7,
          5.3,
          25.4,
          63,
          58,
          8,
          25,
          21.3,
          0.2,
          52.5,
          55.8,
          17,
          1.3,
          65.4,
          3.8,
          5.2,
          21.3,
          3.3,
          21,
          36.5,
          20,
          0.5,
          0.5,
          6.1,
          0.3,
          1.4,
          71.7,
          38,
          0.3,
          0.4,
          31.2,
          8.5,
          56.9,
          34.9,
          11,
          2,
          1.5,
          26.2,
          22.1,
          1,
          33.1,
          9.7,
          32.8,
          35.3,
          0,
          0.2,
          82.7,
          1,
          38.5,
          11.5,
          6,
          12.8,
          4.2,
          1.1,
          61.5,
          3.7,
          0.2,
          84,
          67.9,
          8.5,
          74.5,
          42.9,
          20.8,
          21.5,
          4.9,
          3.8,
          6.1,
          68.7,
          1.8,
          39.1,
          24,
          57.7,
          20.5,
          18.7,
          38.6,
          5.7,
          73.6,
          0.5,
          1.9,
          5.7,
          6.4,
          6.5,
          39,
          87,
          2.4,
          3.6,
          8.1,
          0.9,
          41.6,
          25.2,
          35,
          12.8,
          66.9,
          31.3,
          12.9,
          3,
          3.1,
          4,
          25.9,
          10.5,
          0.9,
          46,
          10.1,
          2.6,
          3.9,
          63.4,
          36.2,
          70,
          0.6,
          0.4,
          48.6,
          6.9,
          0.5,
          41.2,
          3.9,
          32.7,
          0.7,
          15.2,
          17.2,
          55.5,
          27.1,
          15.1,
          0.9,
          0.1,
          4,
          0.8,
          81,
          32.4,
          62.7,
          2.6,
          0.2,
          3.5,
          51.7,
          26.5,
          82,
          6.7,
          58,
          6.3,
          11.5,
          1.7,
          7.9,
          17.1,
          5.4,
          38.8,
          35,
          23.4,
          24.7,
          73.5,
          14.6,
          28.1,
          21.5,
          15.2,
          0.6,
          15.9,
          34,
          21.6,
          9.2,
          3.4,
          50.3,
          13.8,
          12.7,
          4.8,
          26.3,
          25.4,
          0.2,
          61,
          55.2,
          46.8,
          0.8,
          1.1,
          7.5,
          47.9,
          1.8,
          16,
          1.3,
          6.4,
          84.8,
          70.1,
          5.6,
          0.3,
          15,
          0.1,
          1.8,
          4.9,
          29,
          9.7,
          15.5,
          1,
          8.3,
          1.7,
          3.7,
          40,
          70,
          1.1,
          68,
          27.3,
          20.1,
          3.3,
          5.1,
          12.6,
          12.7,
          6.7,
          1,
          1.3,
          2.4,
          0.7
         ]
        }
       ],
       "frames": [
        {
         "data": [
          {
           "coloraxis": "coloraxis",
           "geo": "geo",
           "hovertemplate": "<b>%{hovertext}</b><br><br>Year=2005<br>Region_Country_Area=%{location}<br>internet_usage(%)=%{z}<extra></extra>",
           "hovertext": [
            "Afghanistan",
            "Albania",
            "Algeria",
            "Andorra",
            "Angola",
            "Anguilla",
            "Antigua and Barbuda",
            "Argentina",
            "Armenia",
            "Aruba",
            "Australia",
            "Austria",
            "Azerbaijan",
            "Bahamas",
            "Bahrain",
            "Bangladesh",
            "Barbados",
            "Belgium",
            "Belize",
            "Benin",
            "Bermuda",
            "Bhutan",
            "Bolivia (Plurin. State of)",
            "Bosnia and Herzegovina",
            "Botswana",
            "Brazil",
            "Brunei Darussalam",
            "Bulgaria",
            "Burkina Faso",
            "Burundi",
            "Cabo Verde",
            "Cambodia",
            "Cameroon",
            "Canada",
            "Cayman Islands",
            "Central African Republic",
            "Chad",
            "Chile",
            "China",
            "China, Hong Kong SAR",
            "China, Macao SAR",
            "Colombia",
            "Comoros",
            "Congo",
            "Cook Islands",
            "Costa Rica",
            "Côte dIvoire",
            "Croatia",
            "Cuba",
            "Cyprus",
            "Czechia",
            "Dem. People's Rep. Korea",
            "Dem. Rep. of the Congo",
            "Denmark",
            "Djibouti",
            "Dominica",
            "Dominican Republic",
            "Ecuador",
            "Egypt",
            "El Salvador",
            "Equatorial Guinea",
            "Estonia",
            "Eswatini",
            "Ethiopia",
            "Falkland Islands (Malvinas)",
            "Faroe Islands",
            "Fiji",
            "Finland",
            "France",
            "French Guiana",
            "French Polynesia",
            "Gabon",
            "Gambia",
            "Georgia",
            "Germany",
            "Ghana",
            "Gibraltar",
            "Greece",
            "Greenland",
            "Grenada",
            "Guadeloupe",
            "Guam",
            "Guatemala",
            "Guernsey",
            "Guinea",
            "Guinea-Bissau",
            "Guyana",
            "Haiti",
            "Honduras",
            "Hungary",
            "Iceland",
            "India",
            "Indonesia",
            "Iran (Islamic Republic of)",
            "Iraq",
            "Ireland",
            "Israel",
            "Italy",
            "Jamaica",
            "Japan",
            "Jersey",
            "Jordan",
            "Kazakhstan",
            "Kenya",
            "Kiribati",
            "Kuwait",
            "Kyrgyzstan",
            "Lao People's Dem. Rep.",
            "Latvia",
            "Lebanon",
            "Lesotho",
            "Libya",
            "Liechtenstein",
            "Lithuania",
            "Luxembourg",
            "Madagascar",
            "Malawi",
            "Malaysia",
            "Maldives",
            "Mali",
            "Malta",
            "Marshall Islands",
            "Martinique",
            "Mauritania",
            "Mauritius",
            "Mexico",
            "Monaco",
            "Montenegro",
            "Morocco",
            "Mozambique",
            "Myanmar",
            "Namibia",
            "Nepal",
            "Netherlands (Kingdom of the)",
            "New Caledonia",
            "New Zealand",
            "Nicaragua",
            "Niger",
            "Nigeria",
            "Niue",
            "North Macedonia",
            "Norway",
            "Oman",
            "Other non-specified areas",
            "Pakistan",
            "Panama",
            "Papua New Guinea",
            "Paraguay",
            "Peru",
            "Philippines",
            "Poland",
            "Portugal",
            "Puerto Rico",
            "Qatar",
            "Republic of Korea",
            "Republic of Moldova",
            "Réunion",
            "Romania",
            "Russian Federation",
            "Rwanda",
            "Saint Helena",
            "Saint Kitts and Nevis",
            "Saint Lucia",
            "Saint Vincent & Grenadines",
            "Samoa",
            "San Marino",
            "Sao Tome and Principe",
            "Saudi Arabia",
            "Senegal",
            "Serbia",
            "Seychelles",
            "Sierra Leone",
            "Singapore",
            "Slovakia",
            "Slovenia",
            "Solomon Islands",
            "Somalia",
            "South Africa",
            "Spain",
            "Sri Lanka",
            "State of Palestine",
            "Sudan",
            "Suriname",
            "Sweden",
            "Switzerland",
            "Syrian Arab Republic",
            "Tajikistan",
            "Thailand",
            "Timor-Leste",
            "Togo",
            "Tonga",
            "Trinidad and Tobago",
            "Tunisia",
            "Türkiye",
            "Turkmenistan",
            "Tuvalu",
            "Uganda",
            "Ukraine",
            "United Arab Emirates",
            "United Kingdom",
            "United Rep. of Tanzania",
            "United States of America",
            "United States Virgin Islands",
            "Uruguay",
            "Uzbekistan",
            "Vanuatu",
            "Venezuela (Boliv. Rep. of)",
            "Viet Nam",
            "Wallis and Futuna Islands",
            "Yemen",
            "Zambia",
            "Zimbabwe",
            "LDC§"
           ],
           "locationmode": "country names",
           "locations": [
            "Afghanistan",
            "Albania",
            "Algeria",
            "Andorra",
            "Angola",
            "Anguilla",
            "Antigua and Barbuda",
            "Argentina",
            "Armenia",
            "Aruba",
            "Australia",
            "Austria",
            "Azerbaijan",
            "Bahamas",
            "Bahrain",
            "Bangladesh",
            "Barbados",
            "Belgium",
            "Belize",
            "Benin",
            "Bermuda",
            "Bhutan",
            "Bolivia (Plurin. State of)",
            "Bosnia and Herzegovina",
            "Botswana",
            "Brazil",
            "Brunei Darussalam",
            "Bulgaria",
            "Burkina Faso",
            "Burundi",
            "Cabo Verde",
            "Cambodia",
            "Cameroon",
            "Canada",
            "Cayman Islands",
            "Central African Republic",
            "Chad",
            "Chile",
            "China",
            "China, Hong Kong SAR",
            "China, Macao SAR",
            "Colombia",
            "Comoros",
            "Congo",
            "Cook Islands",
            "Costa Rica",
            "Côte dIvoire",
            "Croatia",
            "Cuba",
            "Cyprus",
            "Czechia",
            "Dem. People's Rep. Korea",
            "Dem. Rep. of the Congo",
            "Denmark",
            "Djibouti",
            "Dominica",
            "Dominican Republic",
            "Ecuador",
            "Egypt",
            "El Salvador",
            "Equatorial Guinea",
            "Estonia",
            "Eswatini",
            "Ethiopia",
            "Falkland Islands (Malvinas)",
            "Faroe Islands",
            "Fiji",
            "Finland",
            "France",
            "French Guiana",
            "French Polynesia",
            "Gabon",
            "Gambia",
            "Georgia",
            "Germany",
            "Ghana",
            "Gibraltar",
            "Greece",
            "Greenland",
            "Grenada",
            "Guadeloupe",
            "Guam",
            "Guatemala",
            "Guernsey",
            "Guinea",
            "Guinea-Bissau",
            "Guyana",
            "Haiti",
            "Honduras",
            "Hungary",
            "Iceland",
            "India",
            "Indonesia",
            "Iran (Islamic Republic of)",
            "Iraq",
            "Ireland",
            "Israel",
            "Italy",
            "Jamaica",
            "Japan",
            "Jersey",
            "Jordan",
            "Kazakhstan",
            "Kenya",
            "Kiribati",
            "Kuwait",
            "Kyrgyzstan",
            "Lao People's Dem. Rep.",
            "Latvia",
            "Lebanon",
            "Lesotho",
            "Libya",
            "Liechtenstein",
            "Lithuania",
            "Luxembourg",
            "Madagascar",
            "Malawi",
            "Malaysia",
            "Maldives",
            "Mali",
            "Malta",
            "Marshall Islands",
            "Martinique",
            "Mauritania",
            "Mauritius",
            "Mexico",
            "Monaco",
            "Montenegro",
            "Morocco",
            "Mozambique",
            "Myanmar",
            "Namibia",
            "Nepal",
            "Netherlands (Kingdom of the)",
            "New Caledonia",
            "New Zealand",
            "Nicaragua",
            "Niger",
            "Nigeria",
            "Niue",
            "North Macedonia",
            "Norway",
            "Oman",
            "Other non-specified areas",
            "Pakistan",
            "Panama",
            "Papua New Guinea",
            "Paraguay",
            "Peru",
            "Philippines",
            "Poland",
            "Portugal",
            "Puerto Rico",
            "Qatar",
            "Republic of Korea",
            "Republic of Moldova",
            "Réunion",
            "Romania",
            "Russian Federation",
            "Rwanda",
            "Saint Helena",
            "Saint Kitts and Nevis",
            "Saint Lucia",
            "Saint Vincent & Grenadines",
            "Samoa",
            "San Marino",
            "Sao Tome and Principe",
            "Saudi Arabia",
            "Senegal",
            "Serbia",
            "Seychelles",
            "Sierra Leone",
            "Singapore",
            "Slovakia",
            "Slovenia",
            "Solomon Islands",
            "Somalia",
            "South Africa",
            "Spain",
            "Sri Lanka",
            "State of Palestine",
            "Sudan",
            "Suriname",
            "Sweden",
            "Switzerland",
            "Syrian Arab Republic",
            "Tajikistan",
            "Thailand",
            "Timor-Leste",
            "Togo",
            "Tonga",
            "Trinidad and Tobago",
            "Tunisia",
            "Türkiye",
            "Turkmenistan",
            "Tuvalu",
            "Uganda",
            "Ukraine",
            "United Arab Emirates",
            "United Kingdom",
            "United Rep. of Tanzania",
            "United States of America",
            "United States Virgin Islands",
            "Uruguay",
            "Uzbekistan",
            "Vanuatu",
            "Venezuela (Boliv. Rep. of)",
            "Viet Nam",
            "Wallis and Futuna Islands",
            "Yemen",
            "Zambia",
            "Zimbabwe",
            "LDC§"
           ],
           "name": "",
           "type": "choropleth",
           "z": [
            1.2,
            6,
            5.8,
            37.6,
            1.1,
            29,
            27,
            17.7,
            5.3,
            25.4,
            63,
            58,
            8,
            25,
            21.3,
            0.2,
            52.5,
            55.8,
            17,
            1.3,
            65.4,
            3.8,
            5.2,
            21.3,
            3.3,
            21,
            36.5,
            20,
            0.5,
            0.5,
            6.1,
            0.3,
            1.4,
            71.7,
            38,
            0.3,
            0.4,
            31.2,
            8.5,
            56.9,
            34.9,
            11,
            2,
            1.5,
            26.2,
            22.1,
            1,
            33.1,
            9.7,
            32.8,
            35.3,
            0,
            0.2,
            82.7,
            1,
            38.5,
            11.5,
            6,
            12.8,
            4.2,
            1.1,
            61.5,
            3.7,
            0.2,
            84,
            67.9,
            8.5,
            74.5,
            42.9,
            20.8,
            21.5,
            4.9,
            3.8,
            6.1,
            68.7,
            1.8,
            39.1,
            24,
            57.7,
            20.5,
            18.7,
            38.6,
            5.7,
            73.6,
            0.5,
            1.9,
            5.7,
            6.4,
            6.5,
            39,
            87,
            2.4,
            3.6,
            8.1,
            0.9,
            41.6,
            25.2,
            35,
            12.8,
            66.9,
            31.3,
            12.9,
            3,
            3.1,
            4,
            25.9,
            10.5,
            0.9,
            46,
            10.1,
            2.6,
            3.9,
            63.4,
            36.2,
            70,
            0.6,
            0.4,
            48.6,
            6.9,
            0.5,
            41.2,
            3.9,
            32.7,
            0.7,
            15.2,
            17.2,
            55.5,
            27.1,
            15.1,
            0.9,
            0.1,
            4,
            0.8,
            81,
            32.4,
            62.7,
            2.6,
            0.2,
            3.5,
            51.7,
            26.5,
            82,
            6.7,
            58,
            6.3,
            11.5,
            1.7,
            7.9,
            17.1,
            5.4,
            38.8,
            35,
            23.4,
            24.7,
            73.5,
            14.6,
            28.1,
            21.5,
            15.2,
            0.6,
            15.9,
            34,
            21.6,
            9.2,
            3.4,
            50.3,
            13.8,
            12.7,
            4.8,
            26.3,
            25.4,
            0.2,
            61,
            55.2,
            46.8,
            0.8,
            1.1,
            7.5,
            47.9,
            1.8,
            16,
            1.3,
            6.4,
            84.8,
            70.1,
            5.6,
            0.3,
            15,
            0.1,
            1.8,
            4.9,
            29,
            9.7,
            15.5,
            1,
            8.3,
            1.7,
            3.7,
            40,
            70,
            1.1,
            68,
            27.3,
            20.1,
            3.3,
            5.1,
            12.6,
            12.7,
            6.7,
            1,
            1.3,
            2.4,
            0.7
           ]
          }
         ],
         "name": "2005"
        },
        {
         "data": [
          {
           "coloraxis": "coloraxis",
           "geo": "geo",
           "hovertemplate": "<b>%{hovertext}</b><br><br>Year=2010<br>Region_Country_Area=%{location}<br>internet_usage(%)=%{z}<extra></extra>",
           "hovertext": [
            "Afghanistan",
            "Albania",
            "Algeria",
            "Andorra",
            "Angola",
            "Anguilla",
            "Antigua and Barbuda",
            "Argentina",
            "Armenia",
            "Aruba",
            "Australia",
            "Austria",
            "Azerbaijan",
            "Bahamas",
            "Bahrain",
            "Bangladesh",
            "Barbados",
            "Belarus",
            "Belgium",
            "Belize",
            "Benin",
            "Bermuda",
            "Bhutan",
            "Bolivia (Plurin. State of)",
            "Bosnia and Herzegovina",
            "Botswana",
            "Brazil",
            "British Virgin Islands",
            "Brunei Darussalam",
            "Bulgaria",
            "Burkina Faso",
            "Burundi",
            "Cabo Verde",
            "Cambodia",
            "Cameroon",
            "Canada",
            "Cayman Islands",
            "Central African Republic",
            "Chad",
            "Chile",
            "China",
            "China, Hong Kong SAR",
            "China, Macao SAR",
            "Colombia",
            "Comoros",
            "Congo",
            "Cook Islands",
            "Costa Rica",
            "Côte dIvoire",
            "Croatia",
            "Cuba",
            "Cyprus",
            "Czechia",
            "Dem. People's Rep. Korea",
            "Dem. Rep. of the Congo",
            "Denmark",
            "Djibouti",
            "Dominica",
            "Dominican Republic",
            "Ecuador",
            "Egypt",
            "El Salvador",
            "Equatorial Guinea",
            "Eritrea",
            "Estonia",
            "Eswatini",
            "Ethiopia",
            "Falkland Islands (Malvinas)",
            "Faroe Islands",
            "Fiji",
            "Finland",
            "France",
            "French Polynesia",
            "Gabon",
            "Gambia",
            "Georgia",
            "Germany",
            "Ghana",
            "Gibraltar",
            "Greece",
            "Greenland",
            "Grenada",
            "Guam",
            "Guatemala",
            "Guinea",
            "Guinea-Bissau",
            "Guyana",
            "Haiti",
            "Honduras",
            "Hungary",
            "Iceland",
            "India",
            "Indonesia",
            "Iran (Islamic Republic of)",
            "Iraq",
            "Ireland",
            "Israel",
            "Italy",
            "Jamaica",
            "Japan",
            "Jordan",
            "Kazakhstan",
            "Kenya",
            "Kiribati",
            "Kuwait",
            "Kyrgyzstan",
            "Lao People's Dem. Rep.",
            "Latvia",
            "Lebanon",
            "Lesotho",
            "Liberia",
            "Libya",
            "Liechtenstein",
            "Lithuania",
            "Luxembourg",
            "Madagascar",
            "Malawi",
            "Malaysia",
            "Maldives",
            "Mali",
            "Malta",
            "Marshall Islands",
            "Mauritania",
            "Mauritius",
            "Mexico",
            "Monaco",
            "Mongolia",
            "Montenegro",
            "Montserrat",
            "Morocco",
            "Mozambique",
            "Myanmar",
            "Namibia",
            "Nepal",
            "Netherlands (Kingdom of the)",
            "New Caledonia",
            "New Zealand",
            "Nicaragua",
            "Niger",
            "Nigeria",
            "Niue",
            "North Macedonia",
            "Norway",
            "Oman",
            "Other non-specified areas",
            "Pakistan",
            "Panama",
            "Papua New Guinea",
            "Paraguay",
            "Peru",
            "Philippines",
            "Poland",
            "Portugal",
            "Puerto Rico",
            "Qatar",
            "Republic of Korea",
            "Republic of Moldova",
            "Romania",
            "Russian Federation",
            "Rwanda",
            "Saint Helena",
            "Saint Kitts and Nevis",
            "Saint Lucia",
            "Saint Vincent & Grenadines",
            "Samoa",
            "Sao Tome and Principe",
            "Saudi Arabia",
            "Senegal",
            "Serbia",
            "Seychelles",
            "Sierra Leone",
            "Singapore",
            "Slovakia",
            "Slovenia",
            "Solomon Islands",
            "South Africa",
            "Spain",
            "State of Palestine",
            "Suriname",
            "Sweden",
            "Switzerland",
            "Syrian Arab Republic",
            "Tajikistan",
            "Thailand",
            "Timor-Leste",
            "Togo",
            "Tonga",
            "Trinidad and Tobago",
            "Tunisia",
            "Türkiye",
            "Turkmenistan",
            "Tuvalu",
            "Uganda",
            "Ukraine",
            "United Arab Emirates",
            "United Kingdom",
            "United Rep. of Tanzania",
            "United States of America",
            "United States Virgin Islands",
            "Uruguay",
            "Uzbekistan",
            "Vanuatu",
            "Venezuela (Boliv. Rep. of)",
            "Viet Nam",
            "Wallis and Futuna Islands",
            "Yemen",
            "Zambia",
            "Zimbabwe",
            "LDC§"
           ],
           "locationmode": "country names",
           "locations": [
            "Afghanistan",
            "Albania",
            "Algeria",
            "Andorra",
            "Angola",
            "Anguilla",
            "Antigua and Barbuda",
            "Argentina",
            "Armenia",
            "Aruba",
            "Australia",
            "Austria",
            "Azerbaijan",
            "Bahamas",
            "Bahrain",
            "Bangladesh",
            "Barbados",
            "Belarus",
            "Belgium",
            "Belize",
            "Benin",
            "Bermuda",
            "Bhutan",
            "Bolivia (Plurin. State of)",
            "Bosnia and Herzegovina",
            "Botswana",
            "Brazil",
            "British Virgin Islands",
            "Brunei Darussalam",
            "Bulgaria",
            "Burkina Faso",
            "Burundi",
            "Cabo Verde",
            "Cambodia",
            "Cameroon",
            "Canada",
            "Cayman Islands",
            "Central African Republic",
            "Chad",
            "Chile",
            "China",
            "China, Hong Kong SAR",
            "China, Macao SAR",
            "Colombia",
            "Comoros",
            "Congo",
            "Cook Islands",
            "Costa Rica",
            "Côte dIvoire",
            "Croatia",
            "Cuba",
            "Cyprus",
            "Czechia",
            "Dem. People's Rep. Korea",
            "Dem. Rep. of the Congo",
            "Denmark",
            "Djibouti",
            "Dominica",
            "Dominican Republic",
            "Ecuador",
            "Egypt",
            "El Salvador",
            "Equatorial Guinea",
            "Eritrea",
            "Estonia",
            "Eswatini",
            "Ethiopia",
            "Falkland Islands (Malvinas)",
            "Faroe Islands",
            "Fiji",
            "Finland",
            "France",
            "French Polynesia",
            "Gabon",
            "Gambia",
            "Georgia",
            "Germany",
            "Ghana",
            "Gibraltar",
            "Greece",
            "Greenland",
            "Grenada",
            "Guam",
            "Guatemala",
            "Guinea",
            "Guinea-Bissau",
            "Guyana",
            "Haiti",
            "Honduras",
            "Hungary",
            "Iceland",
            "India",
            "Indonesia",
            "Iran (Islamic Republic of)",
            "Iraq",
            "Ireland",
            "Israel",
            "Italy",
            "Jamaica",
            "Japan",
            "Jordan",
            "Kazakhstan",
            "Kenya",
            "Kiribati",
            "Kuwait",
            "Kyrgyzstan",
            "Lao People's Dem. Rep.",
            "Latvia",
            "Lebanon",
            "Lesotho",
            "Liberia",
            "Libya",
            "Liechtenstein",
            "Lithuania",
            "Luxembourg",
            "Madagascar",
            "Malawi",
            "Malaysia",
            "Maldives",
            "Mali",
            "Malta",
            "Marshall Islands",
            "Mauritania",
            "Mauritius",
            "Mexico",
            "Monaco",
            "Mongolia",
            "Montenegro",
            "Montserrat",
            "Morocco",
            "Mozambique",
            "Myanmar",
            "Namibia",
            "Nepal",
            "Netherlands (Kingdom of the)",
            "New Caledonia",
            "New Zealand",
            "Nicaragua",
            "Niger",
            "Nigeria",
            "Niue",
            "North Macedonia",
            "Norway",
            "Oman",
            "Other non-specified areas",
            "Pakistan",
            "Panama",
            "Papua New Guinea",
            "Paraguay",
            "Peru",
            "Philippines",
            "Poland",
            "Portugal",
            "Puerto Rico",
            "Qatar",
            "Republic of Korea",
            "Republic of Moldova",
            "Romania",
            "Russian Federation",
            "Rwanda",
            "Saint Helena",
            "Saint Kitts and Nevis",
            "Saint Lucia",
            "Saint Vincent & Grenadines",
            "Samoa",
            "Sao Tome and Principe",
            "Saudi Arabia",
            "Senegal",
            "Serbia",
            "Seychelles",
            "Sierra Leone",
            "Singapore",
            "Slovakia",
            "Slovenia",
            "Solomon Islands",
            "South Africa",
            "Spain",
            "State of Palestine",
            "Suriname",
            "Sweden",
            "Switzerland",
            "Syrian Arab Republic",
            "Tajikistan",
            "Thailand",
            "Timor-Leste",
            "Togo",
            "Tonga",
            "Trinidad and Tobago",
            "Tunisia",
            "Türkiye",
            "Turkmenistan",
            "Tuvalu",
            "Uganda",
            "Ukraine",
            "United Arab Emirates",
            "United Kingdom",
            "United Rep. of Tanzania",
            "United States of America",
            "United States Virgin Islands",
            "Uruguay",
            "Uzbekistan",
            "Vanuatu",
            "Venezuela (Boliv. Rep. of)",
            "Viet Nam",
            "Wallis and Futuna Islands",
            "Yemen",
            "Zambia",
            "Zimbabwe",
            "LDC§"
           ],
           "name": "",
           "type": "choropleth",
           "z": [
            4,
            45,
            12.5,
            81,
            2.8,
            49.6,
            47,
            45,
            25,
            62,
            76,
            75.2,
            46,
            43,
            55,
            3.7,
            65.1,
            31.8,
            75,
            28.2,
            3.1,
            84.2,
            13.6,
            22.4,
            42.8,
            6,
            40.7,
            37,
            53,
            46.2,
            2.4,
            1,
            30,
            1.3,
            4.3,
            80.3,
            66,
            2,
            1.7,
            45,
            34.3,
            72,
            55.2,
            36.5,
            5.1,
            5,
            35.7,
            36.5,
            2.7,
            56.6,
            15.9,
            53,
            68.8,
            0,
            0.7,
            88.7,
            6.5,
            47.5,
            31.4,
            29,
            21.6,
            15.9,
            6,
            0.6,
            74.1,
            11,
            0.8,
            95.8,
            75.2,
            20,
            86.9,
            77.3,
            49,
            13,
            9.2,
            26.9,
            82,
            7.8,
            65,
            44.4,
            63,
            27,
            54,
            10.5,
            1,
            2.5,
            29.9,
            8.4,
            11.1,
            65,
            93.4,
            7.5,
            10.9,
            15.9,
            2.5,
            69.9,
            67.5,
            53.7,
            27.7,
            78.2,
            27.2,
            31.6,
            7.2,
            9.1,
            61.4,
            16.3,
            7,
            68.4,
            43.7,
            3.9,
            2.3,
            14,
            80,
            62.1,
            90.6,
            1.7,
            2.3,
            56.3,
            26.5,
            2,
            63,
            7,
            4,
            28.3,
            31.1,
            75,
            10.2,
            37.5,
            35,
            52,
            4.2,
            0.3,
            11.6,
            7.9,
            90.7,
            42,
            80.5,
            10,
            0.8,
            11.5,
            77,
            51.9,
            93.4,
            35.8,
            71.5,
            8,
            40.1,
            1.3,
            19.8,
            34.8,
            25,
            62.3,
            53.3,
            45.3,
            69,
            83.7,
            29.7,
            39.9,
            49,
            8,
            24.9,
            63,
            32.5,
            33.7,
            7,
            18.8,
            41,
            8,
            40.9,
            41,
            0.6,
            71,
            75.7,
            70,
            5,
            24,
            65.8,
            37.4,
            31.6,
            90,
            83.9,
            20.7,
            11.6,
            22.4,
            3,
            3,
            16,
            48.5,
            36.8,
            39.8,
            3,
            14.6,
            4.3,
            23.3,
            68,
            85,
            2.9,
            71.7,
            31.2,
            46.4,
            15.9,
            8,
            37.4,
            30.7,
            8.2,
            12.4,
            3,
            6.4,
            3.3
           ]
          }
         ],
         "name": "2010"
        },
        {
         "data": [
          {
           "coloraxis": "coloraxis",
           "geo": "geo",
           "hovertemplate": "<b>%{hovertext}</b><br><br>Year=2015<br>Region_Country_Area=%{location}<br>internet_usage(%)=%{z}<extra></extra>",
           "hovertext": [
            "Afghanistan",
            "Albania",
            "Algeria",
            "Andorra",
            "Angola",
            "Anguilla",
            "Antigua and Barbuda",
            "Argentina",
            "Armenia",
            "Aruba",
            "Australia",
            "Austria",
            "Azerbaijan",
            "Bahamas",
            "Bahrain",
            "Bangladesh",
            "Barbados",
            "Belarus",
            "Belgium",
            "Belize",
            "Benin",
            "Bermuda",
            "Bhutan",
            "Bolivia (Plurin. State of)",
            "Bosnia and Herzegovina",
            "Botswana",
            "Brazil",
            "Brunei Darussalam",
            "Bulgaria",
            "Burkina Faso",
            "Burundi",
            "Cabo Verde",
            "Cambodia",
            "Cameroon",
            "Canada",
            "Cayman Islands",
            "Central African Republic",
            "Chad",
            "Chile",
            "China",
            "China, Hong Kong SAR",
            "China, Macao SAR",
            "Colombia",
            "Comoros",
            "Congo",
            "Cook Islands",
            "Costa Rica",
            "Côte dIvoire",
            "Croatia",
            "Cuba",
            "Cyprus",
            "Czechia",
            "Dem. Rep. of the Congo",
            "Denmark",
            "Djibouti",
            "Dominica",
            "Dominican Republic",
            "Ecuador",
            "Egypt",
            "El Salvador",
            "Equatorial Guinea",
            "Eritrea",
            "Estonia",
            "Eswatini",
            "Ethiopia",
            "Falkland Islands (Malvinas)",
            "Faroe Islands",
            "Fiji",
            "Finland",
            "France",
            "French Polynesia",
            "Gabon",
            "Gambia",
            "Georgia",
            "Germany",
            "Ghana",
            "Greece",
            "Greenland",
            "Grenada",
            "Guam",
            "Guatemala",
            "Guinea",
            "Guinea-Bissau",
            "Guyana",
            "Haiti",
            "Honduras",
            "Hungary",
            "Iceland",
            "India",
            "Indonesia",
            "Iran (Islamic Republic of)",
            "Iraq",
            "Ireland",
            "Israel",
            "Italy",
            "Jamaica",
            "Japan",
            "Jordan",
            "Kazakhstan",
            "Kenya",
            "Kiribati",
            "Kuwait",
            "Kyrgyzstan",
            "Lao People's Dem. Rep.",
            "Latvia",
            "Lebanon",
            "Lesotho",
            "Liberia",
            "Liechtenstein",
            "Lithuania",
            "Luxembourg",
            "Madagascar",
            "Malawi",
            "Malaysia",
            "Maldives",
            "Mali",
            "Malta",
            "Marshall Islands",
            "Mauritania",
            "Mauritius",
            "Mexico",
            "Monaco",
            "Mongolia",
            "Montenegro",
            "Morocco",
            "Mozambique",
            "Myanmar",
            "Namibia",
            "Nepal",
            "Netherlands (Kingdom of the)",
            "New Caledonia",
            "New Zealand",
            "Nicaragua",
            "Niger",
            "Nigeria",
            "North Macedonia",
            "Norway",
            "Oman",
            "Other non-specified areas",
            "Pakistan",
            "Panama",
            "Papua New Guinea",
            "Paraguay",
            "Peru",
            "Philippines",
            "Poland",
            "Portugal",
            "Puerto Rico",
            "Qatar",
            "Republic of Korea",
            "Republic of Moldova",
            "Romania",
            "Russian Federation",
            "Rwanda",
            "Saint Kitts and Nevis",
            "Saint Lucia",
            "Saint Vincent & Grenadines",
            "Samoa",
            "Sao Tome and Principe",
            "Saudi Arabia",
            "Senegal",
            "Serbia",
            "Seychelles",
            "Sierra Leone",
            "Singapore",
            "Slovakia",
            "Slovenia",
            "Solomon Islands",
            "Somalia",
            "South Africa",
            "South Sudan",
            "Spain",
            "Sri Lanka",
            "State of Palestine",
            "Suriname",
            "Sweden",
            "Switzerland",
            "Syrian Arab Republic",
            "Tajikistan",
            "Thailand",
            "Timor-Leste",
            "Togo",
            "Tonga",
            "Trinidad and Tobago",
            "Tunisia",
            "Türkiye",
            "Turkmenistan",
            "Tuvalu",
            "Uganda",
            "Ukraine",
            "United Arab Emirates",
            "United Kingdom",
            "United Rep. of Tanzania",
            "United States of America",
            "United States Virgin Islands",
            "Uruguay",
            "Uzbekistan",
            "Vanuatu",
            "Venezuela (Boliv. Rep. of)",
            "Viet Nam",
            "Yemen",
            "Zambia",
            "Zimbabwe",
            "LDC§"
           ],
           "locationmode": "country names",
           "locations": [
            "Afghanistan",
            "Albania",
            "Algeria",
            "Andorra",
            "Angola",
            "Anguilla",
            "Antigua and Barbuda",
            "Argentina",
            "Armenia",
            "Aruba",
            "Australia",
            "Austria",
            "Azerbaijan",
            "Bahamas",
            "Bahrain",
            "Bangladesh",
            "Barbados",
            "Belarus",
            "Belgium",
            "Belize",
            "Benin",
            "Bermuda",
            "Bhutan",
            "Bolivia (Plurin. State of)",
            "Bosnia and Herzegovina",
            "Botswana",
            "Brazil",
            "Brunei Darussalam",
            "Bulgaria",
            "Burkina Faso",
            "Burundi",
            "Cabo Verde",
            "Cambodia",
            "Cameroon",
            "Canada",
            "Cayman Islands",
            "Central African Republic",
            "Chad",
            "Chile",
            "China",
            "China, Hong Kong SAR",
            "China, Macao SAR",
            "Colombia",
            "Comoros",
            "Congo",
            "Cook Islands",
            "Costa Rica",
            "Côte dIvoire",
            "Croatia",
            "Cuba",
            "Cyprus",
            "Czechia",
            "Dem. Rep. of the Congo",
            "Denmark",
            "Djibouti",
            "Dominica",
            "Dominican Republic",
            "Ecuador",
            "Egypt",
            "El Salvador",
            "Equatorial Guinea",
            "Eritrea",
            "Estonia",
            "Eswatini",
            "Ethiopia",
            "Falkland Islands (Malvinas)",
            "Faroe Islands",
            "Fiji",
            "Finland",
            "France",
            "French Polynesia",
            "Gabon",
            "Gambia",
            "Georgia",
            "Germany",
            "Ghana",
            "Greece",
            "Greenland",
            "Grenada",
            "Guam",
            "Guatemala",
            "Guinea",
            "Guinea-Bissau",
            "Guyana",
            "Haiti",
            "Honduras",
            "Hungary",
            "Iceland",
            "India",
            "Indonesia",
            "Iran (Islamic Republic of)",
            "Iraq",
            "Ireland",
            "Israel",
            "Italy",
            "Jamaica",
            "Japan",
            "Jordan",
            "Kazakhstan",
            "Kenya",
            "Kiribati",
            "Kuwait",
            "Kyrgyzstan",
            "Lao People's Dem. Rep.",
            "Latvia",
            "Lebanon",
            "Lesotho",
            "Liberia",
            "Liechtenstein",
            "Lithuania",
            "Luxembourg",
            "Madagascar",
            "Malawi",
            "Malaysia",
            "Maldives",
            "Mali",
            "Malta",
            "Marshall Islands",
            "Mauritania",
            "Mauritius",
            "Mexico",
            "Monaco",
            "Mongolia",
            "Montenegro",
            "Morocco",
            "Mozambique",
            "Myanmar",
            "Namibia",
            "Nepal",
            "Netherlands (Kingdom of the)",
            "New Caledonia",
            "New Zealand",
            "Nicaragua",
            "Niger",
            "Nigeria",
            "North Macedonia",
            "Norway",
            "Oman",
            "Other non-specified areas",
            "Pakistan",
            "Panama",
            "Papua New Guinea",
            "Paraguay",
            "Peru",
            "Philippines",
            "Poland",
            "Portugal",
            "Puerto Rico",
            "Qatar",
            "Republic of Korea",
            "Republic of Moldova",
            "Romania",
            "Russian Federation",
            "Rwanda",
            "Saint Kitts and Nevis",
            "Saint Lucia",
            "Saint Vincent & Grenadines",
            "Samoa",
            "Sao Tome and Principe",
            "Saudi Arabia",
            "Senegal",
            "Serbia",
            "Seychelles",
            "Sierra Leone",
            "Singapore",
            "Slovakia",
            "Slovenia",
            "Solomon Islands",
            "Somalia",
            "South Africa",
            "South Sudan",
            "Spain",
            "Sri Lanka",
            "State of Palestine",
            "Suriname",
            "Sweden",
            "Switzerland",
            "Syrian Arab Republic",
            "Tajikistan",
            "Thailand",
            "Timor-Leste",
            "Togo",
            "Tonga",
            "Trinidad and Tobago",
            "Tunisia",
            "Türkiye",
            "Turkmenistan",
            "Tuvalu",
            "Uganda",
            "Ukraine",
            "United Arab Emirates",
            "United Kingdom",
            "United Rep. of Tanzania",
            "United States of America",
            "United States Virgin Islands",
            "Uruguay",
            "Uzbekistan",
            "Vanuatu",
            "Venezuela (Boliv. Rep. of)",
            "Viet Nam",
            "Yemen",
            "Zambia",
            "Zimbabwe",
            "LDC§"
           ],
           "name": "",
           "type": "choropleth",
           "z": [
            8.3,
            56.9,
            38.2,
            87.9,
            22,
            76,
            70,
            68,
            59.1,
            88.7,
            84.6,
            83.9,
            77,
            78,
            93.5,
            12.9,
            76.1,
            62.2,
            85.1,
            41.6,
            11.3,
            98.3,
            39.8,
            37.5,
            52.6,
            37.3,
            58.3,
            71.2,
            56.7,
            6.6,
            2,
            42.7,
            18,
            18.3,
            90,
            77,
            2.9,
            3.5,
            76.6,
            50.3,
            84.9,
            77.6,
            55.9,
            7.5,
            7.6,
            51,
            59.8,
            16.7,
            69.8,
            37.3,
            71.7,
            75.7,
            3.8,
            96.3,
            22.9,
            65,
            54.2,
            48.9,
            37.8,
            26.8,
            21.3,
            1.1,
            88.4,
            25.6,
            13.9,
            98.3,
            94.2,
            42.5,
            86.4,
            78,
            64.6,
            45.8,
            17.6,
            47.6,
            87.6,
            23,
            66.8,
            67.6,
            52.5,
            73.1,
            28.8,
            9.2,
            6.1,
            34,
            14.2,
            27.1,
            72.8,
            98.2,
            14.9,
            22.1,
            45.3,
            15.2,
            83.5,
            77.4,
            58.1,
            42.2,
            91.1,
            54.2,
            70.8,
            16.6,
            14.9,
            82,
            30.2,
            18.2,
            79.2,
            74,
            25,
            10,
            96.6,
            71.4,
            96.4,
            4.2,
            6,
            71.1,
            54.5,
            10.3,
            76,
            19.3,
            17.6,
            50.1,
            57.4,
            93.4,
            22.5,
            68.1,
            57.1,
            6.5,
            10.9,
            25.7,
            17.6,
            91.7,
            74,
            85.2,
            19.7,
            2.5,
            24.5,
            70.4,
            96.8,
            73.5,
            78,
            11,
            51.2,
            7.9,
            49.7,
            40.9,
            36.9,
            68,
            68.6,
            63.5,
            92.9,
            89.9,
            43.1,
            55.8,
            70.1,
            12.5,
            75.7,
            57.3,
            49.4,
            25.4,
            25.8,
            69.6,
            21.7,
            65.3,
            54.3,
            6.3,
            83.2,
            77.6,
            73.1,
            10,
            1.8,
            51.9,
            3,
            78.7,
            15.3,
            56.7,
            42.8,
            90.6,
            87.5,
            30,
            19,
            39.3,
            18.6,
            7.1,
            38.7,
            65.1,
            46.5,
            53.7,
            15,
            27.3,
            5.8,
            48.9,
            90.5,
            92,
            10,
            74.6,
            54.8,
            64.6,
            42.8,
            22.4,
            58,
            45,
            24.1,
            8.8,
            22.7,
            10.7
           ]
          }
         ],
         "name": "2015"
        },
        {
         "data": [
          {
           "coloraxis": "coloraxis",
           "geo": "geo",
           "hovertemplate": "<b>%{hovertext}</b><br><br>Year=2019<br>Region_Country_Area=%{location}<br>internet_usage(%)=%{z}<extra></extra>",
           "hovertext": [
            "Afghanistan",
            "Albania",
            "Algeria",
            "Andorra",
            "Angola",
            "Antigua and Barbuda",
            "Argentina",
            "Armenia",
            "Australia",
            "Austria",
            "Azerbaijan",
            "Bahamas",
            "Bahrain",
            "Bangladesh",
            "Barbados",
            "Belarus",
            "Belgium",
            "Belize",
            "Benin",
            "Bhutan",
            "Bolivia (Plurin. State of)",
            "Bosnia and Herzegovina",
            "Botswana",
            "Brazil",
            "Brunei Darussalam",
            "Bulgaria",
            "Burkina Faso",
            "Burundi",
            "Cabo Verde",
            "Cambodia",
            "Cameroon",
            "Canada",
            "Central African Republic",
            "Chad",
            "Chile",
            "China",
            "China, Hong Kong SAR",
            "China, Macao SAR",
            "Colombia",
            "Comoros",
            "Costa Rica",
            "Côte dIvoire",
            "Croatia",
            "Cuba",
            "Cyprus",
            "Czechia",
            "Dem. Rep. of the Congo",
            "Denmark",
            "Djibouti",
            "Dominica",
            "Dominican Republic",
            "Ecuador",
            "Egypt",
            "El Salvador",
            "Equatorial Guinea",
            "Eritrea",
            "Estonia",
            "Eswatini",
            "Ethiopia",
            "Fiji",
            "Finland",
            "France",
            "Gabon",
            "Gambia",
            "Georgia",
            "Germany",
            "Ghana",
            "Greece",
            "Grenada",
            "Guatemala",
            "Guinea",
            "Guinea-Bissau",
            "Guyana",
            "Haiti",
            "Honduras",
            "Hungary",
            "Iceland",
            "India",
            "Indonesia",
            "Iran (Islamic Republic of)",
            "Iraq",
            "Ireland",
            "Israel",
            "Italy",
            "Jamaica",
            "Japan",
            "Jordan",
            "Kazakhstan",
            "Kenya",
            "Kiribati",
            "Kuwait",
            "Kyrgyzstan",
            "Lao People's Dem. Rep.",
            "Latvia",
            "Lebanon",
            "Lesotho",
            "Liberia",
            "Liechtenstein",
            "Lithuania",
            "Luxembourg",
            "Madagascar",
            "Malawi",
            "Malaysia",
            "Maldives",
            "Mali",
            "Malta",
            "Mauritania",
            "Mauritius",
            "Mexico",
            "Monaco",
            "Mongolia",
            "Montenegro",
            "Morocco",
            "Mozambique",
            "Myanmar",
            "Namibia",
            "Nauru",
            "Nepal",
            "Netherlands (Kingdom of the)",
            "New Zealand",
            "Nicaragua",
            "Niger",
            "Nigeria",
            "North Macedonia",
            "Norway",
            "Oman",
            "Other non-specified areas",
            "Pakistan",
            "Panama",
            "Papua New Guinea",
            "Paraguay",
            "Peru",
            "Philippines",
            "Poland",
            "Portugal",
            "Puerto Rico",
            "Qatar",
            "Republic of Korea",
            "Republic of Moldova",
            "Romania",
            "Russian Federation",
            "Rwanda",
            "Saint Kitts and Nevis",
            "Saint Lucia",
            "Saint Vincent & Grenadines",
            "Samoa",
            "San Marino",
            "Sao Tome and Principe",
            "Saudi Arabia",
            "Senegal",
            "Serbia",
            "Seychelles",
            "Sierra Leone",
            "Singapore",
            "Slovakia",
            "Slovenia",
            "Solomon Islands",
            "South Africa",
            "South Sudan",
            "Spain",
            "Sri Lanka",
            "State of Palestine",
            "Sudan",
            "Suriname",
            "Sweden",
            "Switzerland",
            "Syrian Arab Republic",
            "Thailand",
            "Timor-Leste",
            "Togo",
            "Tonga",
            "Trinidad and Tobago",
            "Tunisia",
            "Türkiye",
            "Uganda",
            "Ukraine",
            "United Arab Emirates",
            "United Kingdom",
            "United Rep. of Tanzania",
            "United States of America",
            "Uruguay",
            "Uzbekistan",
            "Vanuatu",
            "Viet Nam",
            "Zambia",
            "Zimbabwe",
            "LDC§"
           ],
           "locationmode": "country names",
           "locations": [
            "Afghanistan",
            "Albania",
            "Algeria",
            "Andorra",
            "Angola",
            "Antigua and Barbuda",
            "Argentina",
            "Armenia",
            "Australia",
            "Austria",
            "Azerbaijan",
            "Bahamas",
            "Bahrain",
            "Bangladesh",
            "Barbados",
            "Belarus",
            "Belgium",
            "Belize",
            "Benin",
            "Bhutan",
            "Bolivia (Plurin. State of)",
            "Bosnia and Herzegovina",
            "Botswana",
            "Brazil",
            "Brunei Darussalam",
            "Bulgaria",
            "Burkina Faso",
            "Burundi",
            "Cabo Verde",
            "Cambodia",
            "Cameroon",
            "Canada",
            "Central African Republic",
            "Chad",
            "Chile",
            "China",
            "China, Hong Kong SAR",
            "China, Macao SAR",
            "Colombia",
            "Comoros",
            "Costa Rica",
            "Côte dIvoire",
            "Croatia",
            "Cuba",
            "Cyprus",
            "Czechia",
            "Dem. Rep. of the Congo",
            "Denmark",
            "Djibouti",
            "Dominica",
            "Dominican Republic",
            "Ecuador",
            "Egypt",
            "El Salvador",
            "Equatorial Guinea",
            "Eritrea",
            "Estonia",
            "Eswatini",
            "Ethiopia",
            "Fiji",
            "Finland",
            "France",
            "Gabon",
            "Gambia",
            "Georgia",
            "Germany",
            "Ghana",
            "Greece",
            "Grenada",
            "Guatemala",
            "Guinea",
            "Guinea-Bissau",
            "Guyana",
            "Haiti",
            "Honduras",
            "Hungary",
            "Iceland",
            "India",
            "Indonesia",
            "Iran (Islamic Republic of)",
            "Iraq",
            "Ireland",
            "Israel",
            "Italy",
            "Jamaica",
            "Japan",
            "Jordan",
            "Kazakhstan",
            "Kenya",
            "Kiribati",
            "Kuwait",
            "Kyrgyzstan",
            "Lao People's Dem. Rep.",
            "Latvia",
            "Lebanon",
            "Lesotho",
            "Liberia",
            "Liechtenstein",
            "Lithuania",
            "Luxembourg",
            "Madagascar",
            "Malawi",
            "Malaysia",
            "Maldives",
            "Mali",
            "Malta",
            "Mauritania",
            "Mauritius",
            "Mexico",
            "Monaco",
            "Mongolia",
            "Montenegro",
            "Morocco",
            "Mozambique",
            "Myanmar",
            "Namibia",
            "Nauru",
            "Nepal",
            "Netherlands (Kingdom of the)",
            "New Zealand",
            "Nicaragua",
            "Niger",
            "Nigeria",
            "North Macedonia",
            "Norway",
            "Oman",
            "Other non-specified areas",
            "Pakistan",
            "Panama",
            "Papua New Guinea",
            "Paraguay",
            "Peru",
            "Philippines",
            "Poland",
            "Portugal",
            "Puerto Rico",
            "Qatar",
            "Republic of Korea",
            "Republic of Moldova",
            "Romania",
            "Russian Federation",
            "Rwanda",
            "Saint Kitts and Nevis",
            "Saint Lucia",
            "Saint Vincent & Grenadines",
            "Samoa",
            "San Marino",
            "Sao Tome and Principe",
            "Saudi Arabia",
            "Senegal",
            "Serbia",
            "Seychelles",
            "Sierra Leone",
            "Singapore",
            "Slovakia",
            "Slovenia",
            "Solomon Islands",
            "South Africa",
            "South Sudan",
            "Spain",
            "Sri Lanka",
            "State of Palestine",
            "Sudan",
            "Suriname",
            "Sweden",
            "Switzerland",
            "Syrian Arab Republic",
            "Thailand",
            "Timor-Leste",
            "Togo",
            "Tonga",
            "Trinidad and Tobago",
            "Tunisia",
            "Türkiye",
            "Uganda",
            "Ukraine",
            "United Arab Emirates",
            "United Kingdom",
            "United Rep. of Tanzania",
            "United States of America",
            "Uruguay",
            "Uzbekistan",
            "Vanuatu",
            "Viet Nam",
            "Zambia",
            "Zimbabwe",
            "LDC§"
           ],
           "name": "",
           "type": "choropleth",
           "z": [
            17.6,
            68.6,
            59,
            90.7,
            32.1,
            95.7,
            79.9,
            66.5,
            93.6,
            87.8,
            81.1,
            90.7,
            99.7,
            27.8,
            83.2,
            82.8,
            90.3,
            57.1,
            22.4,
            74.2,
            47.5,
            69.9,
            64.8,
            73.9,
            95,
            67.9,
            9.3,
            2.7,
            61.9,
            52.3,
            36.5,
            91.9,
            7.5,
            8.4,
            85,
            64.1,
            91.7,
            86.5,
            65,
            16.4,
            81.2,
            36.3,
            79.1,
            68,
            86.1,
            80.9,
            16.5,
            98,
            59.3,
            73.4,
            79.7,
            59.2,
            57.3,
            50.5,
            49.1,
            8.8,
            90.2,
            54,
            16.2,
            77.2,
            89.6,
            83.3,
            68.7,
            28.8,
            68.8,
            88.1,
            45,
            75.7,
            69.6,
            44.4,
            23.4,
            22.9,
            78.6,
            32.5,
            39.4,
            80.4,
            99.5,
            29.5,
            47.7,
            72.5,
            44.3,
            87,
            86.8,
            67.9,
            70.8,
            92.7,
            70.1,
            81.9,
            22.7,
            43,
            99.5,
            64.1,
            47,
            86.1,
            79.8,
            42.3,
            23.5,
            93.1,
            81.6,
            97.1,
            11.8,
            13.4,
            84.2,
            77.5,
            22.3,
            85.8,
            42.3,
            61.7,
            69.6,
            83.3,
            51.1,
            73.5,
            84.1,
            14.6,
            30.6,
            44.8,
            74.7,
            34.8,
            93.3,
            89.9,
            44.9,
            16.6,
            45,
            81.4,
            98,
            90.3,
            88.8,
            17.1,
            63.6,
            20,
            68.5,
            60,
            43,
            80.4,
            75.3,
            77.7,
            99.7,
            96.2,
            57.8,
            73.7,
            82.6,
            21.4,
            79.8,
            77,
            74,
            61.2,
            67.9,
            30.2,
            95.7,
            36.2,
            77.4,
            74.8,
            16.8,
            88.9,
            82.9,
            83.1,
            28.2,
            69.7,
            5.6,
            90.7,
            50.7,
            70.6,
            25.9,
            56.8,
            94.5,
            93.1,
            34.7,
            66.7,
            28,
            20.7,
            61.8,
            79,
            66.7,
            74,
            6,
            70.1,
            99.2,
            92.5,
            18.3,
            89.4,
            83.4,
            70.4,
            50.7,
            68.7,
            16.8,
            26.6,
            23.5
           ]
          }
         ],
         "name": "2019"
        },
        {
         "data": [
          {
           "coloraxis": "coloraxis",
           "geo": "geo",
           "hovertemplate": "<b>%{hovertext}</b><br><br>Year=2020<br>Region_Country_Area=%{location}<br>internet_usage(%)=%{z}<extra></extra>",
           "hovertext": [
            "Afghanistan",
            "Albania",
            "Algeria",
            "Andorra",
            "Angola",
            "Antigua and Barbuda",
            "Argentina",
            "Armenia",
            "Australia",
            "Austria",
            "Azerbaijan",
            "Bahamas",
            "Bahrain",
            "Bangladesh",
            "Barbados",
            "Belarus",
            "Belgium",
            "Belize",
            "Benin",
            "Bhutan",
            "Bolivia (Plurin. State of)",
            "Bosnia and Herzegovina",
            "Botswana",
            "Brazil",
            "Brunei Darussalam",
            "Bulgaria",
            "Burkina Faso",
            "Burundi",
            "Cabo Verde",
            "Cambodia",
            "Cameroon",
            "Canada",
            "Central African Republic",
            "Chad",
            "Chile",
            "China",
            "China, Hong Kong SAR",
            "China, Macao SAR",
            "Colombia",
            "Comoros",
            "Costa Rica",
            "Côte dIvoire",
            "Croatia",
            "Cuba",
            "Cyprus",
            "Czechia",
            "Dem. Rep. of the Congo",
            "Denmark",
            "Djibouti",
            "Dominica",
            "Dominican Republic",
            "Ecuador",
            "Egypt",
            "El Salvador",
            "Equatorial Guinea",
            "Eritrea",
            "Estonia",
            "Eswatini",
            "Ethiopia",
            "Fiji",
            "Finland",
            "France",
            "Gabon",
            "Gambia",
            "Georgia",
            "Germany",
            "Ghana",
            "Greece",
            "Grenada",
            "Guatemala",
            "Guinea",
            "Guinea-Bissau",
            "Guyana",
            "Haiti",
            "Honduras",
            "Hungary",
            "Iceland",
            "India",
            "Indonesia",
            "Iran (Islamic Republic of)",
            "Iraq",
            "Ireland",
            "Israel",
            "Italy",
            "Jamaica",
            "Japan",
            "Jordan",
            "Kazakhstan",
            "Kenya",
            "Kiribati",
            "Kuwait",
            "Kyrgyzstan",
            "Lao People's Dem. Rep.",
            "Latvia",
            "Lebanon",
            "Lesotho",
            "Liberia",
            "Liechtenstein",
            "Lithuania",
            "Luxembourg",
            "Madagascar",
            "Malawi",
            "Malaysia",
            "Maldives",
            "Mali",
            "Malta",
            "Mauritania",
            "Mauritius",
            "Mexico",
            "Monaco",
            "Mongolia",
            "Montenegro",
            "Morocco",
            "Mozambique",
            "Myanmar",
            "Namibia",
            "Nauru",
            "Nepal",
            "Netherlands (Kingdom of the)",
            "New Zealand",
            "Nicaragua",
            "Niger",
            "Nigeria",
            "North Macedonia",
            "Norway",
            "Oman",
            "Other non-specified areas",
            "Pakistan",
            "Panama",
            "Papua New Guinea",
            "Paraguay",
            "Peru",
            "Philippines",
            "Poland",
            "Portugal",
            "Qatar",
            "Republic of Korea",
            "Republic of Moldova",
            "Romania",
            "Russian Federation",
            "Rwanda",
            "Saint Kitts and Nevis",
            "Saint Lucia",
            "Saint Vincent & Grenadines",
            "Samoa",
            "San Marino",
            "Sao Tome and Principe",
            "Saudi Arabia",
            "Senegal",
            "Serbia",
            "Seychelles",
            "Sierra Leone",
            "Singapore",
            "Slovakia",
            "Slovenia",
            "Solomon Islands",
            "South Africa",
            "South Sudan",
            "Spain",
            "Sri Lanka",
            "Sudan",
            "Suriname",
            "Sweden",
            "Switzerland",
            "Syrian Arab Republic",
            "Thailand",
            "Timor-Leste",
            "Togo",
            "Tonga",
            "Trinidad and Tobago",
            "Tunisia",
            "Türkiye",
            "Uganda",
            "Ukraine",
            "United Arab Emirates",
            "United Kingdom",
            "United Rep. of Tanzania",
            "United States of America",
            "Uruguay",
            "Uzbekistan",
            "Vanuatu",
            "Viet Nam",
            "Zambia",
            "Zimbabwe",
            "LDC§"
           ],
           "locationmode": "country names",
           "locations": [
            "Afghanistan",
            "Albania",
            "Algeria",
            "Andorra",
            "Angola",
            "Antigua and Barbuda",
            "Argentina",
            "Armenia",
            "Australia",
            "Austria",
            "Azerbaijan",
            "Bahamas",
            "Bahrain",
            "Bangladesh",
            "Barbados",
            "Belarus",
            "Belgium",
            "Belize",
            "Benin",
            "Bhutan",
            "Bolivia (Plurin. State of)",
            "Bosnia and Herzegovina",
            "Botswana",
            "Brazil",
            "Brunei Darussalam",
            "Bulgaria",
            "Burkina Faso",
            "Burundi",
            "Cabo Verde",
            "Cambodia",
            "Cameroon",
            "Canada",
            "Central African Republic",
            "Chad",
            "Chile",
            "China",
            "China, Hong Kong SAR",
            "China, Macao SAR",
            "Colombia",
            "Comoros",
            "Costa Rica",
            "Côte dIvoire",
            "Croatia",
            "Cuba",
            "Cyprus",
            "Czechia",
            "Dem. Rep. of the Congo",
            "Denmark",
            "Djibouti",
            "Dominica",
            "Dominican Republic",
            "Ecuador",
            "Egypt",
            "El Salvador",
            "Equatorial Guinea",
            "Eritrea",
            "Estonia",
            "Eswatini",
            "Ethiopia",
            "Fiji",
            "Finland",
            "France",
            "Gabon",
            "Gambia",
            "Georgia",
            "Germany",
            "Ghana",
            "Greece",
            "Grenada",
            "Guatemala",
            "Guinea",
            "Guinea-Bissau",
            "Guyana",
            "Haiti",
            "Honduras",
            "Hungary",
            "Iceland",
            "India",
            "Indonesia",
            "Iran (Islamic Republic of)",
            "Iraq",
            "Ireland",
            "Israel",
            "Italy",
            "Jamaica",
            "Japan",
            "Jordan",
            "Kazakhstan",
            "Kenya",
            "Kiribati",
            "Kuwait",
            "Kyrgyzstan",
            "Lao People's Dem. Rep.",
            "Latvia",
            "Lebanon",
            "Lesotho",
            "Liberia",
            "Liechtenstein",
            "Lithuania",
            "Luxembourg",
            "Madagascar",
            "Malawi",
            "Malaysia",
            "Maldives",
            "Mali",
            "Malta",
            "Mauritania",
            "Mauritius",
            "Mexico",
            "Monaco",
            "Mongolia",
            "Montenegro",
            "Morocco",
            "Mozambique",
            "Myanmar",
            "Namibia",
            "Nauru",
            "Nepal",
            "Netherlands (Kingdom of the)",
            "New Zealand",
            "Nicaragua",
            "Niger",
            "Nigeria",
            "North Macedonia",
            "Norway",
            "Oman",
            "Other non-specified areas",
            "Pakistan",
            "Panama",
            "Papua New Guinea",
            "Paraguay",
            "Peru",
            "Philippines",
            "Poland",
            "Portugal",
            "Qatar",
            "Republic of Korea",
            "Republic of Moldova",
            "Romania",
            "Russian Federation",
            "Rwanda",
            "Saint Kitts and Nevis",
            "Saint Lucia",
            "Saint Vincent & Grenadines",
            "Samoa",
            "San Marino",
            "Sao Tome and Principe",
            "Saudi Arabia",
            "Senegal",
            "Serbia",
            "Seychelles",
            "Sierra Leone",
            "Singapore",
            "Slovakia",
            "Slovenia",
            "Solomon Islands",
            "South Africa",
            "South Sudan",
            "Spain",
            "Sri Lanka",
            "Sudan",
            "Suriname",
            "Sweden",
            "Switzerland",
            "Syrian Arab Republic",
            "Thailand",
            "Timor-Leste",
            "Togo",
            "Tonga",
            "Trinidad and Tobago",
            "Tunisia",
            "Türkiye",
            "Uganda",
            "Ukraine",
            "United Arab Emirates",
            "United Kingdom",
            "United Rep. of Tanzania",
            "United States of America",
            "Uruguay",
            "Uzbekistan",
            "Vanuatu",
            "Viet Nam",
            "Zambia",
            "Zimbabwe",
            "LDC§"
           ],
           "name": "",
           "type": "choropleth",
           "z": [
            18.4,
            72.2,
            64,
            93.2,
            32.6,
            95.7,
            85.5,
            76.5,
            96.4,
            87.5,
            84.6,
            92.5,
            99.7,
            32.9,
            82.5,
            85.1,
            91.5,
            59.5,
            28.2,
            79.9,
            59.9,
            73.2,
            72.7,
            81.3,
            96.1,
            70.2,
            13.9,
            3.8,
            63.2,
            53.7,
            45.5,
            92.3,
            8.6,
            11.7,
            86.4,
            70.1,
            92.4,
            88.3,
            70.9,
            21.2,
            80.5,
            41.4,
            78.3,
            71.1,
            90.8,
            81.3,
            22.9,
            96.5,
            61.3,
            77.1,
            82.2,
            70.7,
            71.9,
            54.6,
            53.8,
            14.2,
            89.1,
            56.4,
            16.4,
            84.9,
            92.2,
            84.7,
            70.8,
            31.6,
            72.5,
            89.8,
            56.7,
            78.1,
            74.7,
            47.5,
            28.8,
            27.9,
            81.8,
            36.4,
            43.5,
            84.8,
            99.5,
            43.4,
            53.7,
            75.6,
            45.8,
            92,
            90.1,
            70.5,
            79.4,
            90.2,
            75.4,
            85.9,
            25.5,
            45.1,
            99.1,
            72,
            54,
            88.9,
            83.1,
            42.9,
            28,
            94.4,
            83.1,
            98.8,
            13.7,
            18.9,
            89.6,
            77.6,
            27.9,
            86.9,
            53.5,
            64.9,
            71.5,
            84.7,
            65.6,
            77.6,
            84.1,
            16.3,
            42,
            48.8,
            76.7,
            45.8,
            91.3,
            92.9,
            53.4,
            21.5,
            51.5,
            81.4,
            97,
            95.2,
            89,
            18.9,
            65.5,
            27.7,
            74,
            65.3,
            47.1,
            83.2,
            78.3,
            99.7,
            96.5,
            59.2,
            78.5,
            85,
            23.8,
            80.4,
            77.5,
            80.4,
            69.2,
            70.5,
            40.3,
            97.9,
            47.2,
            78.4,
            75.5,
            18,
            92,
            89.9,
            86.6,
            35.9,
            70.3,
            6.5,
            93.2,
            59.2,
            28.4,
            62.1,
            94.5,
            94.4,
            35.8,
            77.8,
            34.1,
            29.1,
            66.6,
            78.7,
            72.8,
            77.7,
            6.1,
            75,
            100,
            94.8,
            23.4,
            90.6,
            86.3,
            71.1,
            53.3,
            70.3,
            18.1,
            29.3,
            27.6
           ]
          }
         ],
         "name": "2020"
        },
        {
         "data": [
          {
           "coloraxis": "coloraxis",
           "geo": "geo",
           "hovertemplate": "<b>%{hovertext}</b><br><br>Year=2000<br>Region_Country_Area=%{location}<br>internet_usage(%)=%{z}<extra></extra>",
           "hovertext": [
            "Albania",
            "Algeria",
            "Andorra",
            "Angola",
            "Anguilla",
            "Antigua and Barbuda",
            "Argentina",
            "Armenia",
            "Aruba",
            "Australia",
            "Austria",
            "Azerbaijan",
            "Bahamas",
            "Bahrain",
            "Bangladesh",
            "Barbados",
            "Belarus",
            "Belgium",
            "Belize",
            "Benin",
            "Bermuda",
            "Bhutan",
            "Bolivia (Plurin. State of)",
            "Bosnia and Herzegovina",
            "Botswana",
            "Brazil",
            "Brunei Darussalam",
            "Bulgaria",
            "Burkina Faso",
            "Burundi",
            "Cabo Verde",
            "Cambodia",
            "Cameroon",
            "Canada",
            "Central African Republic",
            "Chad",
            "Chile",
            "China",
            "China, Hong Kong SAR",
            "China, Macao SAR",
            "Colombia",
            "Comoros",
            "Congo",
            "Cook Islands",
            "Costa Rica",
            "Côte dIvoire",
            "Croatia",
            "Cuba",
            "Cyprus",
            "Czechia",
            "Dem. People's Rep. Korea",
            "Dem. Rep. of the Congo",
            "Denmark",
            "Djibouti",
            "Dominica",
            "Dominican Republic",
            "Ecuador",
            "Egypt",
            "El Salvador",
            "Equatorial Guinea",
            "Eritrea",
            "Estonia",
            "Eswatini",
            "Ethiopia",
            "Falkland Islands (Malvinas)",
            "Faroe Islands",
            "Fiji",
            "Finland",
            "France",
            "French Guiana",
            "French Polynesia",
            "Gabon",
            "Gambia",
            "Georgia",
            "Germany",
            "Ghana",
            "Gibraltar",
            "Greece",
            "Greenland",
            "Grenada",
            "Guadeloupe",
            "Guam",
            "Guatemala",
            "Guernsey",
            "Guinea",
            "Guinea-Bissau",
            "Guyana",
            "Haiti",
            "Honduras",
            "Hungary",
            "Iceland",
            "India",
            "Indonesia",
            "Iran (Islamic Republic of)",
            "Ireland",
            "Israel",
            "Italy",
            "Jamaica",
            "Japan",
            "Jersey",
            "Jordan",
            "Kazakhstan",
            "Kenya",
            "Kiribati",
            "Kuwait",
            "Kyrgyzstan",
            "Lao People's Dem. Rep.",
            "Latvia",
            "Lebanon",
            "Lesotho",
            "Liberia",
            "Libya",
            "Liechtenstein",
            "Lithuania",
            "Luxembourg",
            "Madagascar",
            "Malawi",
            "Malaysia",
            "Maldives",
            "Mali",
            "Malta",
            "Marshall Islands",
            "Martinique",
            "Mauritania",
            "Mauritius",
            "Mayotte",
            "Mexico",
            "Monaco",
            "Mongolia",
            "Morocco",
            "Mozambique",
            "Namibia",
            "Nepal",
            "Netherlands (Kingdom of the)",
            "New Caledonia",
            "New Zealand",
            "Nicaragua",
            "Niger",
            "Nigeria",
            "Niue",
            "North Macedonia",
            "Norway",
            "Oman",
            "Other non-specified areas",
            "Panama",
            "Papua New Guinea",
            "Paraguay",
            "Peru",
            "Philippines",
            "Poland",
            "Portugal",
            "Puerto Rico",
            "Qatar",
            "Republic of Korea",
            "Republic of Moldova",
            "Réunion",
            "Romania",
            "Russian Federation",
            "Rwanda",
            "Saint Helena",
            "Saint Kitts and Nevis",
            "Saint Lucia",
            "Saint Vincent & Grenadines",
            "Samoa",
            "San Marino",
            "Sao Tome and Principe",
            "Saudi Arabia",
            "Senegal",
            "Seychelles",
            "Sierra Leone",
            "Singapore",
            "Slovakia",
            "Slovenia",
            "Solomon Islands",
            "Somalia",
            "South Africa",
            "Spain",
            "Sri Lanka",
            "State of Palestine",
            "Sudan",
            "Suriname",
            "Sweden",
            "Switzerland",
            "Syrian Arab Republic",
            "Tajikistan",
            "Thailand",
            "Togo",
            "Tonga",
            "Trinidad and Tobago",
            "Tunisia",
            "Türkiye",
            "Turkmenistan",
            "Tuvalu",
            "Uganda",
            "Ukraine",
            "United Arab Emirates",
            "United Kingdom",
            "United Rep. of Tanzania",
            "United States of America",
            "United States Virgin Islands",
            "Uruguay",
            "Uzbekistan",
            "Vanuatu",
            "Venezuela (Boliv. Rep. of)",
            "Viet Nam",
            "Wallis and Futuna Islands",
            "Yemen",
            "Zambia",
            "Zimbabwe",
            "LDC§"
           ],
           "locationmode": "country names",
           "locations": [
            "Albania",
            "Algeria",
            "Andorra",
            "Angola",
            "Anguilla",
            "Antigua and Barbuda",
            "Argentina",
            "Armenia",
            "Aruba",
            "Australia",
            "Austria",
            "Azerbaijan",
            "Bahamas",
            "Bahrain",
            "Bangladesh",
            "Barbados",
            "Belarus",
            "Belgium",
            "Belize",
            "Benin",
            "Bermuda",
            "Bhutan",
            "Bolivia (Plurin. State of)",
            "Bosnia and Herzegovina",
            "Botswana",
            "Brazil",
            "Brunei Darussalam",
            "Bulgaria",
            "Burkina Faso",
            "Burundi",
            "Cabo Verde",
            "Cambodia",
            "Cameroon",
            "Canada",
            "Central African Republic",
            "Chad",
            "Chile",
            "China",
            "China, Hong Kong SAR",
            "China, Macao SAR",
            "Colombia",
            "Comoros",
            "Congo",
            "Cook Islands",
            "Costa Rica",
            "Côte dIvoire",
            "Croatia",
            "Cuba",
            "Cyprus",
            "Czechia",
            "Dem. People's Rep. Korea",
            "Dem. Rep. of the Congo",
            "Denmark",
            "Djibouti",
            "Dominica",
            "Dominican Republic",
            "Ecuador",
            "Egypt",
            "El Salvador",
            "Equatorial Guinea",
            "Eritrea",
            "Estonia",
            "Eswatini",
            "Ethiopia",
            "Falkland Islands (Malvinas)",
            "Faroe Islands",
            "Fiji",
            "Finland",
            "France",
            "French Guiana",
            "French Polynesia",
            "Gabon",
            "Gambia",
            "Georgia",
            "Germany",
            "Ghana",
            "Gibraltar",
            "Greece",
            "Greenland",
            "Grenada",
            "Guadeloupe",
            "Guam",
            "Guatemala",
            "Guernsey",
            "Guinea",
            "Guinea-Bissau",
            "Guyana",
            "Haiti",
            "Honduras",
            "Hungary",
            "Iceland",
            "India",
            "Indonesia",
            "Iran (Islamic Republic of)",
            "Ireland",
            "Israel",
            "Italy",
            "Jamaica",
            "Japan",
            "Jersey",
            "Jordan",
            "Kazakhstan",
            "Kenya",
            "Kiribati",
            "Kuwait",
            "Kyrgyzstan",
            "Lao People's Dem. Rep.",
            "Latvia",
            "Lebanon",
            "Lesotho",
            "Liberia",
            "Libya",
            "Liechtenstein",
            "Lithuania",
            "Luxembourg",
            "Madagascar",
            "Malawi",
            "Malaysia",
            "Maldives",
            "Mali",
            "Malta",
            "Marshall Islands",
            "Martinique",
            "Mauritania",
            "Mauritius",
            "Mayotte",
            "Mexico",
            "Monaco",
            "Mongolia",
            "Morocco",
            "Mozambique",
            "Namibia",
            "Nepal",
            "Netherlands (Kingdom of the)",
            "New Caledonia",
            "New Zealand",
            "Nicaragua",
            "Niger",
            "Nigeria",
            "Niue",
            "North Macedonia",
            "Norway",
            "Oman",
            "Other non-specified areas",
            "Panama",
            "Papua New Guinea",
            "Paraguay",
            "Peru",
            "Philippines",
            "Poland",
            "Portugal",
            "Puerto Rico",
            "Qatar",
            "Republic of Korea",
            "Republic of Moldova",
            "Réunion",
            "Romania",
            "Russian Federation",
            "Rwanda",
            "Saint Helena",
            "Saint Kitts and Nevis",
            "Saint Lucia",
            "Saint Vincent & Grenadines",
            "Samoa",
            "San Marino",
            "Sao Tome and Principe",
            "Saudi Arabia",
            "Senegal",
            "Seychelles",
            "Sierra Leone",
            "Singapore",
            "Slovakia",
            "Slovenia",
            "Solomon Islands",
            "Somalia",
            "South Africa",
            "Spain",
            "Sri Lanka",
            "State of Palestine",
            "Sudan",
            "Suriname",
            "Sweden",
            "Switzerland",
            "Syrian Arab Republic",
            "Tajikistan",
            "Thailand",
            "Togo",
            "Tonga",
            "Trinidad and Tobago",
            "Tunisia",
            "Türkiye",
            "Turkmenistan",
            "Tuvalu",
            "Uganda",
            "Ukraine",
            "United Arab Emirates",
            "United Kingdom",
            "United Rep. of Tanzania",
            "United States of America",
            "United States Virgin Islands",
            "Uruguay",
            "Uzbekistan",
            "Vanuatu",
            "Venezuela (Boliv. Rep. of)",
            "Viet Nam",
            "Wallis and Futuna Islands",
            "Yemen",
            "Zambia",
            "Zimbabwe",
            "LDC§"
           ],
           "name": "",
           "type": "choropleth",
           "z": [
            0.1,
            0.5,
            10.5,
            0.1,
            22.4,
            6.5,
            7,
            1.3,
            15.4,
            46.8,
            33.7,
            0.1,
            8,
            6.2,
            0.1,
            4,
            1.9,
            29.4,
            6,
            0.2,
            42.9,
            0.4,
            1.4,
            1.1,
            2.9,
            2.9,
            9,
            5.4,
            0.1,
            0.1,
            1.8,
            0,
            0.3,
            51.3,
            0.1,
            0,
            16.6,
            1.8,
            27.8,
            13.6,
            2.2,
            0.3,
            0,
            15.7,
            5.8,
            0.2,
            6.6,
            0.5,
            15.3,
            9.8,
            0,
            0,
            39.2,
            0.2,
            8.8,
            3.7,
            1.5,
            0.6,
            1.2,
            0.1,
            0.1,
            28.6,
            0.9,
            0,
            58.6,
            32.9,
            1.5,
            37.2,
            14.3,
            9.7,
            6.4,
            1.2,
            0.9,
            0.5,
            30.2,
            0.2,
            19.1,
            9.1,
            31.7,
            4.1,
            5.8,
            16.1,
            0.7,
            31.9,
            0.1,
            0.2,
            0.6,
            0.2,
            1.2,
            7,
            44.5,
            0.5,
            0.9,
            0.9,
            17.9,
            20.9,
            23.1,
            3.1,
            30,
            9.2,
            2.6,
            0.7,
            0.3,
            1.8,
            6.7,
            1,
            0.1,
            6.3,
            8,
            0.2,
            0,
            0.2,
            36.5,
            6.4,
            22.9,
            0.2,
            0.1,
            21.4,
            2.2,
            0.1,
            13.1,
            1.5,
            7.8,
            0.2,
            7.3,
            1.2,
            5.1,
            42.2,
            1.3,
            0.7,
            0.1,
            1.6,
            0.2,
            44,
            13.9,
            47.4,
            1,
            0,
            0.1,
            26.5,
            2.5,
            52,
            3.5,
            28.1,
            6.6,
            0.8,
            0.7,
            3.1,
            2,
            7.3,
            16.4,
            10.5,
            4.9,
            44.7,
            1.3,
            13.8,
            3.6,
            2,
            0.1,
            5.9,
            5.9,
            5.1,
            3.2,
            0.6,
            48.8,
            4.6,
            2.2,
            0.4,
            7.4,
            0.1,
            36,
            9.4,
            15.1,
            0.5,
            0,
            5.3,
            13.6,
            0.6,
            1.1,
            0,
            2.5,
            45.7,
            47.1,
            0.2,
            0,
            3.7,
            0.8,
            2.4,
            7.7,
            2.8,
            3.8,
            0.1,
            5.2,
            0.2,
            0.7,
            23.6,
            26.8,
            0.1,
            43.1,
            13.8,
            10.5,
            0.5,
            2.1,
            3.4,
            0.3,
            4.8,
            0.1,
            0.2,
            0.4,
            0.4
           ]
          }
         ],
         "name": "2000"
        },
        {
         "data": [
          {
           "coloraxis": "coloraxis",
           "geo": "geo",
           "hovertemplate": "<b>%{hovertext}</b><br><br>Year=2021<br>Region_Country_Area=%{location}<br>internet_usage(%)=%{z}<extra></extra>",
           "hovertext": [
            "Albania",
            "Algeria",
            "Andorra",
            "Angola",
            "Antigua and Barbuda",
            "Argentina",
            "Armenia",
            "Australia",
            "Austria",
            "Azerbaijan",
            "Bahamas",
            "Bahrain",
            "Bangladesh",
            "Barbados",
            "Belarus",
            "Belgium",
            "Belize",
            "Benin",
            "Bhutan",
            "Bolivia (Plurin. State of)",
            "Bosnia and Herzegovina",
            "Botswana",
            "Brazil",
            "Brunei Darussalam",
            "Bulgaria",
            "Burkina Faso",
            "Burundi",
            "Cabo Verde",
            "Cambodia",
            "Cameroon",
            "Canada",
            "Central African Republic",
            "Chad",
            "Chile",
            "China",
            "China, Hong Kong SAR",
            "China, Macao SAR",
            "Colombia",
            "Comoros",
            "Costa Rica",
            "Côte dIvoire",
            "Croatia",
            "Cuba",
            "Cyprus",
            "Czechia",
            "Dem. Rep. of the Congo",
            "Denmark",
            "Djibouti",
            "Dominica",
            "Dominican Republic",
            "Ecuador",
            "Egypt",
            "El Salvador",
            "Equatorial Guinea",
            "Eritrea",
            "Estonia",
            "Eswatini",
            "Ethiopia",
            "Fiji",
            "Finland",
            "France",
            "Gabon",
            "Gambia",
            "Georgia",
            "Germany",
            "Ghana",
            "Greece",
            "Grenada",
            "Guatemala",
            "Guinea",
            "Guinea-Bissau",
            "Guyana",
            "Haiti",
            "Honduras",
            "Hungary",
            "Iceland",
            "India",
            "Indonesia",
            "Iran (Islamic Republic of)",
            "Iraq",
            "Ireland",
            "Israel",
            "Italy",
            "Jamaica",
            "Japan",
            "Jordan",
            "Kazakhstan",
            "Kenya",
            "Kiribati",
            "Kuwait",
            "Kyrgyzstan",
            "Lao People's Dem. Rep.",
            "Latvia",
            "Lebanon",
            "Lesotho",
            "Liberia",
            "Liechtenstein",
            "Lithuania",
            "Luxembourg",
            "Madagascar",
            "Malawi",
            "Malaysia",
            "Maldives",
            "Mali",
            "Malta",
            "Mauritania",
            "Mauritius",
            "Mexico",
            "Monaco",
            "Mongolia",
            "Montenegro",
            "Morocco",
            "Mozambique",
            "Myanmar",
            "Namibia",
            "Nauru",
            "Nepal",
            "Netherlands (Kingdom of the)",
            "New Zealand",
            "Nicaragua",
            "Niger",
            "Nigeria",
            "North Macedonia",
            "Norway",
            "Oman",
            "Other non-specified areas",
            "Pakistan",
            "Panama",
            "Papua New Guinea",
            "Paraguay",
            "Peru",
            "Philippines",
            "Poland",
            "Portugal",
            "Qatar",
            "Republic of Korea",
            "Republic of Moldova",
            "Romania",
            "Russian Federation",
            "Rwanda",
            "Saint Kitts and Nevis",
            "Saint Lucia",
            "Saint Vincent & Grenadines",
            "Samoa",
            "San Marino",
            "Sao Tome and Principe",
            "Saudi Arabia",
            "Senegal",
            "Serbia",
            "Seychelles",
            "Singapore",
            "Slovakia",
            "Slovenia",
            "Solomon Islands",
            "South Africa",
            "Spain",
            "Sri Lanka",
            "Suriname",
            "Sweden",
            "Switzerland",
            "Thailand",
            "Timor-Leste",
            "Togo",
            "Tonga",
            "Trinidad and Tobago",
            "Tunisia",
            "Türkiye",
            "Tuvalu",
            "Uganda",
            "Ukraine",
            "United Arab Emirates",
            "United Kingdom",
            "United Rep. of Tanzania",
            "United States of America",
            "Uruguay",
            "Uzbekistan",
            "Vanuatu",
            "Viet Nam",
            "Zambia",
            "Zimbabwe",
            "LDC§"
           ],
           "locationmode": "country names",
           "locations": [
            "Albania",
            "Algeria",
            "Andorra",
            "Angola",
            "Antigua and Barbuda",
            "Argentina",
            "Armenia",
            "Australia",
            "Austria",
            "Azerbaijan",
            "Bahamas",
            "Bahrain",
            "Bangladesh",
            "Barbados",
            "Belarus",
            "Belgium",
            "Belize",
            "Benin",
            "Bhutan",
            "Bolivia (Plurin. State of)",
            "Bosnia and Herzegovina",
            "Botswana",
            "Brazil",
            "Brunei Darussalam",
            "Bulgaria",
            "Burkina Faso",
            "Burundi",
            "Cabo Verde",
            "Cambodia",
            "Cameroon",
            "Canada",
            "Central African Republic",
            "Chad",
            "Chile",
            "China",
            "China, Hong Kong SAR",
            "China, Macao SAR",
            "Colombia",
            "Comoros",
            "Costa Rica",
            "Côte dIvoire",
            "Croatia",
            "Cuba",
            "Cyprus",
            "Czechia",
            "Dem. Rep. of the Congo",
            "Denmark",
            "Djibouti",
            "Dominica",
            "Dominican Republic",
            "Ecuador",
            "Egypt",
            "El Salvador",
            "Equatorial Guinea",
            "Eritrea",
            "Estonia",
            "Eswatini",
            "Ethiopia",
            "Fiji",
            "Finland",
            "France",
            "Gabon",
            "Gambia",
            "Georgia",
            "Germany",
            "Ghana",
            "Greece",
            "Grenada",
            "Guatemala",
            "Guinea",
            "Guinea-Bissau",
            "Guyana",
            "Haiti",
            "Honduras",
            "Hungary",
            "Iceland",
            "India",
            "Indonesia",
            "Iran (Islamic Republic of)",
            "Iraq",
            "Ireland",
            "Israel",
            "Italy",
            "Jamaica",
            "Japan",
            "Jordan",
            "Kazakhstan",
            "Kenya",
            "Kiribati",
            "Kuwait",
            "Kyrgyzstan",
            "Lao People's Dem. Rep.",
            "Latvia",
            "Lebanon",
            "Lesotho",
            "Liberia",
            "Liechtenstein",
            "Lithuania",
            "Luxembourg",
            "Madagascar",
            "Malawi",
            "Malaysia",
            "Maldives",
            "Mali",
            "Malta",
            "Mauritania",
            "Mauritius",
            "Mexico",
            "Monaco",
            "Mongolia",
            "Montenegro",
            "Morocco",
            "Mozambique",
            "Myanmar",
            "Namibia",
            "Nauru",
            "Nepal",
            "Netherlands (Kingdom of the)",
            "New Zealand",
            "Nicaragua",
            "Niger",
            "Nigeria",
            "North Macedonia",
            "Norway",
            "Oman",
            "Other non-specified areas",
            "Pakistan",
            "Panama",
            "Papua New Guinea",
            "Paraguay",
            "Peru",
            "Philippines",
            "Poland",
            "Portugal",
            "Qatar",
            "Republic of Korea",
            "Republic of Moldova",
            "Romania",
            "Russian Federation",
            "Rwanda",
            "Saint Kitts and Nevis",
            "Saint Lucia",
            "Saint Vincent & Grenadines",
            "Samoa",
            "San Marino",
            "Sao Tome and Principe",
            "Saudi Arabia",
            "Senegal",
            "Serbia",
            "Seychelles",
            "Singapore",
            "Slovakia",
            "Slovenia",
            "Solomon Islands",
            "South Africa",
            "Spain",
            "Sri Lanka",
            "Suriname",
            "Sweden",
            "Switzerland",
            "Thailand",
            "Timor-Leste",
            "Togo",
            "Tonga",
            "Trinidad and Tobago",
            "Tunisia",
            "Türkiye",
            "Tuvalu",
            "Uganda",
            "Ukraine",
            "United Arab Emirates",
            "United Kingdom",
            "United Rep. of Tanzania",
            "United States of America",
            "Uruguay",
            "Uzbekistan",
            "Vanuatu",
            "Viet Nam",
            "Zambia",
            "Zimbabwe",
            "LDC§"
           ],
           "name": "",
           "type": "choropleth",
           "z": [
            79.3,
            70.8,
            93.9,
            32.6,
            95.7,
            87.2,
            78.6,
            96.2,
            92.5,
            86,
            94.3,
            100,
            38.9,
            85.8,
            86.9,
            92.8,
            62,
            34,
            85.6,
            66,
            75.7,
            73.5,
            80.7,
            98.1,
            75.3,
            21.6,
            5.8,
            69.8,
            60.2,
            45.6,
            92.8,
            10.6,
            17.9,
            90.2,
            73.1,
            93.1,
            88.5,
            73,
            27.3,
            82.8,
            45.4,
            81.3,
            71.1,
            90.8,
            82.7,
            22.9,
            98.9,
            68.9,
            80.9,
            85.2,
            76.2,
            72.1,
            62.9,
            53.9,
            21.7,
            91,
            58.9,
            16.7,
            87.7,
            92.8,
            86.1,
            71.7,
            33,
            76.4,
            91.4,
            68.2,
            78.5,
            77.8,
            50.8,
            34.7,
            35.2,
            84.8,
            38.9,
            48.1,
            88.6,
            99.7,
            46.3,
            62.1,
            78.6,
            48.9,
            95.2,
            90.3,
            74.9,
            82.4,
            82.9,
            82.8,
            90.9,
            28.8,
            53.6,
            99.7,
            77.9,
            62,
            91.2,
            86.6,
            48,
            33.6,
            95.6,
            86.9,
            98.7,
            19.7,
            24.4,
            96.8,
            85.8,
            34.5,
            87.5,
            58.8,
            67.6,
            75.6,
            86.1,
            84.3,
            82.2,
            88.1,
            17.4,
            44,
            53,
            83.9,
            51.6,
            92.1,
            95.9,
            57.1,
            22.4,
            55.4,
            83,
            99,
            96.4,
            90.1,
            21,
            67.5,
            32.1,
            77,
            71.1,
            52.7,
            85.4,
            82.3,
            100,
            97.6,
            61.3,
            83.6,
            88.2,
            30.5,
            79.5,
            78.1,
            84.9,
            78.2,
            74.9,
            51.2,
            100,
            58.1,
            81.2,
            81.6,
            91.1,
            88.9,
            89,
            36.1,
            72.3,
            93.9,
            66.7,
            65.9,
            88.3,
            95.6,
            85.3,
            39.5,
            35,
            71.6,
            79,
            79,
            81.4,
            71.6,
            10.3,
            79.2,
            100,
            96.7,
            31.6,
            91.8,
            90.1,
            76.6,
            66.3,
            74.2,
            21.2,
            34.8,
            31.2
           ]
          }
         ],
         "name": "2021"
        }
       ],
       "layout": {
        "coloraxis": {
         "colorbar": {
          "title": {
           "text": "internet_usage(%)"
          }
         },
         "colorscale": [
          [
           0,
           "#0d0887"
          ],
          [
           0.1111111111111111,
           "#46039f"
          ],
          [
           0.2222222222222222,
           "#7201a8"
          ],
          [
           0.3333333333333333,
           "#9c179e"
          ],
          [
           0.4444444444444444,
           "#bd3786"
          ],
          [
           0.5555555555555556,
           "#d8576b"
          ],
          [
           0.6666666666666666,
           "#ed7953"
          ],
          [
           0.7777777777777778,
           "#fb9f3a"
          ],
          [
           0.8888888888888888,
           "#fdca26"
          ],
          [
           1,
           "#f0f921"
          ]
         ]
        },
        "geo": {
         "center": {},
         "domain": {
          "x": [
           0,
           1
          ],
          "y": [
           0,
           1
          ]
         },
         "projection": {
          "type": "natural earth"
         }
        },
        "height": 600,
        "legend": {
         "tracegroupgap": 0
        },
        "sliders": [
         {
          "active": 0,
          "currentvalue": {
           "prefix": "Year="
          },
          "len": 0.9,
          "pad": {
           "b": 10,
           "t": 60
          },
          "steps": [
           {
            "args": [
             [
              "2005"
             ],
             {
              "frame": {
               "duration": 0,
               "redraw": true
              },
              "fromcurrent": true,
              "mode": "immediate",
              "transition": {
               "duration": 0,
               "easing": "linear"
              }
             }
            ],
            "label": "2005",
            "method": "animate"
           },
           {
            "args": [
             [
              "2010"
             ],
             {
              "frame": {
               "duration": 0,
               "redraw": true
              },
              "fromcurrent": true,
              "mode": "immediate",
              "transition": {
               "duration": 0,
               "easing": "linear"
              }
             }
            ],
            "label": "2010",
            "method": "animate"
           },
           {
            "args": [
             [
              "2015"
             ],
             {
              "frame": {
               "duration": 0,
               "redraw": true
              },
              "fromcurrent": true,
              "mode": "immediate",
              "transition": {
               "duration": 0,
               "easing": "linear"
              }
             }
            ],
            "label": "2015",
            "method": "animate"
           },
           {
            "args": [
             [
              "2019"
             ],
             {
              "frame": {
               "duration": 0,
               "redraw": true
              },
              "fromcurrent": true,
              "mode": "immediate",
              "transition": {
               "duration": 0,
               "easing": "linear"
              }
             }
            ],
            "label": "2019",
            "method": "animate"
           },
           {
            "args": [
             [
              "2020"
             ],
             {
              "frame": {
               "duration": 0,
               "redraw": true
              },
              "fromcurrent": true,
              "mode": "immediate",
              "transition": {
               "duration": 0,
               "easing": "linear"
              }
             }
            ],
            "label": "2020",
            "method": "animate"
           },
           {
            "args": [
             [
              "2000"
             ],
             {
              "frame": {
               "duration": 0,
               "redraw": true
              },
              "fromcurrent": true,
              "mode": "immediate",
              "transition": {
               "duration": 0,
               "easing": "linear"
              }
             }
            ],
            "label": "2000",
            "method": "animate"
           },
           {
            "args": [
             [
              "2021"
             ],
             {
              "frame": {
               "duration": 0,
               "redraw": true
              },
              "fromcurrent": true,
              "mode": "immediate",
              "transition": {
               "duration": 0,
               "easing": "linear"
              }
             }
            ],
            "label": "2021",
            "method": "animate"
           }
          ],
          "x": 0.1,
          "xanchor": "left",
          "y": 0,
          "yanchor": "top"
         }
        ],
        "template": {
         "data": {
          "bar": [
           {
            "error_x": {
             "color": "#2a3f5f"
            },
            "error_y": {
             "color": "#2a3f5f"
            },
            "marker": {
             "line": {
              "color": "#E5ECF6",
              "width": 0.5
             },
             "pattern": {
              "fillmode": "overlay",
              "size": 10,
              "solidity": 0.2
             }
            },
            "type": "bar"
           }
          ],
          "barpolar": [
           {
            "marker": {
             "line": {
              "color": "#E5ECF6",
              "width": 0.5
             },
             "pattern": {
              "fillmode": "overlay",
              "size": 10,
              "solidity": 0.2
             }
            },
            "type": "barpolar"
           }
          ],
          "carpet": [
           {
            "aaxis": {
             "endlinecolor": "#2a3f5f",
             "gridcolor": "white",
             "linecolor": "white",
             "minorgridcolor": "white",
             "startlinecolor": "#2a3f5f"
            },
            "baxis": {
             "endlinecolor": "#2a3f5f",
             "gridcolor": "white",
             "linecolor": "white",
             "minorgridcolor": "white",
             "startlinecolor": "#2a3f5f"
            },
            "type": "carpet"
           }
          ],
          "choropleth": [
           {
            "colorbar": {
             "outlinewidth": 0,
             "ticks": ""
            },
            "type": "choropleth"
           }
          ],
          "contour": [
           {
            "colorbar": {
             "outlinewidth": 0,
             "ticks": ""
            },
            "colorscale": [
             [
              0,
              "#0d0887"
             ],
             [
              0.1111111111111111,
              "#46039f"
             ],
             [
              0.2222222222222222,
              "#7201a8"
             ],
             [
              0.3333333333333333,
              "#9c179e"
             ],
             [
              0.4444444444444444,
              "#bd3786"
             ],
             [
              0.5555555555555556,
              "#d8576b"
             ],
             [
              0.6666666666666666,
              "#ed7953"
             ],
             [
              0.7777777777777778,
              "#fb9f3a"
             ],
             [
              0.8888888888888888,
              "#fdca26"
             ],
             [
              1,
              "#f0f921"
             ]
            ],
            "type": "contour"
           }
          ],
          "contourcarpet": [
           {
            "colorbar": {
             "outlinewidth": 0,
             "ticks": ""
            },
            "type": "contourcarpet"
           }
          ],
          "heatmap": [
           {
            "colorbar": {
             "outlinewidth": 0,
             "ticks": ""
            },
            "colorscale": [
             [
              0,
              "#0d0887"
             ],
             [
              0.1111111111111111,
              "#46039f"
             ],
             [
              0.2222222222222222,
              "#7201a8"
             ],
             [
              0.3333333333333333,
              "#9c179e"
             ],
             [
              0.4444444444444444,
              "#bd3786"
             ],
             [
              0.5555555555555556,
              "#d8576b"
             ],
             [
              0.6666666666666666,
              "#ed7953"
             ],
             [
              0.7777777777777778,
              "#fb9f3a"
             ],
             [
              0.8888888888888888,
              "#fdca26"
             ],
             [
              1,
              "#f0f921"
             ]
            ],
            "type": "heatmap"
           }
          ],
          "heatmapgl": [
           {
            "colorbar": {
             "outlinewidth": 0,
             "ticks": ""
            },
            "colorscale": [
             [
              0,
              "#0d0887"
             ],
             [
              0.1111111111111111,
              "#46039f"
             ],
             [
              0.2222222222222222,
              "#7201a8"
             ],
             [
              0.3333333333333333,
              "#9c179e"
             ],
             [
              0.4444444444444444,
              "#bd3786"
             ],
             [
              0.5555555555555556,
              "#d8576b"
             ],
             [
              0.6666666666666666,
              "#ed7953"
             ],
             [
              0.7777777777777778,
              "#fb9f3a"
             ],
             [
              0.8888888888888888,
              "#fdca26"
             ],
             [
              1,
              "#f0f921"
             ]
            ],
            "type": "heatmapgl"
           }
          ],
          "histogram": [
           {
            "marker": {
             "pattern": {
              "fillmode": "overlay",
              "size": 10,
              "solidity": 0.2
             }
            },
            "type": "histogram"
           }
          ],
          "histogram2d": [
           {
            "colorbar": {
             "outlinewidth": 0,
             "ticks": ""
            },
            "colorscale": [
             [
              0,
              "#0d0887"
             ],
             [
              0.1111111111111111,
              "#46039f"
             ],
             [
              0.2222222222222222,
              "#7201a8"
             ],
             [
              0.3333333333333333,
              "#9c179e"
             ],
             [
              0.4444444444444444,
              "#bd3786"
             ],
             [
              0.5555555555555556,
              "#d8576b"
             ],
             [
              0.6666666666666666,
              "#ed7953"
             ],
             [
              0.7777777777777778,
              "#fb9f3a"
             ],
             [
              0.8888888888888888,
              "#fdca26"
             ],
             [
              1,
              "#f0f921"
             ]
            ],
            "type": "histogram2d"
           }
          ],
          "histogram2dcontour": [
           {
            "colorbar": {
             "outlinewidth": 0,
             "ticks": ""
            },
            "colorscale": [
             [
              0,
              "#0d0887"
             ],
             [
              0.1111111111111111,
              "#46039f"
             ],
             [
              0.2222222222222222,
              "#7201a8"
             ],
             [
              0.3333333333333333,
              "#9c179e"
             ],
             [
              0.4444444444444444,
              "#bd3786"
             ],
             [
              0.5555555555555556,
              "#d8576b"
             ],
             [
              0.6666666666666666,
              "#ed7953"
             ],
             [
              0.7777777777777778,
              "#fb9f3a"
             ],
             [
              0.8888888888888888,
              "#fdca26"
             ],
             [
              1,
              "#f0f921"
             ]
            ],
            "type": "histogram2dcontour"
           }
          ],
          "mesh3d": [
           {
            "colorbar": {
             "outlinewidth": 0,
             "ticks": ""
            },
            "type": "mesh3d"
           }
          ],
          "parcoords": [
           {
            "line": {
             "colorbar": {
              "outlinewidth": 0,
              "ticks": ""
             }
            },
            "type": "parcoords"
           }
          ],
          "pie": [
           {
            "automargin": true,
            "type": "pie"
           }
          ],
          "scatter": [
           {
            "fillpattern": {
             "fillmode": "overlay",
             "size": 10,
             "solidity": 0.2
            },
            "type": "scatter"
           }
          ],
          "scatter3d": [
           {
            "line": {
             "colorbar": {
              "outlinewidth": 0,
              "ticks": ""
             }
            },
            "marker": {
             "colorbar": {
              "outlinewidth": 0,
              "ticks": ""
             }
            },
            "type": "scatter3d"
           }
          ],
          "scattercarpet": [
           {
            "marker": {
             "colorbar": {
              "outlinewidth": 0,
              "ticks": ""
             }
            },
            "type": "scattercarpet"
           }
          ],
          "scattergeo": [
           {
            "marker": {
             "colorbar": {
              "outlinewidth": 0,
              "ticks": ""
             }
            },
            "type": "scattergeo"
           }
          ],
          "scattergl": [
           {
            "marker": {
             "colorbar": {
              "outlinewidth": 0,
              "ticks": ""
             }
            },
            "type": "scattergl"
           }
          ],
          "scattermapbox": [
           {
            "marker": {
             "colorbar": {
              "outlinewidth": 0,
              "ticks": ""
             }
            },
            "type": "scattermapbox"
           }
          ],
          "scatterpolar": [
           {
            "marker": {
             "colorbar": {
              "outlinewidth": 0,
              "ticks": ""
             }
            },
            "type": "scatterpolar"
           }
          ],
          "scatterpolargl": [
           {
            "marker": {
             "colorbar": {
              "outlinewidth": 0,
              "ticks": ""
             }
            },
            "type": "scatterpolargl"
           }
          ],
          "scatterternary": [
           {
            "marker": {
             "colorbar": {
              "outlinewidth": 0,
              "ticks": ""
             }
            },
            "type": "scatterternary"
           }
          ],
          "surface": [
           {
            "colorbar": {
             "outlinewidth": 0,
             "ticks": ""
            },
            "colorscale": [
             [
              0,
              "#0d0887"
             ],
             [
              0.1111111111111111,
              "#46039f"
             ],
             [
              0.2222222222222222,
              "#7201a8"
             ],
             [
              0.3333333333333333,
              "#9c179e"
             ],
             [
              0.4444444444444444,
              "#bd3786"
             ],
             [
              0.5555555555555556,
              "#d8576b"
             ],
             [
              0.6666666666666666,
              "#ed7953"
             ],
             [
              0.7777777777777778,
              "#fb9f3a"
             ],
             [
              0.8888888888888888,
              "#fdca26"
             ],
             [
              1,
              "#f0f921"
             ]
            ],
            "type": "surface"
           }
          ],
          "table": [
           {
            "cells": {
             "fill": {
              "color": "#EBF0F8"
             },
             "line": {
              "color": "white"
             }
            },
            "header": {
             "fill": {
              "color": "#C8D4E3"
             },
             "line": {
              "color": "white"
             }
            },
            "type": "table"
           }
          ]
         },
         "layout": {
          "annotationdefaults": {
           "arrowcolor": "#2a3f5f",
           "arrowhead": 0,
           "arrowwidth": 1
          },
          "autotypenumbers": "strict",
          "coloraxis": {
           "colorbar": {
            "outlinewidth": 0,
            "ticks": ""
           }
          },
          "colorscale": {
           "diverging": [
            [
             0,
             "#8e0152"
            ],
            [
             0.1,
             "#c51b7d"
            ],
            [
             0.2,
             "#de77ae"
            ],
            [
             0.3,
             "#f1b6da"
            ],
            [
             0.4,
             "#fde0ef"
            ],
            [
             0.5,
             "#f7f7f7"
            ],
            [
             0.6,
             "#e6f5d0"
            ],
            [
             0.7,
             "#b8e186"
            ],
            [
             0.8,
             "#7fbc41"
            ],
            [
             0.9,
             "#4d9221"
            ],
            [
             1,
             "#276419"
            ]
           ],
           "sequential": [
            [
             0,
             "#0d0887"
            ],
            [
             0.1111111111111111,
             "#46039f"
            ],
            [
             0.2222222222222222,
             "#7201a8"
            ],
            [
             0.3333333333333333,
             "#9c179e"
            ],
            [
             0.4444444444444444,
             "#bd3786"
            ],
            [
             0.5555555555555556,
             "#d8576b"
            ],
            [
             0.6666666666666666,
             "#ed7953"
            ],
            [
             0.7777777777777778,
             "#fb9f3a"
            ],
            [
             0.8888888888888888,
             "#fdca26"
            ],
            [
             1,
             "#f0f921"
            ]
           ],
           "sequentialminus": [
            [
             0,
             "#0d0887"
            ],
            [
             0.1111111111111111,
             "#46039f"
            ],
            [
             0.2222222222222222,
             "#7201a8"
            ],
            [
             0.3333333333333333,
             "#9c179e"
            ],
            [
             0.4444444444444444,
             "#bd3786"
            ],
            [
             0.5555555555555556,
             "#d8576b"
            ],
            [
             0.6666666666666666,
             "#ed7953"
            ],
            [
             0.7777777777777778,
             "#fb9f3a"
            ],
            [
             0.8888888888888888,
             "#fdca26"
            ],
            [
             1,
             "#f0f921"
            ]
           ]
          },
          "colorway": [
           "#636efa",
           "#EF553B",
           "#00cc96",
           "#ab63fa",
           "#FFA15A",
           "#19d3f3",
           "#FF6692",
           "#B6E880",
           "#FF97FF",
           "#FECB52"
          ],
          "font": {
           "color": "#2a3f5f"
          },
          "geo": {
           "bgcolor": "white",
           "lakecolor": "white",
           "landcolor": "#E5ECF6",
           "showlakes": true,
           "showland": true,
           "subunitcolor": "white"
          },
          "hoverlabel": {
           "align": "left"
          },
          "hovermode": "closest",
          "mapbox": {
           "style": "light"
          },
          "paper_bgcolor": "white",
          "plot_bgcolor": "#E5ECF6",
          "polar": {
           "angularaxis": {
            "gridcolor": "white",
            "linecolor": "white",
            "ticks": ""
           },
           "bgcolor": "#E5ECF6",
           "radialaxis": {
            "gridcolor": "white",
            "linecolor": "white",
            "ticks": ""
           }
          },
          "scene": {
           "xaxis": {
            "backgroundcolor": "#E5ECF6",
            "gridcolor": "white",
            "gridwidth": 2,
            "linecolor": "white",
            "showbackground": true,
            "ticks": "",
            "zerolinecolor": "white"
           },
           "yaxis": {
            "backgroundcolor": "#E5ECF6",
            "gridcolor": "white",
            "gridwidth": 2,
            "linecolor": "white",
            "showbackground": true,
            "ticks": "",
            "zerolinecolor": "white"
           },
           "zaxis": {
            "backgroundcolor": "#E5ECF6",
            "gridcolor": "white",
            "gridwidth": 2,
            "linecolor": "white",
            "showbackground": true,
            "ticks": "",
            "zerolinecolor": "white"
           }
          },
          "shapedefaults": {
           "line": {
            "color": "#2a3f5f"
           }
          },
          "ternary": {
           "aaxis": {
            "gridcolor": "white",
            "linecolor": "white",
            "ticks": ""
           },
           "baxis": {
            "gridcolor": "white",
            "linecolor": "white",
            "ticks": ""
           },
           "bgcolor": "#E5ECF6",
           "caxis": {
            "gridcolor": "white",
            "linecolor": "white",
            "ticks": ""
           }
          },
          "title": {
           "x": 0.05
          },
          "xaxis": {
           "automargin": true,
           "gridcolor": "white",
           "linecolor": "white",
           "ticks": "",
           "title": {
            "standoff": 15
           },
           "zerolinecolor": "white",
           "zerolinewidth": 2
          },
          "yaxis": {
           "automargin": true,
           "gridcolor": "white",
           "linecolor": "white",
           "ticks": "",
           "title": {
            "standoff": 15
           },
           "zerolinecolor": "white",
           "zerolinewidth": 2
          }
         }
        },
        "title": {
         "text": "World Internet Usage across Regions over the Years"
        },
        "updatemenus": [
         {
          "buttons": [
           {
            "args": [
             null,
             {
              "frame": {
               "duration": 1000,
               "redraw": true
              },
              "mode": "immediate",
              "transition": {
               "duration": 100
              }
             }
            ],
            "label": "Play",
            "method": "animate"
           },
           {
            "args": [
             [
              null
             ],
             {
              "frame": {
               "duration": 0,
               "redraw": true
              },
              "mode": "immediate",
              "transition": {
               "duration": 0
              }
             }
            ],
            "label": "Pause",
            "method": "animate"
           }
          ],
          "direction": "left",
          "pad": {
           "r": 10,
           "t": 87
          },
          "showactive": false,
          "type": "buttons",
          "x": 0.1,
          "xanchor": "right",
          "y": 0,
          "yanchor": "top"
         }
        ],
        "width": 1000
       }
      }
     },
     "metadata": {},
     "output_type": "display_data"
    }
   ],
   "source": [
    "\n",
    "# Create the choropleth map with animation  \n",
    "fig = px.choropleth(  \n",
    "    country_internet_usage,   \n",
    "    locations=\"Region_Country_Area\",   \n",
    "    locationmode='country names',   \n",
    "    color=\"internet_usage(%)\",  \n",
    "    hover_name=\"Region_Country_Area\",   \n",
    "    animation_frame=\"Year\",     \n",
    "    title='World Internet Usage across Regions over the Years',  \n",
    "    color_continuous_scale=px.colors.sequential.Plasma,  \n",
    "    width=1000,   \n",
    "    height=600,  \n",
    "    projection='natural earth'  \n",
    ")  \n",
    "\n",
    "# Update layout to set animation speed  \n",
    "fig.update_layout(  \n",
    "    updatemenus=[{  \n",
    "        'buttons': [  \n",
    "            {  \n",
    "                'args': [None, {'frame': {'duration': 1000, 'redraw': True}, 'mode': 'immediate', 'transition': {'duration': 100}}],  \n",
    "                'label': 'Play',  \n",
    "                'method': 'animate'  \n",
    "            },  \n",
    "            {  \n",
    "                'args': [[None], {'frame': {'duration': 0, 'redraw': True}, 'mode': 'immediate', 'transition': {'duration': 0}}],  \n",
    "                'label': 'Pause',  \n",
    "                'method': 'animate'  \n",
    "            }  \n",
    "        ],  \n",
    "        'direction': 'left',  \n",
    "        'pad': {'r': 10, 't': 87},  \n",
    "        'showactive': False,  \n",
    "        'type': 'buttons',  \n",
    "        'x': 0.1,  \n",
    "        'xanchor': 'right',  \n",
    "        'y': 0,  \n",
    "        'yanchor': 'top'  \n",
    "    }]  \n",
    ")  \n",
    "\n",
    "# Show the figure  \n",
    "fig.show()"
   ]
  },
  {
   "cell_type": "code",
   "execution_count": null,
   "metadata": {},
   "outputs": [],
   "source": []
  }
 ],
 "metadata": {
  "kernelspec": {
   "display_name": "base",
   "language": "python",
   "name": "python3"
  },
  "language_info": {
   "codemirror_mode": {
    "name": "ipython",
    "version": 3
   },
   "file_extension": ".py",
   "mimetype": "text/x-python",
   "name": "python",
   "nbconvert_exporter": "python",
   "pygments_lexer": "ipython3",
   "version": "3.12.4"
  }
 },
 "nbformat": 4,
 "nbformat_minor": 2
}
