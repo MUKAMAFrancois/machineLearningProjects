{
 "cells": [
  {
   "cell_type": "code",
   "execution_count": 1,
   "id": "a97dfc37",
   "metadata": {
    "execution": {
     "iopub.execute_input": "2024-11-04T21:39:50.173328Z",
     "iopub.status.busy": "2024-11-04T21:39:50.172049Z",
     "iopub.status.idle": "2024-11-04T21:39:54.810326Z",
     "shell.execute_reply": "2024-11-04T21:39:54.809070Z"
    },
    "papermill": {
     "duration": 4.655732,
     "end_time": "2024-11-04T21:39:54.813106",
     "exception": false,
     "start_time": "2024-11-04T21:39:50.157374",
     "status": "completed"
    },
    "tags": []
   },
   "outputs": [],
   "source": [
    "# import important libraries\n",
    "\n",
    "import pandas as pd\n",
    "import numpy as np\n",
    "import plotly.express as px\n",
    "import seaborn as sns\n",
    "import matplotlib.pyplot as plt\n",
    "from sklearn.preprocessing import OneHotEncoder\n",
    "from sklearn.ensemble import RandomForestClassifier, GradientBoostingClassifier\n",
    "from sklearn.tree import DecisionTreeClassifier,plot_tree\n",
    "from sklearn.model_selection import GridSearchCV\n",
    "from sklearn.preprocessing import StandardScaler\n",
    "from sklearn.naive_bayes import GaussianNB\n",
    "from sklearn.model_selection import train_test_split\n",
    "from sklearn.svm import SVC\n",
    "from sklearn.neighbors import KNeighborsClassifier\n",
    "from sklearn.linear_model import LogisticRegression\n",
    "from sklearn.metrics import accuracy_score, classification_report, confusion_matrix\n",
    "\n",
    "import warnings\n",
    "warnings.filterwarnings('ignore')"
   ]
  },
  {
   "cell_type": "code",
   "execution_count": 2,
   "id": "da93c98a",
   "metadata": {
    "execution": {
     "iopub.execute_input": "2024-11-04T21:39:54.844312Z",
     "iopub.status.busy": "2024-11-04T21:39:54.843271Z",
     "iopub.status.idle": "2024-11-04T21:39:54.913472Z",
     "shell.execute_reply": "2024-11-04T21:39:54.911149Z"
    },
    "papermill": {
     "duration": 0.091544,
     "end_time": "2024-11-04T21:39:54.917007",
     "exception": false,
     "start_time": "2024-11-04T21:39:54.825463",
     "status": "completed"
    },
    "tags": []
   },
   "outputs": [
    {
     "data": {
      "text/html": [
       "<div>\n",
       "<style scoped>\n",
       "    .dataframe tbody tr th:only-of-type {\n",
       "        vertical-align: middle;\n",
       "    }\n",
       "\n",
       "    .dataframe tbody tr th {\n",
       "        vertical-align: top;\n",
       "    }\n",
       "\n",
       "    .dataframe thead th {\n",
       "        text-align: right;\n",
       "    }\n",
       "</style>\n",
       "<table border=\"1\" class=\"dataframe\">\n",
       "  <thead>\n",
       "    <tr style=\"text-align: right;\">\n",
       "      <th></th>\n",
       "      <th>PassengerId</th>\n",
       "      <th>Survived</th>\n",
       "      <th>Pclass</th>\n",
       "      <th>Name</th>\n",
       "      <th>Sex</th>\n",
       "      <th>Age</th>\n",
       "      <th>SibSp</th>\n",
       "      <th>Parch</th>\n",
       "      <th>Ticket</th>\n",
       "      <th>Fare</th>\n",
       "      <th>Cabin</th>\n",
       "      <th>Embarked</th>\n",
       "    </tr>\n",
       "  </thead>\n",
       "  <tbody>\n",
       "    <tr>\n",
       "      <th>0</th>\n",
       "      <td>1</td>\n",
       "      <td>0</td>\n",
       "      <td>3</td>\n",
       "      <td>Braund, Mr. Owen Harris</td>\n",
       "      <td>male</td>\n",
       "      <td>22.0</td>\n",
       "      <td>1</td>\n",
       "      <td>0</td>\n",
       "      <td>A/5 21171</td>\n",
       "      <td>7.2500</td>\n",
       "      <td>NaN</td>\n",
       "      <td>S</td>\n",
       "    </tr>\n",
       "    <tr>\n",
       "      <th>1</th>\n",
       "      <td>2</td>\n",
       "      <td>1</td>\n",
       "      <td>1</td>\n",
       "      <td>Cumings, Mrs. John Bradley (Florence Briggs Th...</td>\n",
       "      <td>female</td>\n",
       "      <td>38.0</td>\n",
       "      <td>1</td>\n",
       "      <td>0</td>\n",
       "      <td>PC 17599</td>\n",
       "      <td>71.2833</td>\n",
       "      <td>C85</td>\n",
       "      <td>C</td>\n",
       "    </tr>\n",
       "    <tr>\n",
       "      <th>2</th>\n",
       "      <td>3</td>\n",
       "      <td>1</td>\n",
       "      <td>3</td>\n",
       "      <td>Heikkinen, Miss. Laina</td>\n",
       "      <td>female</td>\n",
       "      <td>26.0</td>\n",
       "      <td>0</td>\n",
       "      <td>0</td>\n",
       "      <td>STON/O2. 3101282</td>\n",
       "      <td>7.9250</td>\n",
       "      <td>NaN</td>\n",
       "      <td>S</td>\n",
       "    </tr>\n",
       "    <tr>\n",
       "      <th>3</th>\n",
       "      <td>4</td>\n",
       "      <td>1</td>\n",
       "      <td>1</td>\n",
       "      <td>Futrelle, Mrs. Jacques Heath (Lily May Peel)</td>\n",
       "      <td>female</td>\n",
       "      <td>35.0</td>\n",
       "      <td>1</td>\n",
       "      <td>0</td>\n",
       "      <td>113803</td>\n",
       "      <td>53.1000</td>\n",
       "      <td>C123</td>\n",
       "      <td>S</td>\n",
       "    </tr>\n",
       "    <tr>\n",
       "      <th>4</th>\n",
       "      <td>5</td>\n",
       "      <td>0</td>\n",
       "      <td>3</td>\n",
       "      <td>Allen, Mr. William Henry</td>\n",
       "      <td>male</td>\n",
       "      <td>35.0</td>\n",
       "      <td>0</td>\n",
       "      <td>0</td>\n",
       "      <td>373450</td>\n",
       "      <td>8.0500</td>\n",
       "      <td>NaN</td>\n",
       "      <td>S</td>\n",
       "    </tr>\n",
       "  </tbody>\n",
       "</table>\n",
       "</div>"
      ],
      "text/plain": [
       "   PassengerId  Survived  Pclass  \\\n",
       "0            1         0       3   \n",
       "1            2         1       1   \n",
       "2            3         1       3   \n",
       "3            4         1       1   \n",
       "4            5         0       3   \n",
       "\n",
       "                                                Name     Sex   Age  SibSp  \\\n",
       "0                            Braund, Mr. Owen Harris    male  22.0      1   \n",
       "1  Cumings, Mrs. John Bradley (Florence Briggs Th...  female  38.0      1   \n",
       "2                             Heikkinen, Miss. Laina  female  26.0      0   \n",
       "3       Futrelle, Mrs. Jacques Heath (Lily May Peel)  female  35.0      1   \n",
       "4                           Allen, Mr. William Henry    male  35.0      0   \n",
       "\n",
       "   Parch            Ticket     Fare Cabin Embarked  \n",
       "0      0         A/5 21171   7.2500   NaN        S  \n",
       "1      0          PC 17599  71.2833   C85        C  \n",
       "2      0  STON/O2. 3101282   7.9250   NaN        S  \n",
       "3      0            113803  53.1000  C123        S  \n",
       "4      0            373450   8.0500   NaN        S  "
      ]
     },
     "execution_count": 2,
     "metadata": {},
     "output_type": "execute_result"
    }
   ],
   "source": [
    "# load the dataset\n",
    "\n",
    "training_df_titanic = pd.read_csv('/kaggle/input/datasets-titanic-mukama/train.csv')\n",
    "\n",
    "training_df_titanic.head()"
   ]
  },
  {
   "cell_type": "code",
   "execution_count": 3,
   "id": "a7fba387",
   "metadata": {
    "execution": {
     "iopub.execute_input": "2024-11-04T21:39:54.957263Z",
     "iopub.status.busy": "2024-11-04T21:39:54.955152Z",
     "iopub.status.idle": "2024-11-04T21:39:54.985466Z",
     "shell.execute_reply": "2024-11-04T21:39:54.984311Z"
    },
    "papermill": {
     "duration": 0.05269,
     "end_time": "2024-11-04T21:39:54.988135",
     "exception": false,
     "start_time": "2024-11-04T21:39:54.935445",
     "status": "completed"
    },
    "tags": []
   },
   "outputs": [
    {
     "data": {
      "text/html": [
       "<div>\n",
       "<style scoped>\n",
       "    .dataframe tbody tr th:only-of-type {\n",
       "        vertical-align: middle;\n",
       "    }\n",
       "\n",
       "    .dataframe tbody tr th {\n",
       "        vertical-align: top;\n",
       "    }\n",
       "\n",
       "    .dataframe thead th {\n",
       "        text-align: right;\n",
       "    }\n",
       "</style>\n",
       "<table border=\"1\" class=\"dataframe\">\n",
       "  <thead>\n",
       "    <tr style=\"text-align: right;\">\n",
       "      <th></th>\n",
       "      <th>PassengerId</th>\n",
       "      <th>Pclass</th>\n",
       "      <th>Name</th>\n",
       "      <th>Sex</th>\n",
       "      <th>Age</th>\n",
       "      <th>SibSp</th>\n",
       "      <th>Parch</th>\n",
       "      <th>Ticket</th>\n",
       "      <th>Fare</th>\n",
       "      <th>Cabin</th>\n",
       "      <th>Embarked</th>\n",
       "    </tr>\n",
       "  </thead>\n",
       "  <tbody>\n",
       "    <tr>\n",
       "      <th>0</th>\n",
       "      <td>892</td>\n",
       "      <td>3</td>\n",
       "      <td>Kelly, Mr. James</td>\n",
       "      <td>male</td>\n",
       "      <td>34.5</td>\n",
       "      <td>0</td>\n",
       "      <td>0</td>\n",
       "      <td>330911</td>\n",
       "      <td>7.8292</td>\n",
       "      <td>NaN</td>\n",
       "      <td>Q</td>\n",
       "    </tr>\n",
       "    <tr>\n",
       "      <th>1</th>\n",
       "      <td>893</td>\n",
       "      <td>3</td>\n",
       "      <td>Wilkes, Mrs. James (Ellen Needs)</td>\n",
       "      <td>female</td>\n",
       "      <td>47.0</td>\n",
       "      <td>1</td>\n",
       "      <td>0</td>\n",
       "      <td>363272</td>\n",
       "      <td>7.0000</td>\n",
       "      <td>NaN</td>\n",
       "      <td>S</td>\n",
       "    </tr>\n",
       "    <tr>\n",
       "      <th>2</th>\n",
       "      <td>894</td>\n",
       "      <td>2</td>\n",
       "      <td>Myles, Mr. Thomas Francis</td>\n",
       "      <td>male</td>\n",
       "      <td>62.0</td>\n",
       "      <td>0</td>\n",
       "      <td>0</td>\n",
       "      <td>240276</td>\n",
       "      <td>9.6875</td>\n",
       "      <td>NaN</td>\n",
       "      <td>Q</td>\n",
       "    </tr>\n",
       "    <tr>\n",
       "      <th>3</th>\n",
       "      <td>895</td>\n",
       "      <td>3</td>\n",
       "      <td>Wirz, Mr. Albert</td>\n",
       "      <td>male</td>\n",
       "      <td>27.0</td>\n",
       "      <td>0</td>\n",
       "      <td>0</td>\n",
       "      <td>315154</td>\n",
       "      <td>8.6625</td>\n",
       "      <td>NaN</td>\n",
       "      <td>S</td>\n",
       "    </tr>\n",
       "    <tr>\n",
       "      <th>4</th>\n",
       "      <td>896</td>\n",
       "      <td>3</td>\n",
       "      <td>Hirvonen, Mrs. Alexander (Helga E Lindqvist)</td>\n",
       "      <td>female</td>\n",
       "      <td>22.0</td>\n",
       "      <td>1</td>\n",
       "      <td>1</td>\n",
       "      <td>3101298</td>\n",
       "      <td>12.2875</td>\n",
       "      <td>NaN</td>\n",
       "      <td>S</td>\n",
       "    </tr>\n",
       "  </tbody>\n",
       "</table>\n",
       "</div>"
      ],
      "text/plain": [
       "   PassengerId  Pclass                                          Name     Sex  \\\n",
       "0          892       3                              Kelly, Mr. James    male   \n",
       "1          893       3              Wilkes, Mrs. James (Ellen Needs)  female   \n",
       "2          894       2                     Myles, Mr. Thomas Francis    male   \n",
       "3          895       3                              Wirz, Mr. Albert    male   \n",
       "4          896       3  Hirvonen, Mrs. Alexander (Helga E Lindqvist)  female   \n",
       "\n",
       "    Age  SibSp  Parch   Ticket     Fare Cabin Embarked  \n",
       "0  34.5      0      0   330911   7.8292   NaN        Q  \n",
       "1  47.0      1      0   363272   7.0000   NaN        S  \n",
       "2  62.0      0      0   240276   9.6875   NaN        Q  \n",
       "3  27.0      0      0   315154   8.6625   NaN        S  \n",
       "4  22.0      1      1  3101298  12.2875   NaN        S  "
      ]
     },
     "execution_count": 3,
     "metadata": {},
     "output_type": "execute_result"
    }
   ],
   "source": [
    "# test data\n",
    "test_df_titanic = pd.read_csv('/kaggle/input/datasets-titanic-mukama/test.csv')\n",
    "test_df_titanic.head()"
   ]
  },
  {
   "cell_type": "markdown",
   "id": "235239b4",
   "metadata": {
    "papermill": {
     "duration": 0.011758,
     "end_time": "2024-11-04T21:39:55.012756",
     "exception": false,
     "start_time": "2024-11-04T21:39:55.000998",
     "status": "completed"
    },
    "tags": []
   },
   "source": [
    "# 1. About the dataset"
   ]
  },
  {
   "cell_type": "code",
   "execution_count": 4,
   "id": "c30d1f52",
   "metadata": {
    "execution": {
     "iopub.execute_input": "2024-11-04T21:39:55.044131Z",
     "iopub.status.busy": "2024-11-04T21:39:55.043670Z",
     "iopub.status.idle": "2024-11-04T21:39:55.049660Z",
     "shell.execute_reply": "2024-11-04T21:39:55.048364Z"
    },
    "papermill": {
     "duration": 0.023815,
     "end_time": "2024-11-04T21:39:55.052332",
     "exception": false,
     "start_time": "2024-11-04T21:39:55.028517",
     "status": "completed"
    },
    "tags": []
   },
   "outputs": [],
   "source": [
    "# key info about dataset\n",
    "\n",
    "\n",
    "# survival\tSurvival\t0 = No, 1 = Yes\n",
    "# pclass\tTicket class\t1 = 1st(Upper), 2 = 2nd(Middle), 3 = 3rd(Lower)\n",
    "# sex\tSex\n",
    "# Age\tAge in years\n",
    "# sibsp\tNo. of siblings / spouses aboard the Titanic\n",
    "# parch\tNo. of parents / children aboard the Titanic\n",
    "# ticket\tTicket number\n",
    "# fare\tPassenger fare\n",
    "# cabin\tCabin number\n",
    "# embarked\tPort of Embarkation\tC = Cherbourg, Q = Queenstown, S = Southampton"
   ]
  },
  {
   "cell_type": "code",
   "execution_count": 5,
   "id": "95f24d5d",
   "metadata": {
    "execution": {
     "iopub.execute_input": "2024-11-04T21:39:55.080110Z",
     "iopub.status.busy": "2024-11-04T21:39:55.079097Z",
     "iopub.status.idle": "2024-11-04T21:39:55.086499Z",
     "shell.execute_reply": "2024-11-04T21:39:55.085040Z"
    },
    "papermill": {
     "duration": 0.023571,
     "end_time": "2024-11-04T21:39:55.089114",
     "exception": false,
     "start_time": "2024-11-04T21:39:55.065543",
     "status": "completed"
    },
    "tags": []
   },
   "outputs": [
    {
     "name": "stdout",
     "output_type": "stream",
     "text": [
      "Shape of training dataset:  (891, 12)\n",
      "Shape of test dataset:  (418, 11)\n"
     ]
    }
   ],
   "source": [
    "# shapes of datasets (train and test)\n",
    "\n",
    "print(\"Shape of training dataset: \", training_df_titanic.shape)\n",
    "print(\"Shape of test dataset: \", test_df_titanic.shape)"
   ]
  },
  {
   "cell_type": "code",
   "execution_count": 6,
   "id": "fcafac89",
   "metadata": {
    "execution": {
     "iopub.execute_input": "2024-11-04T21:39:55.117924Z",
     "iopub.status.busy": "2024-11-04T21:39:55.117486Z",
     "iopub.status.idle": "2024-11-04T21:39:55.125358Z",
     "shell.execute_reply": "2024-11-04T21:39:55.123991Z"
    },
    "papermill": {
     "duration": 0.024424,
     "end_time": "2024-11-04T21:39:55.128223",
     "exception": false,
     "start_time": "2024-11-04T21:39:55.103799",
     "status": "completed"
    },
    "tags": []
   },
   "outputs": [
    {
     "name": "stdout",
     "output_type": "stream",
     "text": [
      "Data types of the columns in training dataset: \n",
      "===============================================\n",
      " PassengerId      int64\n",
      "Survived         int64\n",
      "Pclass           int64\n",
      "Name            object\n",
      "Sex             object\n",
      "Age            float64\n",
      "SibSp            int64\n",
      "Parch            int64\n",
      "Ticket          object\n",
      "Fare           float64\n",
      "Cabin           object\n",
      "Embarked        object\n",
      "dtype: object\n"
     ]
    }
   ],
   "source": [
    "# Data types of the trainig dataset columns\n",
    "\n",
    "print(\"Data types of the columns in training dataset: \\n===============================================\\n\", training_df_titanic.dtypes)"
   ]
  },
  {
   "cell_type": "code",
   "execution_count": 7,
   "id": "07bc9691",
   "metadata": {
    "execution": {
     "iopub.execute_input": "2024-11-04T21:39:55.154751Z",
     "iopub.status.busy": "2024-11-04T21:39:55.154333Z",
     "iopub.status.idle": "2024-11-04T21:39:55.161850Z",
     "shell.execute_reply": "2024-11-04T21:39:55.160629Z"
    },
    "papermill": {
     "duration": 0.023772,
     "end_time": "2024-11-04T21:39:55.164471",
     "exception": false,
     "start_time": "2024-11-04T21:39:55.140699",
     "status": "completed"
    },
    "tags": []
   },
   "outputs": [
    {
     "name": "stdout",
     "output_type": "stream",
     "text": [
      "Data types of the columns in test dataset: \n",
      "===============================================\n",
      " PassengerId      int64\n",
      "Pclass           int64\n",
      "Name            object\n",
      "Sex             object\n",
      "Age            float64\n",
      "SibSp            int64\n",
      "Parch            int64\n",
      "Ticket          object\n",
      "Fare           float64\n",
      "Cabin           object\n",
      "Embarked        object\n",
      "dtype: object\n"
     ]
    }
   ],
   "source": [
    "# Data types of the test dataset columns\n",
    "\n",
    "print(\"Data types of the columns in test dataset: \\n===============================================\\n\", test_df_titanic.dtypes)"
   ]
  },
  {
   "cell_type": "markdown",
   "id": "d74b2472",
   "metadata": {
    "papermill": {
     "duration": 0.012378,
     "end_time": "2024-11-04T21:39:55.189315",
     "exception": false,
     "start_time": "2024-11-04T21:39:55.176937",
     "status": "completed"
    },
    "tags": []
   },
   "source": [
    "# 2. Identifying the missing Data"
   ]
  },
  {
   "cell_type": "code",
   "execution_count": 8,
   "id": "3dfc5574",
   "metadata": {
    "execution": {
     "iopub.execute_input": "2024-11-04T21:39:55.217063Z",
     "iopub.status.busy": "2024-11-04T21:39:55.216414Z",
     "iopub.status.idle": "2024-11-04T21:39:55.228924Z",
     "shell.execute_reply": "2024-11-04T21:39:55.227634Z"
    },
    "papermill": {
     "duration": 0.030166,
     "end_time": "2024-11-04T21:39:55.231716",
     "exception": false,
     "start_time": "2024-11-04T21:39:55.201550",
     "status": "completed"
    },
    "tags": []
   },
   "outputs": [
    {
     "name": "stdout",
     "output_type": "stream",
     "text": [
      "Missing values in training dataset: \n",
      "=================================================\n",
      " Age         177\n",
      "Cabin       687\n",
      "Embarked      2\n",
      "dtype: int64\n"
     ]
    }
   ],
   "source": [
    "# Training dataset Missing values\n",
    "\n",
    "training_missing_values = training_df_titanic.isnull().sum()\n",
    "training_missing_values = training_missing_values[training_missing_values > 0]\n",
    "print(\"Missing values in training dataset: \\n=================================================\\n\", training_missing_values)\n"
   ]
  },
  {
   "cell_type": "code",
   "execution_count": 9,
   "id": "8990c512",
   "metadata": {
    "execution": {
     "iopub.execute_input": "2024-11-04T21:39:55.258744Z",
     "iopub.status.busy": "2024-11-04T21:39:55.258238Z",
     "iopub.status.idle": "2024-11-04T21:39:55.267602Z",
     "shell.execute_reply": "2024-11-04T21:39:55.266331Z"
    },
    "papermill": {
     "duration": 0.027864,
     "end_time": "2024-11-04T21:39:55.272155",
     "exception": false,
     "start_time": "2024-11-04T21:39:55.244291",
     "status": "completed"
    },
    "tags": []
   },
   "outputs": [
    {
     "name": "stdout",
     "output_type": "stream",
     "text": [
      "Missing values in testing dataset: \n",
      "=================================================\n",
      " Age       86\n",
      "Fare       1\n",
      "Cabin    327\n",
      "dtype: int64\n"
     ]
    }
   ],
   "source": [
    "# Testing dataset Missing values\n",
    "\n",
    "testing_missing_values = test_df_titanic.isnull().sum()\n",
    "testing_missing_values = testing_missing_values[testing_missing_values > 0]\n",
    "print(\"Missing values in testing dataset: \\n=================================================\\n\", testing_missing_values)"
   ]
  },
  {
   "cell_type": "markdown",
   "id": "ffd214c2",
   "metadata": {
    "papermill": {
     "duration": 0.012718,
     "end_time": "2024-11-04T21:39:55.298186",
     "exception": false,
     "start_time": "2024-11-04T21:39:55.285468",
     "status": "completed"
    },
    "tags": []
   },
   "source": [
    "# 3. Handling Missing Values"
   ]
  },
  {
   "cell_type": "markdown",
   "id": "080d7f77",
   "metadata": {
    "papermill": {
     "duration": 0.012124,
     "end_time": "2024-11-04T21:39:55.322760",
     "exception": false,
     "start_time": "2024-11-04T21:39:55.310636",
     "status": "completed"
    },
    "tags": []
   },
   "source": [
    "## 3.1. Handling Missing Values in Age column"
   ]
  },
  {
   "cell_type": "code",
   "execution_count": 10,
   "id": "95788233",
   "metadata": {
    "execution": {
     "iopub.execute_input": "2024-11-04T21:39:55.349762Z",
     "iopub.status.busy": "2024-11-04T21:39:55.349291Z",
     "iopub.status.idle": "2024-11-04T21:39:57.707132Z",
     "shell.execute_reply": "2024-11-04T21:39:57.705950Z"
    },
    "papermill": {
     "duration": 2.374705,
     "end_time": "2024-11-04T21:39:57.710155",
     "exception": false,
     "start_time": "2024-11-04T21:39:55.335450",
     "status": "completed"
    },
    "tags": []
   },
   "outputs": [
    {
     "data": {
      "text/html": [
       "<iframe\n",
       "    scrolling=\"no\"\n",
       "    width=\"100%\"\n",
       "    height=\"545px\"\n",
       "    src=\"iframe_figures/figure_10.html\"\n",
       "    frameborder=\"0\"\n",
       "    allowfullscreen\n",
       "></iframe>\n"
      ]
     },
     "metadata": {},
     "output_type": "display_data"
    }
   ],
   "source": [
    "import plotly.express as px\n",
    "\n",
    "# Distribution of Age using Plotly\n",
    "fig = px.histogram(training_df_titanic, x='Age', marginal='box', nbins=50, title='Distribution of Age in Training dataset')\n",
    "\n",
    "# Display figure specifically for Kaggle\n",
    "fig.show(renderer=\"iframe_connected\")\n"
   ]
  },
  {
   "cell_type": "code",
   "execution_count": 11,
   "id": "d8770fbe",
   "metadata": {
    "execution": {
     "iopub.execute_input": "2024-11-04T21:39:57.737565Z",
     "iopub.status.busy": "2024-11-04T21:39:57.737093Z",
     "iopub.status.idle": "2024-11-04T21:39:57.834077Z",
     "shell.execute_reply": "2024-11-04T21:39:57.832968Z"
    },
    "papermill": {
     "duration": 0.113564,
     "end_time": "2024-11-04T21:39:57.836623",
     "exception": false,
     "start_time": "2024-11-04T21:39:57.723059",
     "status": "completed"
    },
    "tags": []
   },
   "outputs": [
    {
     "data": {
      "text/html": [
       "<iframe\n",
       "    scrolling=\"no\"\n",
       "    width=\"100%\"\n",
       "    height=\"545px\"\n",
       "    src=\"iframe_figures/figure_11.html\"\n",
       "    frameborder=\"0\"\n",
       "    allowfullscreen\n",
       "></iframe>\n"
      ]
     },
     "metadata": {},
     "output_type": "display_data"
    }
   ],
   "source": [
    "fig = px.histogram(test_df_titanic, x='Age', marginal='box', nbins=50, title='Distribution of Age in Test Dataset')\n",
    "fig.show(renderer=\"iframe_connected\")"
   ]
  },
  {
   "cell_type": "code",
   "execution_count": 12,
   "id": "16fe0b4e",
   "metadata": {
    "execution": {
     "iopub.execute_input": "2024-11-04T21:39:57.864142Z",
     "iopub.status.busy": "2024-11-04T21:39:57.863658Z",
     "iopub.status.idle": "2024-11-04T21:39:58.184379Z",
     "shell.execute_reply": "2024-11-04T21:39:58.182992Z"
    },
    "papermill": {
     "duration": 0.337635,
     "end_time": "2024-11-04T21:39:58.187190",
     "exception": false,
     "start_time": "2024-11-04T21:39:57.849555",
     "status": "completed"
    },
    "tags": []
   },
   "outputs": [
    {
     "data": {
      "image/png": "[encoded data removed]",
      "text/plain": [
       "<Figure size 640x480 with 1 Axes>"
      ]
     },
     "metadata": {},
     "output_type": "display_data"
    }
   ],
   "source": [
    "# count plot of the males and females\n",
    "sns.countplot(x='Sex', data=training_df_titanic)\n",
    "plt.title('Count of Males and Females in Training Dataset')\n",
    "plt.show()"
   ]
  },
  {
   "cell_type": "code",
   "execution_count": 13,
   "id": "6af866ec",
   "metadata": {
    "execution": {
     "iopub.execute_input": "2024-11-04T21:39:58.225311Z",
     "iopub.status.busy": "2024-11-04T21:39:58.224747Z",
     "iopub.status.idle": "2024-11-04T21:39:58.533580Z",
     "shell.execute_reply": "2024-11-04T21:39:58.532369Z"
    },
    "papermill": {
     "duration": 0.336389,
     "end_time": "2024-11-04T21:39:58.537119",
     "exception": false,
     "start_time": "2024-11-04T21:39:58.200730",
     "status": "completed"
    },
    "tags": []
   },
   "outputs": [
    {
     "data": {
      "text/plain": [
       "Text(0.5, 1.0, 'Count of Pclass in Training Dataset')"
      ]
     },
     "execution_count": 13,
     "metadata": {},
     "output_type": "execute_result"
    },
    {
     "data": {
      "image/png": "[encoded data removed]",
      "text/plain": [
       "<Figure size 640x480 with 1 Axes>"
      ]
     },
     "metadata": {},
     "output_type": "display_data"
    }
   ],
   "source": [
    "# count plot for pclass\n",
    "\n",
    "sns.countplot(x='Pclass', data=training_df_titanic)\n",
    "plt.title('Count of Pclass in Training Dataset')\n"
   ]
  },
  {
   "cell_type": "markdown",
   "id": "63f3f950",
   "metadata": {
    "papermill": {
     "duration": 0.013429,
     "end_time": "2024-11-04T21:39:58.568223",
     "exception": false,
     "start_time": "2024-11-04T21:39:58.554794",
     "status": "completed"
    },
    "tags": []
   },
   "source": [
    "- It is now important to fill missing value in Age column by their Median,due to skewness in distribution. \n",
    "- It is also important to fill ages based on gender and class."
   ]
  },
  {
   "cell_type": "code",
   "execution_count": 14,
   "id": "76d01cb9",
   "metadata": {
    "execution": {
     "iopub.execute_input": "2024-11-04T21:39:58.598526Z",
     "iopub.status.busy": "2024-11-04T21:39:58.598064Z",
     "iopub.status.idle": "2024-11-04T21:39:58.648010Z",
     "shell.execute_reply": "2024-11-04T21:39:58.646175Z"
    },
    "papermill": {
     "duration": 0.068982,
     "end_time": "2024-11-04T21:39:58.651099",
     "exception": false,
     "start_time": "2024-11-04T21:39:58.582117",
     "status": "completed"
    },
    "tags": []
   },
   "outputs": [
    {
     "name": "stdout",
     "output_type": "stream",
     "text": [
      "Missing Age values after imputation:\n",
      " 0 0\n"
     ]
    }
   ],
   "source": [
    "# Define function to fill missing Age values based on Pclass and Sex median\n",
    "def impute_age(df):\n",
    "    for pclass in [1, 2, 3]:\n",
    "        for sex in ['male', 'female']:\n",
    "            median_age = df[(df['Pclass'] == pclass) & (df['Sex'] == sex)]['Age'].median()\n",
    "            df.loc[(df['Age'].isnull()) & (df['Pclass'] == pclass) & (df['Sex'] == sex), 'Age'] = median_age\n",
    "\n",
    "# Apply to both train and test sets\n",
    "impute_age(training_df_titanic)\n",
    "impute_age(test_df_titanic)\n",
    "\n",
    "# Verify imputation\n",
    "print(\"Missing Age values after imputation:\\n\", training_df_titanic['Age'].isnull().sum(), test_df_titanic['Age'].isnull().sum())\n"
   ]
  },
  {
   "cell_type": "markdown",
   "id": "03a0a283",
   "metadata": {
    "papermill": {
     "duration": 0.014357,
     "end_time": "2024-11-04T21:39:58.682195",
     "exception": false,
     "start_time": "2024-11-04T21:39:58.667838",
     "status": "completed"
    },
    "tags": []
   },
   "source": [
    "**3.2. Handling Missing Values in Fare and Embarked columns**"
   ]
  },
  {
   "cell_type": "code",
   "execution_count": 15,
   "id": "ca78a2e7",
   "metadata": {
    "execution": {
     "iopub.execute_input": "2024-11-04T21:39:58.712929Z",
     "iopub.status.busy": "2024-11-04T21:39:58.712486Z",
     "iopub.status.idle": "2024-11-04T21:39:58.723461Z",
     "shell.execute_reply": "2024-11-04T21:39:58.722264Z"
    },
    "papermill": {
     "duration": 0.030234,
     "end_time": "2024-11-04T21:39:58.726441",
     "exception": false,
     "start_time": "2024-11-04T21:39:58.696207",
     "status": "completed"
    },
    "tags": []
   },
   "outputs": [
    {
     "data": {
      "text/plain": [
       "Embarked\n",
       "S    644\n",
       "C    168\n",
       "Q     77\n",
       "Name: count, dtype: int64"
      ]
     },
     "execution_count": 15,
     "metadata": {},
     "output_type": "execute_result"
    }
   ],
   "source": [
    "training_df_titanic['Embarked'].value_counts()"
   ]
  },
  {
   "cell_type": "code",
   "execution_count": 16,
   "id": "a8548d98",
   "metadata": {
    "execution": {
     "iopub.execute_input": "2024-11-04T21:39:58.764571Z",
     "iopub.status.busy": "2024-11-04T21:39:58.763581Z",
     "iopub.status.idle": "2024-11-04T21:39:58.772421Z",
     "shell.execute_reply": "2024-11-04T21:39:58.771151Z"
    },
    "papermill": {
     "duration": 0.029033,
     "end_time": "2024-11-04T21:39:58.775088",
     "exception": false,
     "start_time": "2024-11-04T21:39:58.746055",
     "status": "completed"
    },
    "tags": []
   },
   "outputs": [],
   "source": [
    "# let's fill the missing values in Embarked column with the most frequent value\n",
    "training_df_titanic['Embarked'].fillna(training_df_titanic['Embarked'].mode()[0], inplace=True)"
   ]
  },
  {
   "cell_type": "code",
   "execution_count": 17,
   "id": "7f6ad8a5",
   "metadata": {
    "execution": {
     "iopub.execute_input": "2024-11-04T21:39:58.806421Z",
     "iopub.status.busy": "2024-11-04T21:39:58.805832Z",
     "iopub.status.idle": "2024-11-04T21:39:58.903738Z",
     "shell.execute_reply": "2024-11-04T21:39:58.902270Z"
    },
    "papermill": {
     "duration": 0.116471,
     "end_time": "2024-11-04T21:39:58.906703",
     "exception": false,
     "start_time": "2024-11-04T21:39:58.790232",
     "status": "completed"
    },
    "tags": []
   },
   "outputs": [
    {
     "data": {
      "text/html": [
       "<iframe\n",
       "    scrolling=\"no\"\n",
       "    width=\"100%\"\n",
       "    height=\"545px\"\n",
       "    src=\"iframe_figures/figure_17.html\"\n",
       "    frameborder=\"0\"\n",
       "    allowfullscreen\n",
       "></iframe>\n"
      ]
     },
     "metadata": {},
     "output_type": "display_data"
    }
   ],
   "source": [
    "# distribution of 'test_df_titanic['Fare']' using plotly\n",
    "fig = px.histogram(test_df_titanic, x='Fare', marginal='box', nbins=50, title='Distribution of Fare in Test Dataset')\n",
    "fig.show(renderer=\"iframe_connected\")"
   ]
  },
  {
   "cell_type": "code",
   "execution_count": 18,
   "id": "56e9ee23",
   "metadata": {
    "execution": {
     "iopub.execute_input": "2024-11-04T21:39:58.940065Z",
     "iopub.status.busy": "2024-11-04T21:39:58.938756Z",
     "iopub.status.idle": "2024-11-04T21:39:58.946303Z",
     "shell.execute_reply": "2024-11-04T21:39:58.944890Z"
    },
    "papermill": {
     "duration": 0.027217,
     "end_time": "2024-11-04T21:39:58.949612",
     "exception": false,
     "start_time": "2024-11-04T21:39:58.922395",
     "status": "completed"
    },
    "tags": []
   },
   "outputs": [],
   "source": [
    "# handling missing values in Fare column in test dataset\n",
    "test_df_titanic['Fare'].fillna(test_df_titanic['Fare'].median(), inplace=True)"
   ]
  },
  {
   "cell_type": "markdown",
   "id": "1a10467d",
   "metadata": {
    "papermill": {
     "duration": 0.013999,
     "end_time": "2024-11-04T21:39:58.981683",
     "exception": false,
     "start_time": "2024-11-04T21:39:58.967684",
     "status": "completed"
    },
    "tags": []
   },
   "source": [
    "**3.3. Droping unnecessary Columns**"
   ]
  },
  {
   "cell_type": "code",
   "execution_count": 19,
   "id": "8d4b06c0",
   "metadata": {
    "execution": {
     "iopub.execute_input": "2024-11-04T21:39:59.015282Z",
     "iopub.status.busy": "2024-11-04T21:39:59.014272Z",
     "iopub.status.idle": "2024-11-04T21:39:59.025257Z",
     "shell.execute_reply": "2024-11-04T21:39:59.023916Z"
    },
    "papermill": {
     "duration": 0.031764,
     "end_time": "2024-11-04T21:39:59.028707",
     "exception": false,
     "start_time": "2024-11-04T21:39:58.996943",
     "status": "completed"
    },
    "tags": []
   },
   "outputs": [],
   "source": [
    "columns_to_drop = ['PassengerId', 'Name', 'Ticket', 'Cabin']\n",
    "\n",
    "training_df_titanic.drop(columns=columns_to_drop,axis=1, inplace=True)\n",
    "test_df_titanic.drop(columns=columns_to_drop,axis=1, inplace=True)"
   ]
  },
  {
   "cell_type": "markdown",
   "id": "21fe69d9",
   "metadata": {
    "papermill": {
     "duration": 0.015458,
     "end_time": "2024-11-04T21:39:59.064960",
     "exception": false,
     "start_time": "2024-11-04T21:39:59.049502",
     "status": "completed"
    },
    "tags": []
   },
   "source": [
    "# 4. Encoding categorical columns"
   ]
  },
  {
   "cell_type": "code",
   "execution_count": 20,
   "id": "df020bf9",
   "metadata": {
    "execution": {
     "iopub.execute_input": "2024-11-04T21:39:59.098056Z",
     "iopub.status.busy": "2024-11-04T21:39:59.096755Z",
     "iopub.status.idle": "2024-11-04T21:39:59.106861Z",
     "shell.execute_reply": "2024-11-04T21:39:59.105346Z"
    },
    "papermill": {
     "duration": 0.030614,
     "end_time": "2024-11-04T21:39:59.110406",
     "exception": false,
     "start_time": "2024-11-04T21:39:59.079792",
     "status": "completed"
    },
    "tags": []
   },
   "outputs": [],
   "source": [
    "# encoding gender\n",
    "training_df_titanic['Sex'] = training_df_titanic['Sex'].map({'male': 0, 'female': 1})\n",
    "test_df_titanic['Sex'] = test_df_titanic['Sex'].map({'male': 0, 'female': 1})\n"
   ]
  },
  {
   "cell_type": "code",
   "execution_count": 21,
   "id": "a0e93aa2",
   "metadata": {
    "execution": {
     "iopub.execute_input": "2024-11-04T21:39:59.147755Z",
     "iopub.status.busy": "2024-11-04T21:39:59.146811Z",
     "iopub.status.idle": "2024-11-04T21:39:59.165691Z",
     "shell.execute_reply": "2024-11-04T21:39:59.164202Z"
    },
    "papermill": {
     "duration": 0.038757,
     "end_time": "2024-11-04T21:39:59.169220",
     "exception": false,
     "start_time": "2024-11-04T21:39:59.130463",
     "status": "completed"
    },
    "tags": []
   },
   "outputs": [],
   "source": [
    "# encoding Embarked\n",
    "\n",
    "encoder= OneHotEncoder(sparse_output=False,handle_unknown='ignore')\n",
    "\n",
    "training_encoded = pd.DataFrame(encoder.fit_transform(training_df_titanic[['Embarked']]))\n",
    "test_encoded = pd.DataFrame(encoder.transform(test_df_titanic[['Embarked']]))\n",
    "training_encoded.columns = encoder.get_feature_names_out(['Embarked'])\n",
    "test_encoded.columns = encoder.get_feature_names_out(['Embarked'])\n",
    "\n",
    "training_df_titanic.drop(columns=['Embarked'], inplace=True)\n",
    "test_df_titanic.drop(columns=['Embarked'], inplace=True)\n"
   ]
  },
  {
   "cell_type": "code",
   "execution_count": 22,
   "id": "28b2a17a",
   "metadata": {
    "execution": {
     "iopub.execute_input": "2024-11-04T21:39:59.207407Z",
     "iopub.status.busy": "2024-11-04T21:39:59.206501Z",
     "iopub.status.idle": "2024-11-04T21:39:59.215607Z",
     "shell.execute_reply": "2024-11-04T21:39:59.214325Z"
    },
    "papermill": {
     "duration": 0.028574,
     "end_time": "2024-11-04T21:39:59.218412",
     "exception": false,
     "start_time": "2024-11-04T21:39:59.189838",
     "status": "completed"
    },
    "tags": []
   },
   "outputs": [],
   "source": [
    "\n",
    "# concatenate the encoded columns to the training and test datasets\n",
    "training_df_titanic = pd.concat([training_df_titanic, training_encoded], axis=1)\n",
    "test_df_titanic = pd.concat([test_df_titanic, test_encoded], axis=1)"
   ]
  },
  {
   "cell_type": "markdown",
   "id": "62602090",
   "metadata": {
    "papermill": {
     "duration": 0.014925,
     "end_time": "2024-11-04T21:39:59.249412",
     "exception": false,
     "start_time": "2024-11-04T21:39:59.234487",
     "status": "completed"
    },
    "tags": []
   },
   "source": [
    "# 5. Fitting the model(s)"
   ]
  },
  {
   "cell_type": "code",
   "execution_count": 23,
   "id": "c20132d8",
   "metadata": {
    "execution": {
     "iopub.execute_input": "2024-11-04T21:39:59.282719Z",
     "iopub.status.busy": "2024-11-04T21:39:59.282131Z",
     "iopub.status.idle": "2024-11-04T21:40:30.147907Z",
     "shell.execute_reply": "2024-11-04T21:40:30.146142Z"
    },
    "papermill": {
     "duration": 30.886045,
     "end_time": "2024-11-04T21:40:30.150965",
     "exception": false,
     "start_time": "2024-11-04T21:39:59.264920",
     "status": "completed"
    },
    "tags": []
   },
   "outputs": [
    {
     "name": "stdout",
     "output_type": "stream",
     "text": [
      "Training models...\n",
      "\n",
      "Training RandomForest...\n",
      "RandomForest Training Accuracy: 0.9203\n",
      "Best Parameters: {'max_depth': 10, 'min_samples_leaf': 1, 'min_samples_split': 5, 'n_estimators': 100}\n",
      "\n",
      "Training GradientBoosting...\n",
      "GradientBoosting Training Accuracy: 0.9270\n",
      "Best Parameters: {'learning_rate': 0.2, 'max_depth': 3, 'n_estimators': 100}\n",
      "\n",
      "Training DecisionTree...\n",
      "DecisionTree Training Accuracy: 0.9035\n",
      "Best Parameters: {'max_depth': 10, 'min_samples_leaf': 1, 'min_samples_split': 10}\n",
      "\n",
      "Training SVC...\n",
      "SVC Training Accuracy: 0.8451\n",
      "Best Parameters: {'C': 1, 'gamma': 'scale', 'kernel': 'rbf'}\n",
      "\n",
      "Training KNeighbors...\n",
      "KNeighbors Training Accuracy: 0.8474\n",
      "Best Parameters: {'metric': 'manhattan', 'n_neighbors': 7, 'weights': 'uniform'}\n",
      "\n",
      "Training LogisticRegression...\n",
      "LogisticRegression Training Accuracy: 0.8081\n",
      "Best Parameters: {'C': 1, 'penalty': 'l2', 'solver': 'lbfgs'}\n",
      "\n",
      "Training NaiveBayes...\n",
      "NaiveBayes Training Accuracy: 0.7868\n",
      "Best Parameters: {}\n",
      "\n",
      "\n",
      "Best Model: GradientBoosting\n",
      "Train Accuracy: 0.9270\n",
      "Best Parameters: {'learning_rate': 0.2, 'max_depth': 3, 'n_estimators': 100}\n",
      "\n"
     ]
    }
   ],
   "source": [
    "def best_classifier(X, y):\n",
    "    # Scaling the training dataset\n",
    "    scaler = StandardScaler()\n",
    "    X_scaled = scaler.fit_transform(X)\n",
    "    \n",
    "    # Define models with hyperparameter grids\n",
    "    classifiers = {\n",
    "        'RandomForest': (RandomForestClassifier(), {\n",
    "            'n_estimators': [100, 200],\n",
    "            'max_depth': [None, 10, 20],\n",
    "            'min_samples_split': [2, 5],\n",
    "            'min_samples_leaf': [1, 2]\n",
    "        }),\n",
    "        'GradientBoosting': (GradientBoostingClassifier(), {\n",
    "            'n_estimators': [100, 200],\n",
    "            'learning_rate': [0.01, 0.1, 0.2],\n",
    "            'max_depth': [3, 5]\n",
    "        }),\n",
    "        'DecisionTree': (DecisionTreeClassifier(), {\n",
    "            'max_depth': [None, 10, 20],\n",
    "            'min_samples_split': [2, 5, 10],\n",
    "            'min_samples_leaf': [1, 2, 5]\n",
    "        }),\n",
    "        'SVC': (SVC(), {\n",
    "            'C': [0.1, 1, 10],\n",
    "            'kernel': ['linear', 'rbf'],\n",
    "            'gamma': ['scale', 'auto']\n",
    "        }),\n",
    "        'KNeighbors': (KNeighborsClassifier(), {\n",
    "            'n_neighbors': [3, 5, 7],\n",
    "            'weights': ['uniform', 'distance'],\n",
    "            'metric': ['euclidean', 'manhattan']\n",
    "        }),\n",
    "        'LogisticRegression': (LogisticRegression(), {\n",
    "            'C': [0.1, 1, 10],\n",
    "            'penalty': ['l2'],\n",
    "            'solver': ['lbfgs', 'liblinear']\n",
    "        }),\n",
    "        'NaiveBayes': (GaussianNB(), {})  # No hyperparameters for Naive Bayes\n",
    "    }\n",
    "\n",
    "    results = []\n",
    "\n",
    "    print(\"Training models...\\n\")\n",
    "\n",
    "    # Train and evaluate each classifier\n",
    "    for model_name, (classifier, param_grid) in classifiers.items():\n",
    "        print(f'Training {model_name}...')\n",
    "        \n",
    "        if param_grid:\n",
    "            grid_search = GridSearchCV(classifier, param_grid, cv=5, scoring='accuracy', n_jobs=-1)\n",
    "            model = grid_search.fit(X_scaled, y)\n",
    "            best_params = model.best_params_\n",
    "            best_model = model.best_estimator_\n",
    "        else:\n",
    "            best_model = classifier.fit(X_scaled, y)\n",
    "            best_params = {}\n",
    "\n",
    "        # Get the training accuracy\n",
    "        train_accuracy = accuracy_score(y, best_model.predict(X_scaled))\n",
    "\n",
    "        # Store the results\n",
    "        results.append({\n",
    "            'model': model_name,\n",
    "            'parameters': best_params,\n",
    "            'train_accuracy': train_accuracy,\n",
    "            'best_model_instance': best_model\n",
    "        })\n",
    "\n",
    "        print(f'{model_name} Training Accuracy: {train_accuracy:.4f}')\n",
    "        print(f'Best Parameters: {best_params}\\n')\n",
    "\n",
    "    # Sort by training accuracy and choose the best model\n",
    "    results.sort(key=lambda x: x['train_accuracy'], reverse=True)\n",
    "    best_model = results[0]['best_model_instance']\n",
    "\n",
    "    print(f'\\nBest Model: {results[0][\"model\"]}')\n",
    "    print(f'Train Accuracy: {results[0][\"train_accuracy\"]:.4f}')\n",
    "    print(f'Best Parameters: {results[0][\"parameters\"]}\\n')\n",
    "\n",
    "    return best_model, scaler\n",
    "\n",
    "\n",
    "# Define target variable and features for training\n",
    "y = training_df_titanic['Survived']\n",
    "X = training_df_titanic.drop(columns=['Survived'], axis=1)\n",
    "\n",
    "# Train the best classifier and get the scaler\n",
    "best_model, scaler = best_classifier(X, y)\n"
   ]
  },
  {
   "cell_type": "markdown",
   "id": "cea2306e",
   "metadata": {
    "papermill": {
     "duration": 0.014831,
     "end_time": "2024-11-04T21:40:30.182295",
     "exception": false,
     "start_time": "2024-11-04T21:40:30.167464",
     "status": "completed"
    },
    "tags": []
   },
   "source": [
    "**Save the best model not to be changed**"
   ]
  },
  {
   "cell_type": "code",
   "execution_count": 24,
   "id": "877cb0dc",
   "metadata": {
    "execution": {
     "iopub.execute_input": "2024-11-04T21:40:30.218381Z",
     "iopub.status.busy": "2024-11-04T21:40:30.217001Z",
     "iopub.status.idle": "2024-11-04T21:40:30.246626Z",
     "shell.execute_reply": "2024-11-04T21:40:30.245217Z"
    },
    "papermill": {
     "duration": 0.050275,
     "end_time": "2024-11-04T21:40:30.249740",
     "exception": false,
     "start_time": "2024-11-04T21:40:30.199465",
     "status": "completed"
    },
    "tags": []
   },
   "outputs": [],
   "source": [
    "# save the best model\n",
    "import joblib\n",
    "joblib.dump(best_model, 'best_model.pkl')\n",
    "joblib.dump(scaler, 'scaler.pkl')\n",
    "\n",
    "# Load the best model and scaler\n",
    "loaded_model = joblib.load('best_model.pkl')\n",
    "loaded_scaler = joblib.load('scaler.pkl')\n"
   ]
  },
  {
   "cell_type": "code",
   "execution_count": 25,
   "id": "6c6bbc98",
   "metadata": {
    "execution": {
     "iopub.execute_input": "2024-11-04T21:40:30.291717Z",
     "iopub.status.busy": "2024-11-04T21:40:30.291121Z",
     "iopub.status.idle": "2024-11-04T21:40:30.315879Z",
     "shell.execute_reply": "2024-11-04T21:40:30.314543Z"
    },
    "papermill": {
     "duration": 0.052623,
     "end_time": "2024-11-04T21:40:30.319600",
     "exception": false,
     "start_time": "2024-11-04T21:40:30.266977",
     "status": "completed"
    },
    "tags": []
   },
   "outputs": [],
   "source": [
    "# Scale the test dataset\n",
    "X_test_scaled = loaded_scaler.transform(test_df_titanic)\n",
    "\n",
    "# Make predictions\n",
    "predictions = loaded_model.predict(X_test_scaled)\n",
    "\n",
    "# Create a submission DataFrame\n",
    "submission = pd.DataFrame({\n",
    "    'PassengerId': pd.read_csv('/kaggle/input/datasets-titanic-mukama/test.csv')['PassengerId'],\n",
    "    'Survived': predictions\n",
    "})\n",
    "\n",
    "# Save the submission DataFrame to a CSV file\n",
    "submission.to_csv('submission.csv', index=False)"
   ]
  },
  {
   "cell_type": "code",
   "execution_count": 26,
   "id": "47639133",
   "metadata": {
    "execution": {
     "iopub.execute_input": "2024-11-04T21:40:30.352661Z",
     "iopub.status.busy": "2024-11-04T21:40:30.351756Z",
     "iopub.status.idle": "2024-11-04T21:40:30.362957Z",
     "shell.execute_reply": "2024-11-04T21:40:30.361663Z"
    },
    "papermill": {
     "duration": 0.030656,
     "end_time": "2024-11-04T21:40:30.365645",
     "exception": false,
     "start_time": "2024-11-04T21:40:30.334989",
     "status": "completed"
    },
    "tags": []
   },
   "outputs": [
    {
     "data": {
      "text/plain": [
       "418"
      ]
     },
     "execution_count": 26,
     "metadata": {},
     "output_type": "execute_result"
    }
   ],
   "source": [
    "# check the submission file\n",
    "submission_df = pd.read_csv('submission.csv')\n",
    "len(submission_df)"
   ]
  },
  {
   "cell_type": "code",
   "execution_count": null,
   "id": "7c027c1c",
   "metadata": {
    "papermill": {
     "duration": 0.014979,
     "end_time": "2024-11-04T21:40:30.395611",
     "exception": false,
     "start_time": "2024-11-04T21:40:30.380632",
     "status": "completed"
    },
    "tags": []
   },
   "outputs": [],
   "source": []
  }
 ],
 "metadata": {
  "kaggle": {
   "accelerator": "none",
   "dataSources": [
    {
     "datasetId": 6009969,
     "sourceId": 9805181,
     "sourceType": "datasetVersion"
    }
   ],
   "dockerImageVersionId": 30786,
   "isGpuEnabled": false,
   "isInternetEnabled": false,
   "language": "python",
   "sourceType": "notebook"
  },
  "kernelspec": {
   "display_name": "base",
   "language": "python",
   "name": "python3"
  },
  "language_info": {
   "codemirror_mode": {
    "name": "ipython",
    "version": 3
   },
   "file_extension": ".py",
   "mimetype": "text/x-python",
   "name": "python",
   "nbconvert_exporter": "python",
   "pygments_lexer": "ipython3",
   "version": "3.12.4"
  },
  "papermill": {
   "default_parameters": {},
   "duration": 46.332498,
   "end_time": "2024-11-04T21:40:33.039022",
   "environment_variables": {},
   "exception": null,
   "input_path": "__notebook__.ipynb",
   "output_path": "__notebook__.ipynb",
   "parameters": {},
   "start_time": "2024-11-04T21:39:46.706524",
   "version": "2.6.0"
  }
 },
 "nbformat": 4,
 "nbformat_minor": 5
}
